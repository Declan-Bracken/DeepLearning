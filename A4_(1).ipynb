{
  "cells": [
    {
      "cell_type": "markdown",
      "metadata": {
        "id": "_bphECiUa9zw"
      },
      "source": [
        "# Assignment 4: Movie Review Analysis [50 Pt]\n",
        "\n",
        "In this assignment, we will build a recurrent neural network to work with sequential text data, specificially, movie review data to identify the reviewer sentiment. In the process of completing this assignment, you will:\n",
        "    \n",
        "1. Clean and process text data for machine learning.\n",
        "2. Perform tokenization of text data.\n",
        "3. Understand and implement a word-level recurrent neural network.\n",
        "4. Implement batching of text data using a DataLoader before training a recurrent neural network.\n",
        "5. Understand how to apply pretrained models for transfer learning in natural language processing projects.\n",
        "\n",
        "### What to submit\n",
        "\n",
        "Submit an HTML file containing all your code, outputs, and write-up\n",
        "from parts A and B. You can produce a HTML file directly from Google Colab. The Colab instructions are provided at the end of this document.\n",
        "\n",
        "**Do not submit any other files produced by your code.**\n",
        "\n",
        "Include a link to your colab file in your submission.\n",
        "\n",
        "Please use Google Colab to complete this assignment. If you want to use Jupyter Notebook, please complete the assignment and upload your Jupyter Notebook file to Google Colab for submission."
      ]
    },
    {
      "cell_type": "markdown",
      "metadata": {
        "id": "rWiUqJJTa9z6"
      },
      "source": [
        "## Colab Link\n",
        "\n",
        "Include a link to your Colab file here. If you would like the TA to look at your Colab file in case your solutions are cut off, **please make sure that your Colab file is publicly accessible at the time of submission.**"
      ]
    },
    {
      "cell_type": "code",
      "execution_count": null,
      "metadata": {
        "id": "rk7aDAaR2_wz"
      },
      "outputs": [],
      "source": [
        "# TO BE COMPLETED\n",
        "\n",
        "https://colab.research.google.com/drive/1DYtYpgKCcKMfUTD8GDplfoCVM9e_VxRy?authuser=1#scrollTo=HgfNOUaPa9z8"
      ]
    },
    {
      "cell_type": "markdown",
      "metadata": {
        "id": "fFMdtipUPNdu"
      },
      "source": [
        "# PART A - Sentiment Analysis\n",
        "\n",
        "In this part we will construct a world-level LSTM model for identifying positive and negative reviews. This will be done in a similar way to what was shared in the preparation code for Assignment 4."
      ]
    },
    {
      "cell_type": "code",
      "execution_count": 1,
      "metadata": {
        "colab": {
          "base_uri": "https://localhost:8080/"
        },
        "id": "HgfNOUaPa9z8",
        "outputId": "7aa88d98-81fa-4481-efd1-15662d6744fe"
      },
      "outputs": [
        {
          "output_type": "stream",
          "name": "stderr",
          "text": [
            "[nltk_data] Downloading package stopwords to /root/nltk_data...\n",
            "[nltk_data]   Unzipping corpora/stopwords.zip.\n"
          ]
        }
      ],
      "source": [
        "# load standard modules/libraries\n",
        "import pandas as pd\n",
        "import numpy as np\n",
        "import matplotlib.pyplot as plt\n",
        "import seaborn as sns\n",
        "from sklearn.model_selection import train_test_split\n",
        "\n",
        "# load special modules/libraries\n",
        "import os\n",
        "import warnings\n",
        "import nltk\n",
        "from nltk.corpus import stopwords\n",
        "nltk.download('stopwords')\n",
        "\n",
        "from collections import Counter\n",
        "import string\n",
        "import re\n",
        "from tqdm  import tqdm\n",
        "\n",
        "# load pytorch modules/libraries\n",
        "import torch\n",
        "import torch.nn as nn\n",
        "import torch.nn.functional as F\n",
        "import torch.optim as optim\n",
        "from torch.utils.data import TensorDataset,DataLoader\n"
      ]
    },
    {
      "cell_type": "markdown",
      "metadata": {
        "id": "M0jLI9LBa90C"
      },
      "source": [
        "## Part 1. Data Cleaning [5 pt]\n",
        "\n",
        "We will be using the \"IMDB Movie Review Dataset\" provided on the course website. Download \"IMDB Dataset.csv\" into your Colab workspace."
      ]
    },
    {
      "cell_type": "markdown",
      "metadata": {
        "id": "sSuF7C_Ga90E"
      },
      "source": [
        "### Part (i) [1pt EXPLORATORY]\n",
        "\n",
        "Open up the file in Python, and examine some examples of positive and negative reviews. Comment on the quality of the data and any challenges you foresee in working with these data. Pick one example of a positive review and one of a negative review to support your comments."
      ]
    },
    {
      "cell_type": "code",
      "execution_count": 4,
      "metadata": {
        "id": "I_IfXHeTa90F"
      },
      "outputs": [],
      "source": [
        "# download IMDB review data\n",
        "\n",
        "# load dataset\n",
        "df = pd.read_csv(\"IMDB Dataset.csv\")\n",
        "\n",
        "# process into data and labels\n",
        "X = df['review'].values\n",
        "y = df['sentiment'].values\n"
      ]
    },
    {
      "cell_type": "code",
      "execution_count": 6,
      "metadata": {
        "colab": {
          "base_uri": "https://localhost:8080/",
          "height": 206
        },
        "id": "8DEb5pmh07Ka",
        "outputId": "f8311b9d-a66c-408f-cb01-7f6c24c0eed9"
      },
      "outputs": [
        {
          "output_type": "execute_result",
          "data": {
            "text/plain": [
              "                                              review sentiment  review_length\n",
              "0  One of the other reviewers has mentioned that ...  positive           1761\n",
              "1  A wonderful little production. <br /><br />The...  positive            998\n",
              "2  I thought this was a wonderful way to spend ti...  positive            926\n",
              "4  Petter Mattei's \"Love in the Time of Money\" is...  positive           1317\n",
              "5  Probably my all-time favorite movie, a story o...  positive            656"
            ],
            "text/html": [
              "\n",
              "  <div id=\"df-c430f44e-07ec-4a18-984f-e86bd40ad9dd\" class=\"colab-df-container\">\n",
              "    <div>\n",
              "<style scoped>\n",
              "    .dataframe tbody tr th:only-of-type {\n",
              "        vertical-align: middle;\n",
              "    }\n",
              "\n",
              "    .dataframe tbody tr th {\n",
              "        vertical-align: top;\n",
              "    }\n",
              "\n",
              "    .dataframe thead th {\n",
              "        text-align: right;\n",
              "    }\n",
              "</style>\n",
              "<table border=\"1\" class=\"dataframe\">\n",
              "  <thead>\n",
              "    <tr style=\"text-align: right;\">\n",
              "      <th></th>\n",
              "      <th>review</th>\n",
              "      <th>sentiment</th>\n",
              "      <th>review_length</th>\n",
              "    </tr>\n",
              "  </thead>\n",
              "  <tbody>\n",
              "    <tr>\n",
              "      <th>0</th>\n",
              "      <td>One of the other reviewers has mentioned that ...</td>\n",
              "      <td>positive</td>\n",
              "      <td>1761</td>\n",
              "    </tr>\n",
              "    <tr>\n",
              "      <th>1</th>\n",
              "      <td>A wonderful little production. &lt;br /&gt;&lt;br /&gt;The...</td>\n",
              "      <td>positive</td>\n",
              "      <td>998</td>\n",
              "    </tr>\n",
              "    <tr>\n",
              "      <th>2</th>\n",
              "      <td>I thought this was a wonderful way to spend ti...</td>\n",
              "      <td>positive</td>\n",
              "      <td>926</td>\n",
              "    </tr>\n",
              "    <tr>\n",
              "      <th>4</th>\n",
              "      <td>Petter Mattei's \"Love in the Time of Money\" is...</td>\n",
              "      <td>positive</td>\n",
              "      <td>1317</td>\n",
              "    </tr>\n",
              "    <tr>\n",
              "      <th>5</th>\n",
              "      <td>Probably my all-time favorite movie, a story o...</td>\n",
              "      <td>positive</td>\n",
              "      <td>656</td>\n",
              "    </tr>\n",
              "  </tbody>\n",
              "</table>\n",
              "</div>\n",
              "    <div class=\"colab-df-buttons\">\n",
              "\n",
              "  <div class=\"colab-df-container\">\n",
              "    <button class=\"colab-df-convert\" onclick=\"convertToInteractive('df-c430f44e-07ec-4a18-984f-e86bd40ad9dd')\"\n",
              "            title=\"Convert this dataframe to an interactive table.\"\n",
              "            style=\"display:none;\">\n",
              "\n",
              "  <svg xmlns=\"http://www.w3.org/2000/svg\" height=\"24px\" viewBox=\"0 -960 960 960\">\n",
              "    <path d=\"M120-120v-720h720v720H120Zm60-500h600v-160H180v160Zm220 220h160v-160H400v160Zm0 220h160v-160H400v160ZM180-400h160v-160H180v160Zm440 0h160v-160H620v160ZM180-180h160v-160H180v160Zm440 0h160v-160H620v160Z\"/>\n",
              "  </svg>\n",
              "    </button>\n",
              "\n",
              "  <style>\n",
              "    .colab-df-container {\n",
              "      display:flex;\n",
              "      gap: 12px;\n",
              "    }\n",
              "\n",
              "    .colab-df-convert {\n",
              "      background-color: #E8F0FE;\n",
              "      border: none;\n",
              "      border-radius: 50%;\n",
              "      cursor: pointer;\n",
              "      display: none;\n",
              "      fill: #1967D2;\n",
              "      height: 32px;\n",
              "      padding: 0 0 0 0;\n",
              "      width: 32px;\n",
              "    }\n",
              "\n",
              "    .colab-df-convert:hover {\n",
              "      background-color: #E2EBFA;\n",
              "      box-shadow: 0px 1px 2px rgba(60, 64, 67, 0.3), 0px 1px 3px 1px rgba(60, 64, 67, 0.15);\n",
              "      fill: #174EA6;\n",
              "    }\n",
              "\n",
              "    .colab-df-buttons div {\n",
              "      margin-bottom: 4px;\n",
              "    }\n",
              "\n",
              "    [theme=dark] .colab-df-convert {\n",
              "      background-color: #3B4455;\n",
              "      fill: #D2E3FC;\n",
              "    }\n",
              "\n",
              "    [theme=dark] .colab-df-convert:hover {\n",
              "      background-color: #434B5C;\n",
              "      box-shadow: 0px 1px 3px 1px rgba(0, 0, 0, 0.15);\n",
              "      filter: drop-shadow(0px 1px 2px rgba(0, 0, 0, 0.3));\n",
              "      fill: #FFFFFF;\n",
              "    }\n",
              "  </style>\n",
              "\n",
              "    <script>\n",
              "      const buttonEl =\n",
              "        document.querySelector('#df-c430f44e-07ec-4a18-984f-e86bd40ad9dd button.colab-df-convert');\n",
              "      buttonEl.style.display =\n",
              "        google.colab.kernel.accessAllowed ? 'block' : 'none';\n",
              "\n",
              "      async function convertToInteractive(key) {\n",
              "        const element = document.querySelector('#df-c430f44e-07ec-4a18-984f-e86bd40ad9dd');\n",
              "        const dataTable =\n",
              "          await google.colab.kernel.invokeFunction('convertToInteractive',\n",
              "                                                    [key], {});\n",
              "        if (!dataTable) return;\n",
              "\n",
              "        const docLinkHtml = 'Like what you see? Visit the ' +\n",
              "          '<a target=\"_blank\" href=https://colab.research.google.com/notebooks/data_table.ipynb>data table notebook</a>'\n",
              "          + ' to learn more about interactive tables.';\n",
              "        element.innerHTML = '';\n",
              "        dataTable['output_type'] = 'display_data';\n",
              "        await google.colab.output.renderOutput(dataTable, element);\n",
              "        const docLink = document.createElement('div');\n",
              "        docLink.innerHTML = docLinkHtml;\n",
              "        element.appendChild(docLink);\n",
              "      }\n",
              "    </script>\n",
              "  </div>\n",
              "\n",
              "\n",
              "<div id=\"df-37277da2-262b-48be-be5f-cf939e0ccd6e\">\n",
              "  <button class=\"colab-df-quickchart\" onclick=\"quickchart('df-37277da2-262b-48be-be5f-cf939e0ccd6e')\"\n",
              "            title=\"Suggest charts\"\n",
              "            style=\"display:none;\">\n",
              "\n",
              "<svg xmlns=\"http://www.w3.org/2000/svg\" height=\"24px\"viewBox=\"0 0 24 24\"\n",
              "     width=\"24px\">\n",
              "    <g>\n",
              "        <path d=\"M19 3H5c-1.1 0-2 .9-2 2v14c0 1.1.9 2 2 2h14c1.1 0 2-.9 2-2V5c0-1.1-.9-2-2-2zM9 17H7v-7h2v7zm4 0h-2V7h2v10zm4 0h-2v-4h2v4z\"/>\n",
              "    </g>\n",
              "</svg>\n",
              "  </button>\n",
              "\n",
              "<style>\n",
              "  .colab-df-quickchart {\n",
              "      --bg-color: #E8F0FE;\n",
              "      --fill-color: #1967D2;\n",
              "      --hover-bg-color: #E2EBFA;\n",
              "      --hover-fill-color: #174EA6;\n",
              "      --disabled-fill-color: #AAA;\n",
              "      --disabled-bg-color: #DDD;\n",
              "  }\n",
              "\n",
              "  [theme=dark] .colab-df-quickchart {\n",
              "      --bg-color: #3B4455;\n",
              "      --fill-color: #D2E3FC;\n",
              "      --hover-bg-color: #434B5C;\n",
              "      --hover-fill-color: #FFFFFF;\n",
              "      --disabled-bg-color: #3B4455;\n",
              "      --disabled-fill-color: #666;\n",
              "  }\n",
              "\n",
              "  .colab-df-quickchart {\n",
              "    background-color: var(--bg-color);\n",
              "    border: none;\n",
              "    border-radius: 50%;\n",
              "    cursor: pointer;\n",
              "    display: none;\n",
              "    fill: var(--fill-color);\n",
              "    height: 32px;\n",
              "    padding: 0;\n",
              "    width: 32px;\n",
              "  }\n",
              "\n",
              "  .colab-df-quickchart:hover {\n",
              "    background-color: var(--hover-bg-color);\n",
              "    box-shadow: 0 1px 2px rgba(60, 64, 67, 0.3), 0 1px 3px 1px rgba(60, 64, 67, 0.15);\n",
              "    fill: var(--button-hover-fill-color);\n",
              "  }\n",
              "\n",
              "  .colab-df-quickchart-complete:disabled,\n",
              "  .colab-df-quickchart-complete:disabled:hover {\n",
              "    background-color: var(--disabled-bg-color);\n",
              "    fill: var(--disabled-fill-color);\n",
              "    box-shadow: none;\n",
              "  }\n",
              "\n",
              "  .colab-df-spinner {\n",
              "    border: 2px solid var(--fill-color);\n",
              "    border-color: transparent;\n",
              "    border-bottom-color: var(--fill-color);\n",
              "    animation:\n",
              "      spin 1s steps(1) infinite;\n",
              "  }\n",
              "\n",
              "  @keyframes spin {\n",
              "    0% {\n",
              "      border-color: transparent;\n",
              "      border-bottom-color: var(--fill-color);\n",
              "      border-left-color: var(--fill-color);\n",
              "    }\n",
              "    20% {\n",
              "      border-color: transparent;\n",
              "      border-left-color: var(--fill-color);\n",
              "      border-top-color: var(--fill-color);\n",
              "    }\n",
              "    30% {\n",
              "      border-color: transparent;\n",
              "      border-left-color: var(--fill-color);\n",
              "      border-top-color: var(--fill-color);\n",
              "      border-right-color: var(--fill-color);\n",
              "    }\n",
              "    40% {\n",
              "      border-color: transparent;\n",
              "      border-right-color: var(--fill-color);\n",
              "      border-top-color: var(--fill-color);\n",
              "    }\n",
              "    60% {\n",
              "      border-color: transparent;\n",
              "      border-right-color: var(--fill-color);\n",
              "    }\n",
              "    80% {\n",
              "      border-color: transparent;\n",
              "      border-right-color: var(--fill-color);\n",
              "      border-bottom-color: var(--fill-color);\n",
              "    }\n",
              "    90% {\n",
              "      border-color: transparent;\n",
              "      border-bottom-color: var(--fill-color);\n",
              "    }\n",
              "  }\n",
              "</style>\n",
              "\n",
              "  <script>\n",
              "    async function quickchart(key) {\n",
              "      const quickchartButtonEl =\n",
              "        document.querySelector('#' + key + ' button');\n",
              "      quickchartButtonEl.disabled = true;  // To prevent multiple clicks.\n",
              "      quickchartButtonEl.classList.add('colab-df-spinner');\n",
              "      try {\n",
              "        const charts = await google.colab.kernel.invokeFunction(\n",
              "            'suggestCharts', [key], {});\n",
              "      } catch (error) {\n",
              "        console.error('Error during call to suggestCharts:', error);\n",
              "      }\n",
              "      quickchartButtonEl.classList.remove('colab-df-spinner');\n",
              "      quickchartButtonEl.classList.add('colab-df-quickchart-complete');\n",
              "    }\n",
              "    (() => {\n",
              "      let quickchartButtonEl =\n",
              "        document.querySelector('#df-37277da2-262b-48be-be5f-cf939e0ccd6e button');\n",
              "      quickchartButtonEl.style.display =\n",
              "        google.colab.kernel.accessAllowed ? 'block' : 'none';\n",
              "    })();\n",
              "  </script>\n",
              "</div>\n",
              "    </div>\n",
              "  </div>\n"
            ]
          },
          "metadata": {},
          "execution_count": 6
        }
      ],
      "source": [
        "# TO BE COMPLETED\n",
        "df_pos = df[df['sentiment'] == 'positive']\n",
        "df_neg = df[df['sentiment'] == 'negative']\n",
        "df_pos.head()"
      ]
    },
    {
      "cell_type": "code",
      "execution_count": null,
      "metadata": {
        "colab": {
          "base_uri": "https://localhost:8080/",
          "height": 610
        },
        "id": "dH7DwqwpnQCP",
        "outputId": "8ba7c951-26aa-4ec4-bfe5-4b3142fc9b1d"
      },
      "outputs": [
        {
          "data": {
            "text/html": [
              "\n",
              "  <div id=\"df-18a3c8a4-6107-4262-9fa7-2bec53e5ce1d\" class=\"colab-df-container\">\n",
              "    <div>\n",
              "<style scoped>\n",
              "    .dataframe tbody tr th:only-of-type {\n",
              "        vertical-align: middle;\n",
              "    }\n",
              "\n",
              "    .dataframe tbody tr th {\n",
              "        vertical-align: top;\n",
              "    }\n",
              "\n",
              "    .dataframe thead th {\n",
              "        text-align: right;\n",
              "    }\n",
              "</style>\n",
              "<table border=\"1\" class=\"dataframe\">\n",
              "  <thead>\n",
              "    <tr style=\"text-align: right;\">\n",
              "      <th></th>\n",
              "      <th>review</th>\n",
              "      <th>sentiment</th>\n",
              "    </tr>\n",
              "  </thead>\n",
              "  <tbody>\n",
              "    <tr>\n",
              "      <th>3</th>\n",
              "      <td>Basically there's a family where a little boy ...</td>\n",
              "      <td>negative</td>\n",
              "    </tr>\n",
              "    <tr>\n",
              "      <th>7</th>\n",
              "      <td>This show was an amazing, fresh &amp; innovative i...</td>\n",
              "      <td>negative</td>\n",
              "    </tr>\n",
              "    <tr>\n",
              "      <th>8</th>\n",
              "      <td>Encouraged by the positive comments about this...</td>\n",
              "      <td>negative</td>\n",
              "    </tr>\n",
              "    <tr>\n",
              "      <th>10</th>\n",
              "      <td>Phil the Alien is one of those quirky films wh...</td>\n",
              "      <td>negative</td>\n",
              "    </tr>\n",
              "    <tr>\n",
              "      <th>11</th>\n",
              "      <td>I saw this movie when I was about 12 when it c...</td>\n",
              "      <td>negative</td>\n",
              "    </tr>\n",
              "  </tbody>\n",
              "</table>\n",
              "</div>\n",
              "    <div class=\"colab-df-buttons\">\n",
              "\n",
              "  <div class=\"colab-df-container\">\n",
              "    <button class=\"colab-df-convert\" onclick=\"convertToInteractive('df-18a3c8a4-6107-4262-9fa7-2bec53e5ce1d')\"\n",
              "            title=\"Convert this dataframe to an interactive table.\"\n",
              "            style=\"display:none;\">\n",
              "\n",
              "  <svg xmlns=\"http://www.w3.org/2000/svg\" height=\"24px\" viewBox=\"0 -960 960 960\">\n",
              "    <path d=\"M120-120v-720h720v720H120Zm60-500h600v-160H180v160Zm220 220h160v-160H400v160Zm0 220h160v-160H400v160ZM180-400h160v-160H180v160Zm440 0h160v-160H620v160ZM180-180h160v-160H180v160Zm440 0h160v-160H620v160Z\"/>\n",
              "  </svg>\n",
              "    </button>\n",
              "\n",
              "  <style>\n",
              "    .colab-df-container {\n",
              "      display:flex;\n",
              "      gap: 12px;\n",
              "    }\n",
              "\n",
              "    .colab-df-convert {\n",
              "      background-color: #E8F0FE;\n",
              "      border: none;\n",
              "      border-radius: 50%;\n",
              "      cursor: pointer;\n",
              "      display: none;\n",
              "      fill: #1967D2;\n",
              "      height: 32px;\n",
              "      padding: 0 0 0 0;\n",
              "      width: 32px;\n",
              "    }\n",
              "\n",
              "    .colab-df-convert:hover {\n",
              "      background-color: #E2EBFA;\n",
              "      box-shadow: 0px 1px 2px rgba(60, 64, 67, 0.3), 0px 1px 3px 1px rgba(60, 64, 67, 0.15);\n",
              "      fill: #174EA6;\n",
              "    }\n",
              "\n",
              "    .colab-df-buttons div {\n",
              "      margin-bottom: 4px;\n",
              "    }\n",
              "\n",
              "    [theme=dark] .colab-df-convert {\n",
              "      background-color: #3B4455;\n",
              "      fill: #D2E3FC;\n",
              "    }\n",
              "\n",
              "    [theme=dark] .colab-df-convert:hover {\n",
              "      background-color: #434B5C;\n",
              "      box-shadow: 0px 1px 3px 1px rgba(0, 0, 0, 0.15);\n",
              "      filter: drop-shadow(0px 1px 2px rgba(0, 0, 0, 0.3));\n",
              "      fill: #FFFFFF;\n",
              "    }\n",
              "  </style>\n",
              "\n",
              "    <script>\n",
              "      const buttonEl =\n",
              "        document.querySelector('#df-18a3c8a4-6107-4262-9fa7-2bec53e5ce1d button.colab-df-convert');\n",
              "      buttonEl.style.display =\n",
              "        google.colab.kernel.accessAllowed ? 'block' : 'none';\n",
              "\n",
              "      async function convertToInteractive(key) {\n",
              "        const element = document.querySelector('#df-18a3c8a4-6107-4262-9fa7-2bec53e5ce1d');\n",
              "        const dataTable =\n",
              "          await google.colab.kernel.invokeFunction('convertToInteractive',\n",
              "                                                    [key], {});\n",
              "        if (!dataTable) return;\n",
              "\n",
              "        const docLinkHtml = 'Like what you see? Visit the ' +\n",
              "          '<a target=\"_blank\" href=https://colab.research.google.com/notebooks/data_table.ipynb>data table notebook</a>'\n",
              "          + ' to learn more about interactive tables.';\n",
              "        element.innerHTML = '';\n",
              "        dataTable['output_type'] = 'display_data';\n",
              "        await google.colab.output.renderOutput(dataTable, element);\n",
              "        const docLink = document.createElement('div');\n",
              "        docLink.innerHTML = docLinkHtml;\n",
              "        element.appendChild(docLink);\n",
              "      }\n",
              "    </script>\n",
              "  </div>\n",
              "\n",
              "\n",
              "<div id=\"df-d2ab7617-2990-400b-8833-2f6ae5269f0c\">\n",
              "  <button class=\"colab-df-quickchart\" onclick=\"quickchart('df-d2ab7617-2990-400b-8833-2f6ae5269f0c')\"\n",
              "            title=\"Suggest charts\"\n",
              "            style=\"display:none;\">\n",
              "\n",
              "<svg xmlns=\"http://www.w3.org/2000/svg\" height=\"24px\"viewBox=\"0 0 24 24\"\n",
              "     width=\"24px\">\n",
              "    <g>\n",
              "        <path d=\"M19 3H5c-1.1 0-2 .9-2 2v14c0 1.1.9 2 2 2h14c1.1 0 2-.9 2-2V5c0-1.1-.9-2-2-2zM9 17H7v-7h2v7zm4 0h-2V7h2v10zm4 0h-2v-4h2v4z\"/>\n",
              "    </g>\n",
              "</svg>\n",
              "  </button>\n",
              "\n",
              "<style>\n",
              "  .colab-df-quickchart {\n",
              "      --bg-color: #E8F0FE;\n",
              "      --fill-color: #1967D2;\n",
              "      --hover-bg-color: #E2EBFA;\n",
              "      --hover-fill-color: #174EA6;\n",
              "      --disabled-fill-color: #AAA;\n",
              "      --disabled-bg-color: #DDD;\n",
              "  }\n",
              "\n",
              "  [theme=dark] .colab-df-quickchart {\n",
              "      --bg-color: #3B4455;\n",
              "      --fill-color: #D2E3FC;\n",
              "      --hover-bg-color: #434B5C;\n",
              "      --hover-fill-color: #FFFFFF;\n",
              "      --disabled-bg-color: #3B4455;\n",
              "      --disabled-fill-color: #666;\n",
              "  }\n",
              "\n",
              "  .colab-df-quickchart {\n",
              "    background-color: var(--bg-color);\n",
              "    border: none;\n",
              "    border-radius: 50%;\n",
              "    cursor: pointer;\n",
              "    display: none;\n",
              "    fill: var(--fill-color);\n",
              "    height: 32px;\n",
              "    padding: 0;\n",
              "    width: 32px;\n",
              "  }\n",
              "\n",
              "  .colab-df-quickchart:hover {\n",
              "    background-color: var(--hover-bg-color);\n",
              "    box-shadow: 0 1px 2px rgba(60, 64, 67, 0.3), 0 1px 3px 1px rgba(60, 64, 67, 0.15);\n",
              "    fill: var(--button-hover-fill-color);\n",
              "  }\n",
              "\n",
              "  .colab-df-quickchart-complete:disabled,\n",
              "  .colab-df-quickchart-complete:disabled:hover {\n",
              "    background-color: var(--disabled-bg-color);\n",
              "    fill: var(--disabled-fill-color);\n",
              "    box-shadow: none;\n",
              "  }\n",
              "\n",
              "  .colab-df-spinner {\n",
              "    border: 2px solid var(--fill-color);\n",
              "    border-color: transparent;\n",
              "    border-bottom-color: var(--fill-color);\n",
              "    animation:\n",
              "      spin 1s steps(1) infinite;\n",
              "  }\n",
              "\n",
              "  @keyframes spin {\n",
              "    0% {\n",
              "      border-color: transparent;\n",
              "      border-bottom-color: var(--fill-color);\n",
              "      border-left-color: var(--fill-color);\n",
              "    }\n",
              "    20% {\n",
              "      border-color: transparent;\n",
              "      border-left-color: var(--fill-color);\n",
              "      border-top-color: var(--fill-color);\n",
              "    }\n",
              "    30% {\n",
              "      border-color: transparent;\n",
              "      border-left-color: var(--fill-color);\n",
              "      border-top-color: var(--fill-color);\n",
              "      border-right-color: var(--fill-color);\n",
              "    }\n",
              "    40% {\n",
              "      border-color: transparent;\n",
              "      border-right-color: var(--fill-color);\n",
              "      border-top-color: var(--fill-color);\n",
              "    }\n",
              "    60% {\n",
              "      border-color: transparent;\n",
              "      border-right-color: var(--fill-color);\n",
              "    }\n",
              "    80% {\n",
              "      border-color: transparent;\n",
              "      border-right-color: var(--fill-color);\n",
              "      border-bottom-color: var(--fill-color);\n",
              "    }\n",
              "    90% {\n",
              "      border-color: transparent;\n",
              "      border-bottom-color: var(--fill-color);\n",
              "    }\n",
              "  }\n",
              "</style>\n",
              "\n",
              "  <script>\n",
              "    async function quickchart(key) {\n",
              "      const quickchartButtonEl =\n",
              "        document.querySelector('#' + key + ' button');\n",
              "      quickchartButtonEl.disabled = true;  // To prevent multiple clicks.\n",
              "      quickchartButtonEl.classList.add('colab-df-spinner');\n",
              "      try {\n",
              "        const charts = await google.colab.kernel.invokeFunction(\n",
              "            'suggestCharts', [key], {});\n",
              "      } catch (error) {\n",
              "        console.error('Error during call to suggestCharts:', error);\n",
              "      }\n",
              "      quickchartButtonEl.classList.remove('colab-df-spinner');\n",
              "      quickchartButtonEl.classList.add('colab-df-quickchart-complete');\n",
              "    }\n",
              "    (() => {\n",
              "      let quickchartButtonEl =\n",
              "        document.querySelector('#df-d2ab7617-2990-400b-8833-2f6ae5269f0c button');\n",
              "      quickchartButtonEl.style.display =\n",
              "        google.colab.kernel.accessAllowed ? 'block' : 'none';\n",
              "    })();\n",
              "  </script>\n",
              "</div>\n",
              "    </div>\n",
              "  </div>\n"
            ],
            "text/plain": [
              "                                               review sentiment\n",
              "3   Basically there's a family where a little boy ...  negative\n",
              "7   This show was an amazing, fresh & innovative i...  negative\n",
              "8   Encouraged by the positive comments about this...  negative\n",
              "10  Phil the Alien is one of those quirky films wh...  negative\n",
              "11  I saw this movie when I was about 12 when it c...  negative"
            ]
          },
          "execution_count": 9,
          "metadata": {},
          "output_type": "execute_result"
        }
      ],
      "source": [
        "df_neg.head()"
      ]
    },
    {
      "cell_type": "code",
      "execution_count": null,
      "metadata": {
        "colab": {
          "base_uri": "https://localhost:8080/",
          "height": 88
        },
        "id": "fcIjeLLk0sE2",
        "outputId": "43f5069e-a620-4767-b18b-058d873df7a0"
      },
      "outputs": [
        {
          "data": {
            "application/vnd.google.colaboratory.intrinsic+json": {
              "type": "string"
            },
            "text/plain": [
              "\"\\nPROVIDE YOUR ANSWER BELOW\\nThe data is in paragraph form with variable entry length. This variety in the\\nin the length of the paragraphs could pose problems, or slow down processing, as\\nwe'll likely need to pad all the entries for a batch to the largest size.\\n\\nAdditionaly, there are html tags: '<br /><br />' embedded into any given entry.\\n\\n\\n\\n\\n\\n\""
            ]
          },
          "execution_count": 17,
          "metadata": {},
          "output_type": "execute_result"
        }
      ],
      "source": [
        "'''\n",
        "PROVIDE YOUR ANSWER BELOW\n",
        "The data is in paragraph form with variable entry length. This variety in the\n",
        "in the length of the paragraphs could pose problems, or slow down processing, as\n",
        "we'll likely need to pad all the entries for a batch to the largest size.\n",
        "\n",
        "Additionaly, there are html tags '<br /><br />' embedded into any given entry.\n",
        "These tags will need to be cleaned before we can use the data for training or\n",
        "validation.\n",
        "\n",
        "Another issue is writing style, potential spelling mistakes, and slang.\n",
        "The presence of phrases like \"has got all the polari\" suggests that reviewers\n",
        "might use slang or colloquial language. This can pose a challenge for text\n",
        "analysis, as such expressions might not be universally recognized or could have\n",
        "multiple meanings.\n",
        "\n",
        "These challenges can be seen in indexed samples 1 and 3 above, where the\n",
        "paragraph length varies greatly between entries. Additionaly pop-culture references\n",
        "and slang are present with references such as \"has got all the polari\", or\n",
        "\"expected to see a BOOGEYMAN similar movie\", add a layer of context and\n",
        "personalized writing style to the entries which may be difficult to decipher.\n",
        "\n",
        "\n",
        "\n",
        "'''\n"
      ]
    },
    {
      "cell_type": "markdown",
      "metadata": {
        "id": "QaDPP2Ei5k8W"
      },
      "source": [
        "### Part (ii) [1pt EXPLORATORY]\n",
        "\n",
        "Perform summary statistics on the dataset. What is the average character length of a review? What are the lengths of the longest and shortest reviews?\n",
        "\n",
        "How many positive reviews and negative reviews are there. Generate a histogram to compare the average character length for positive and negative reviews. Comment on the differences in positive and negative reviews and how that may affect the model you will be using later."
      ]
    },
    {
      "cell_type": "code",
      "execution_count": 7,
      "metadata": {
        "colab": {
          "base_uri": "https://localhost:8080/",
          "height": 608
        },
        "id": "G5SRXZ4V6F4t",
        "outputId": "3bda4d32-74eb-4200-be02-a1800f145328"
      },
      "outputs": [
        {
          "output_type": "display_data",
          "data": {
            "text/plain": [
              "<Figure size 640x480 with 1 Axes>"
            ],
            "image/png": "[encoded data removed]"
          },
          "metadata": {}
        },
        {
          "output_type": "stream",
          "name": "stdout",
          "text": [
            "Average Review Length: 1309.43102\n",
            "Longest Review Length: 13704\n",
            "Shortest Review Length: 32\n",
            "Number of Positive Reviews: 25000\n",
            "Number of Negative Reviews: 25000\n"
          ]
        }
      ],
      "source": [
        "# TO BE COMPLETED\n",
        "\n",
        "# 1. Calculate Average Character Length of a Review\n",
        "df['review_length'] = df['review'].apply(len)\n",
        "average_length = df['review_length'].mean()\n",
        "\n",
        "# 2. Lengths of the Longest and Shortest Reviews\n",
        "longest_review = df['review_length'].max()\n",
        "shortest_review = df['review_length'].min()\n",
        "\n",
        "# 3. Count Number of Positive and Negative Reviews\n",
        "positive_reviews_count = df_pos.shape[0]\n",
        "negative_reviews_count = df_neg.shape[0]\n",
        "\n",
        "# 4. Histogram of Average Character Length for Positive and Negative Reviews\n",
        "df.groupby('sentiment')['review_length'].mean().plot(kind='bar')\n",
        "plt.xlabel('Classification')\n",
        "plt.ylabel('Average Review Length')\n",
        "plt.title('Average Review Length by Classification')\n",
        "plt.show()\n",
        "\n",
        "# Print the statistics\n",
        "print(f\"Average Review Length: {average_length}\")\n",
        "print(f\"Longest Review Length: {longest_review}\")\n",
        "print(f\"Shortest Review Length: {shortest_review}\")\n",
        "print(f\"Number of Positive Reviews: {positive_reviews_count}\")\n",
        "print(f\"Number of Negative Reviews: {negative_reviews_count}\")\n"
      ]
    },
    {
      "cell_type": "code",
      "execution_count": null,
      "metadata": {
        "id": "gPSFCNYI6F4u"
      },
      "outputs": [],
      "source": [
        "'''\n",
        "PROVIDE YOUR ANSWER BELOW\n",
        "\n",
        "General observations :\n",
        "Average Review Length: 1309.43102\n",
        "Longest Review Length: 13704\n",
        "Shortest Review Length: 32\n",
        "\n",
        "The longest review length is significantly longer than the average review length,\n",
        "being litteraly an order of magnitude longer. Having such a wide variation in\n",
        "review length could mean that certain reviews contain more nuance, multiple themes,\n",
        "or details irrespective of overall sentiment. These complexities could skew the\n",
        "data if not handled properly.\n",
        "\n",
        "Observations positive vs negative:\n",
        "Number of Positive Reviews: 25000\n",
        "Number of Negative Reviews: 25000\n",
        "\n",
        "Dataset is therefore completely balanced between positive and negative reviews,\n",
        "that said, the average number of characters per review is slightly larger in the\n",
        "positive dataset.\n",
        "\n",
        "This is good news for training, as the model shouldn't become biased towards one\n",
        "sentiment or another due to the number of samples, or the relative sample sides.\n",
        "These results indicate that people will write equally lengthy reviews, whether\n",
        "they had a positive or negative experience with the film.\n",
        "\n",
        "'''\n"
      ]
    },
    {
      "cell_type": "markdown",
      "metadata": {
        "id": "ShOy3jp2zpRx"
      },
      "source": [
        "### Part (iii) [1pt EXPLORATORY]\n",
        "\n",
        "The following helper code will be used to process the data before we can train our LSTM model. In point form comment on what processing steps are performed in the code provided below and why these steps are necessary or beneficial to training and LSTM."
      ]
    },
    {
      "cell_type": "code",
      "execution_count": null,
      "metadata": {
        "colab": {
          "base_uri": "https://localhost:8080/",
          "height": 140
        },
        "id": "6aamEcrqCqtU",
        "outputId": "51acbd84-f4a4-4c92-f1fc-956d5857903a"
      },
      "outputs": [
        {
          "data": {
            "application/vnd.google.colaboratory.intrinsic+json": {
              "type": "string"
            },
            "text/plain": [
              "\"One of the other reviewers has mentioned that after watching just 1 Oz episode you'll be hooked. They are right, as this is exactly what happened with me.<br /><br />The first thing that struck me about Oz was its brutality and unflinching scenes of violence, which set in right from the word GO. Trust me, this is not a show for the faint hearted or timid. This show pulls no punches with regards to drugs, sex or violence. Its is hardcore, in the classic use of the word.<br /><br />It is called OZ as that is the nickname given to the Oswald Maximum Security State Penitentary. It focuses mainly on Emerald City, an experimental section of the prison where all the cells have glass fronts and face inwards, so privacy is not high on the agenda. Em City is home to many..Aryans, Muslims, gangstas, Latinos, Christians, Italians, Irish and more....so scuffles, death stares, dodgy dealings and shady agreements are never far away.<br /><br />I would say the main appeal of the show is due to the fact that it goes where other shows wouldn't dare. Forget pretty pictures painted for mainstream audiences, forget charm, forget romance...OZ doesn't mess around. The first episode I ever saw struck me as so nasty it was surreal, I couldn't say I was ready for it, but as I watched more, I developed a taste for Oz, and got accustomed to the high levels of graphic violence. Not just violence, but injustice (crooked guards who'll be sold out for a nickel, inmates who'll kill on order and get away with it, well mannered, middle class inmates being turned into prison bitches due to their lack of street skills or prison experience) Watching Oz, you may become comfortable with what is uncomfortable viewing....thats if you can get in touch with your darker side.\""
            ]
          },
          "execution_count": 3,
          "metadata": {},
          "output_type": "execute_result"
        }
      ],
      "source": [
        "X[0]"
      ]
    },
    {
      "cell_type": "code",
      "execution_count": 8,
      "metadata": {
        "id": "tAjcY6oPz61e"
      },
      "outputs": [],
      "source": [
        "def preprocess_string(str1):\n",
        "    # remove all non-word characters excluding number and letters\n",
        "    str1= re.sub(r\"[^\\w\\s]\",'',str1)\n",
        "    # remove all whitespace with no space\n",
        "    str1= re.sub(r\"\\s\",'',str1)\n",
        "    # replace digits with no space\n",
        "    str1= re.sub(r\"\\d\",'',str1)\n",
        "    return str1\n",
        "\n",
        "def preprocess_sentence(sen1):\n",
        "    word_list=[]\n",
        "    stop_word = set(stopwords.words(\"english\"))\n",
        "    for word in sen1.lower().split():\n",
        "        word = preprocess_string(word)\n",
        "        if word not in stop_word and word!='':\n",
        "            word_list.append(word)\n",
        "    return word_list\n",
        "\n",
        "def get_stoi(data):\n",
        "    word_list=[]\n",
        "    for review in data:\n",
        "        word_list.extend(preprocess_sentence(review))\n",
        "    corpus = Counter(word_list)\n",
        "    print(corpus.get)\n",
        "    # sorting on the basis of most common words\n",
        "    corpus_ =sorted(corpus,key= corpus.get,reverse=True)[:1000]\n",
        "    # creating a dict\n",
        "    stoi =  {ch:i+1 for i,ch in enumerate(corpus_)}\n",
        "    return stoi\n",
        "\n",
        "def tokenize(data, labels, stoi):\n",
        "    # tokenize\n",
        "    data_encoded = []\n",
        "    for review in data:\n",
        "        data_encoded.append([stoi[word] for word in preprocess_sentence(review)\n",
        "                                     if word in stoi.keys()])\n",
        "\n",
        "    labels_encoded = [1 if label =='positive' else 0 for label in labels]\n",
        "\n",
        "    return np.array(data_encoded), np.array(labels_encoded)\n",
        "\n",
        "def padding_(sentences, seq_len):\n",
        "    features = np.zeros((len(sentences), seq_len),dtype=int)\n",
        "    for ii, review in enumerate(sentences):\n",
        "        if len(review)!=0:\n",
        "            features[ii, -len(review):] = np.array(review)[:seq_len]\n",
        "\n",
        "    return features"
      ]
    },
    {
      "cell_type": "code",
      "execution_count": null,
      "metadata": {
        "colab": {
          "base_uri": "https://localhost:8080/",
          "height": 178
        },
        "id": "CHDGI2rn12G_",
        "outputId": "dec5cf1a-0a13-44d5-b627-bdb9b8e91c1b"
      },
      "outputs": [
        {
          "data": {
            "application/vnd.google.colaboratory.intrinsic+json": {
              "type": "string"
            },
            "text/plain": [
              "\"\\nPROVIDE YOUR ANSWER BELOW\\n\\npreprocess_string(str1):\\n- removes all non-word characters excluding number and letters\\n- removes all whitespaces\\n- replacs digits with no space\\n\\npreprocess_sentence(sen1):\\n- takes a sentance as input, and loops through each word\\n- each word is preprocessed using 'preprocess_string' function\\n- if any word in the sentance isn't a stop word, it get's returned by the function\\n\\nget_stoi(data):\\n- uses the preprocess_sentence function to get the word list for a full data entry.\\n- creates a counter which sorts the words based on into a dictionary based on frequency\\n\\ntokenize(data, labels, stoi):\\n- tokenizes the dataset\\n- uses the stoi encoding by checking if each word in each entry of the dataset\\n  (gotten using preprocess_sentence) belongs to the stoi dictionary\\n- creates binary classification labels\\n\\npadding_(sentences, seq_len)\\n- passes entries from a batch of reviews and pads each review with 0's based\\n  on the max sequence length (seq_length) from the reviews.\\n- returns padded reviews.\\n\\nThese helper functions aid in cleaning the data and selecting what words we'll\\nwant to tokenize/pass into our model. General words from the stop word list are\\nessentially ignored, but special words which carry more semantic meaning to a sentance\\nare added to word lists. We use these word list to create a dictionary of words\\nused for tokenization, which is how we encode our words to pass to the model a\\nnecessary step in any natural language processing. We also provide padding based\\noff an applied sequence length to our entries to account for the varrying length\\nof the reviews.\\n\\n\""
            ]
          },
          "execution_count": 12,
          "metadata": {},
          "output_type": "execute_result"
        }
      ],
      "source": [
        "'''\n",
        "PROVIDE YOUR ANSWER BELOW\n",
        "\n",
        "preprocess_string(str1):\n",
        "- removes all non-word characters excluding number and letters\n",
        "- removes all whitespaces\n",
        "- replacs digits with no space\n",
        "\n",
        "preprocess_sentence(sen1):\n",
        "- takes a sentance as input, and loops through each word\n",
        "- each word is preprocessed using 'preprocess_string' function\n",
        "- if any word in the sentance isn't a stop word, it get's returned by the function\n",
        "\n",
        "get_stoi(data):\n",
        "- uses the preprocess_sentence function to get the word list for a full data entry.\n",
        "- creates a counter which sorts the words based on into a dictionary based on frequency\n",
        "\n",
        "tokenize(data, labels, stoi):\n",
        "- tokenizes the dataset\n",
        "- uses the stoi encoding by checking if each word in each entry of the dataset\n",
        "  (gotten using preprocess_sentence) belongs to the stoi dictionary\n",
        "- creates binary classification labels\n",
        "\n",
        "padding_(sentences, seq_len)\n",
        "- passes entries from a batch of reviews and pads each review with 0's based\n",
        "  on the max sequence length (seq_length) from the reviews.\n",
        "- returns padded reviews.\n",
        "\n",
        "These helper functions aid in cleaning the data and selecting what words we'll\n",
        "want to tokenize/pass into our model. General words from the stop word list are\n",
        "essentially ignored, but special words which carry more semantic meaning to a sentance\n",
        "are added to word lists. We use these word list to create a dictionary of words\n",
        "used for tokenization, which is how we encode our words to pass to the model a\n",
        "necessary step in any natural language processing. We also provide padding based\n",
        "off an applied sequence length to our entries to account for the varrying length\n",
        "of the reviews.\n",
        "\n",
        "'''\n"
      ]
    },
    {
      "cell_type": "markdown",
      "metadata": {
        "id": "ie_D0bv9a90k"
      },
      "source": [
        "### Part (iv) [1pt EXPLORATORY]\n",
        "\n",
        "Split the dataset into `train`, `valid`, and `test`. Use a 60-20-20 split. Then apply the above processing steps to prepare your data for training.\n",
        "\n",
        "Set the padding of the reviews to 500."
      ]
    },
    {
      "cell_type": "code",
      "execution_count": 9,
      "metadata": {
        "colab": {
          "base_uri": "https://localhost:8080/"
        },
        "id": "P_Y6Puz9a90l",
        "outputId": "380ea7b3-356c-4dfb-f459-be76fd8e3fd1"
      },
      "outputs": [
        {
          "output_type": "stream",
          "name": "stdout",
          "text": [
            "<built-in method get of Counter object at 0x7d8d61784130>\n"
          ]
        },
        {
          "output_type": "stream",
          "name": "stderr",
          "text": [
            "<ipython-input-8-689f26062728>:40: VisibleDeprecationWarning: Creating an ndarray from ragged nested sequences (which is a list-or-tuple of lists-or-tuples-or ndarrays with different lengths or shapes) is deprecated. If you meant to do this, you must specify 'dtype=object' when creating the ndarray.\n",
            "  return np.array(data_encoded), np.array(labels_encoded)\n"
          ]
        }
      ],
      "source": [
        "# TO BE COMPLETED\n",
        "random_state = 42\n",
        "\n",
        "#split the data into training and temporary datasets with a 60/40 split.\n",
        "X_train, X_temp, y_train, y_temp = train_test_split(X, y, test_size=0.4, random_state=random_state)\n",
        "# Then, split the temporary dataset equally into validation and test datasets to achieve a 20/20 split of the original.\n",
        "X_val, X_test, y_val, y_test = train_test_split(X_temp, y_temp, test_size=0.5, random_state=random_state)\n",
        "\n",
        "# create dictionary/encoder using the full dataset\n",
        "stoi = get_stoi(X)\n",
        "\n",
        "#tokenize data\n",
        "X_train_encoded, y_train_encoded = tokenize(X_train, y_train, stoi)\n",
        "X_val_encoded, y_val_encoded = tokenize(X_val, y_val, stoi)\n",
        "X_test_encoded, y_test_encoded = tokenize(X_test, y_test, stoi)\n",
        "\n",
        "#apply padding\n",
        "max_padding = 500\n",
        "X_train_encoded = padding_(X_train_encoded, max_padding)\n",
        "X_val_encoded = padding_(X_val_encoded, max_padding)\n",
        "X_test_encoded = padding_(X_test_encoded, max_padding)"
      ]
    },
    {
      "cell_type": "markdown",
      "metadata": {
        "id": "Ff5CNk7Qa90y"
      },
      "source": [
        "### Part (v) [1pt EXPLORATORY]\n",
        "\n",
        "Create a DataLoader that will allow you to load the training and validation data in mini-batches. Then generate a dataset of batch size of 16 to verify that the DataLoader works as intended."
      ]
    },
    {
      "cell_type": "code",
      "execution_count": 10,
      "metadata": {
        "colab": {
          "base_uri": "https://localhost:8080/"
        },
        "id": "V8N8qLWOa90y",
        "outputId": "20695fc0-8c35-4529-e044-37a9ee875848"
      },
      "outputs": [
        {
          "output_type": "stream",
          "name": "stdout",
          "text": [
            "Train batch - features size: torch.Size([16, 500]), labels size: torch.Size([16])\n",
            "Validation batch - features size: torch.Size([16, 500]), labels size: torch.Size([16])\n",
            "Test batch - features size: torch.Size([16, 500]), labels size: torch.Size([16])\n"
          ]
        }
      ],
      "source": [
        "# TO BE COMPLETED\n",
        "\n",
        "#convert them to PyTorch tensors\n",
        "X_train_tensor = torch.from_numpy(X_train_encoded)\n",
        "y_train_tensor = torch.from_numpy(y_train_encoded)\n",
        "X_val_tensor = torch.from_numpy(X_val_encoded)\n",
        "y_val_tensor = torch.from_numpy(y_val_encoded)\n",
        "X_test_tensor = torch.from_numpy(X_test_encoded)\n",
        "y_test_tensor = torch.from_numpy(y_test_encoded)\n",
        "\n",
        "# Create TensorDatasets for training and validation data\n",
        "train_data = TensorDataset(X_train_tensor, y_train_tensor)\n",
        "val_data = TensorDataset(X_val_tensor, y_val_tensor)\n",
        "test_data = TensorDataset(X_test_tensor, y_test_tensor)\n",
        "\n",
        "# Create DataLoaders for training and validation data\n",
        "# Set batch size\n",
        "batch_size = 16\n",
        "\n",
        "# Shuffle the training data to ensure random batch sampling\n",
        "train_loader = DataLoader(train_data, shuffle=True, batch_size=batch_size)\n",
        "val_loader = DataLoader(val_data, shuffle=True, batch_size=batch_size)\n",
        "test_loader = DataLoader(test_data, shuffle=True, batch_size=batch_size)\n",
        "\n",
        "# Function to get a single batch from the DataLoader\n",
        "def get_single_batch(data_loader):\n",
        "    for batch in data_loader:\n",
        "        # Return the first batch\n",
        "        return batch\n",
        "\n",
        "# Get a single batch to verify DataLoader works\n",
        "train_batch = get_single_batch(train_loader)\n",
        "val_batch = get_single_batch(val_loader)\n",
        "test_batch = get_single_batch(train_loader)\n",
        "\n",
        "# Print the size of the batched data and labels to verify\n",
        "print(f\"Train batch - features size: {train_batch[0].size()}, labels size: {train_batch[1].size()}\")\n",
        "print(f\"Validation batch - features size: {val_batch[0].size()}, labels size: {val_batch[1].size()}\")\n",
        "print(f\"Test batch - features size: {test_batch[0].size()}, labels size: {test_batch[1].size()}\")\n"
      ]
    },
    {
      "cell_type": "markdown",
      "metadata": {
        "id": "y7HnqP6_a904"
      },
      "source": [
        "## Part 2. Model Building [2pt MODEL]\n",
        "\n",
        "Build a recurrent neural network model, using an architecture of your choosing. Use one or more fully-connected layers to make the prediction based on your recurrent network output.\n",
        "\n",
        "Instead of using the RNN output value for the final token, another often used strategy is to max-pool over the entire output array. That is, instead of calling something like:\n",
        "\n",
        "```\n",
        "out, _ = self.rnn(x)\n",
        "self.fc(out[:, -1, :])\n",
        "```\n",
        "\n",
        "where `self.rnn` is an `nn.RNN`, `nn.GRU`, or `nn.LSTM` module, and `self.fc` is a\n",
        "fully-connected\n",
        "layer, we use:\n",
        "\n",
        "```\n",
        "out, _ = self.rnn(x)\n",
        "self.fc(torch.max(out, dim=1)[0])\n",
        "```\n",
        "\n",
        "This works reasonably in practice. An even better alternative is to concatenate the max-pooling and average-pooling of the RNN outputs:\n",
        "\n",
        "```\n",
        "out, _ = self.rnn(x)\n",
        "out = torch.cat([torch.max(out, dim=1)[0],\n",
        "                 torch.mean(out, dim=1)], dim=1)\n",
        "self.fc(out)\n",
        "```\n",
        "\n",
        "We encourage you to try out all these options. The way you pool the RNN outputs is one of the \"hyperparameters\" that you can choose to tune later on."
      ]
    },
    {
      "cell_type": "code",
      "execution_count": 14,
      "metadata": {
        "id": "4LTQ7zFka909"
      },
      "outputs": [],
      "source": [
        "# TO BE COMPLETED\n",
        "\n",
        "class SentimentRNN(nn.Module):\n",
        "    def __init__(self, vocab_size, output_size, embedding_dim, hidden_dim, n_layers, drop_prob=0.5):\n",
        "        \"\"\"\n",
        "        Initialize the model by setting up the layers.\n",
        "        \"\"\"\n",
        "        super(SentimentRNN, self).__init__()\n",
        "\n",
        "        self.output_size = output_size\n",
        "        self.hidden_dim = hidden_dim\n",
        "        self.n_layers = n_layers\n",
        "\n",
        "        # Define embedding layer\n",
        "        self.embedding = nn.Embedding(vocab_size, embedding_dim)\n",
        "\n",
        "        # Define LSTM layer(s)\n",
        "        self.lstm = nn.LSTM(embedding_dim, hidden_dim, n_layers,\n",
        "                            dropout=drop_prob, batch_first=True)\n",
        "\n",
        "        # Define the final, fully-connected output layer\n",
        "        # The input size is doubled because we concatenate max and mean pooling\n",
        "        self.fc = nn.Linear(hidden_dim * 2, output_size)\n",
        "\n",
        "    def forward(self, x):\n",
        "        \"\"\"\n",
        "        Perform a forward pass of our model on some input.\n",
        "        \"\"\"\n",
        "        # Embedding and LSTM operations\n",
        "        x = self.embedding(x)\n",
        "        x, _ = self.lstm(x)\n",
        "\n",
        "        # Pooling operations\n",
        "        max_pool, _ = torch.max(x, dim=1)\n",
        "        mean_pool = torch.mean(x, dim=1)\n",
        "        # print(max_pool.shape)\n",
        "        # print(mean_pool.shape)\n",
        "        out = torch.cat((max_pool, mean_pool), 1)\n",
        "\n",
        "        # Pass the pooled output to the fully connected layer\n",
        "        out = self.fc(out)\n",
        "\n",
        "        return out\n"
      ]
    },
    {
      "cell_type": "markdown",
      "metadata": {
        "id": "vKIYPl_Ba90_"
      },
      "source": [
        "## Part 3. Training [3 pt]\n",
        "\n",
        "### Part (i) [1pt MODEL]\n",
        "\n",
        "Complete the `get_accuracy` function, which will compute the\n",
        "accuracy (rate) of your model across a dataset (e.g. validation set)."
      ]
    },
    {
      "cell_type": "code",
      "execution_count": 24,
      "metadata": {
        "id": "pvNfhGD6a91A"
      },
      "outputs": [],
      "source": [
        "from torch.cuda.amp import autocast\n",
        "def get_accuracy(model, data, use_cuda = True):\n",
        "    \"\"\" Compute the accuracy of the `model` across a dataset `data`\n",
        "\n",
        "    Example usage:\n",
        "\n",
        "    >>> model = MyRNN() # to be defined\n",
        "    >>> get_accuracy(model, valid_loader) # the variable `valid_loader` is from above\n",
        "    \"\"\"\n",
        "\n",
        "    correct = 0\n",
        "    total = 0\n",
        "    for batch, labels in data:\n",
        "      if use_cuda and torch.cuda.is_available() == True:\n",
        "              batch = batch.cuda()\n",
        "              labels = labels.cuda()\n",
        "      # outputs = model(batch)\n",
        "      # Get predictions using a threshold of 0.5\n",
        "      with autocast():  # Enables mixed precision\n",
        "          outputs = model(batch)\n",
        "      pred = (torch.sigmoid(outputs) >= 0.5).float()\n",
        "      # Compare with true labels and sum up the number of correct predictions\n",
        "      correct += (pred.squeeze() == labels).sum().item()\n",
        "      # Increment the total count\n",
        "      total += labels.size(0)\n",
        "    accuracy = correct/total\n",
        "    return accuracy\n",
        "    # TO BE COMPLETED\n",
        "\n"
      ]
    },
    {
      "cell_type": "markdown",
      "metadata": {
        "id": "TlxlcAC1a91C"
      },
      "source": [
        "### Part (ii) [1pt MODEL]\n",
        "\n",
        "Train your model. Plot the training curve of your final model.\n",
        "Your training curve should have the training/validation loss and\n",
        "accuracy plotted periodically."
      ]
    },
    {
      "cell_type": "code",
      "execution_count": 23,
      "metadata": {
        "id": "CVtf7CJCa91D"
      },
      "outputs": [],
      "source": [
        "# TO BE COMPLETED\n",
        "from tqdm import tqdm\n",
        "from torch.cuda.amp import GradScaler, autocast\n",
        "\n",
        "#Functions to save and load checkpoints\n",
        "def save_checkpoint(model, optimizer, epoch, hyperparams, filename):\n",
        "    checkpoint = {\n",
        "        'epoch': epoch + 1,  # Saving the next epoch number\n",
        "        'state_dict': model.state_dict(),\n",
        "        'hyperparams': hyperparams,  # Add the hyperparameters\n",
        "        'optimizer': optimizer.state_dict()\n",
        "    }\n",
        "    torch.save(checkpoint, filename)\n",
        "\n",
        "def load_checkpoint(filename):\n",
        "    checkpoint = torch.load(filename)\n",
        "    return checkpoint\n",
        "\n",
        "def generate_checkpoint_filename(hyperparams, epoch):\n",
        "    filename = f\"{hyperparams['model_name']}_L{hyperparams['n_layers']}_H{hyperparams['hidden_dim']}_E{hyperparams['embedding_dim']}_LR{hyperparams['learning_rate']}_BS{hyperparams['batch_size']}_epoch{epoch}.pth\"\n",
        "    return filename\n",
        "\n",
        "# Mostly from the sample code\n",
        "def train_network(model, train_loader, valid_loader, hyperparams, num_epochs=5, learning_rate=1e-5, use_cuda = True):\n",
        "\n",
        "    #Binary Classification\n",
        "    criterion = nn.BCEWithLogitsLoss()\n",
        "    optimizer = torch.optim.Adam(model.parameters(), lr=learning_rate)\n",
        "    losses, train_acc, valid_acc = [], [], []\n",
        "    epochs = []\n",
        "    scaler = GradScaler()\n",
        "    if use_cuda and torch.cuda.is_available() == True:\n",
        "      model = model.cuda()\n",
        "\n",
        "    for epoch in range(num_epochs):\n",
        "        #Put model into training mode\n",
        "        model.train()\n",
        "        iter = 0\n",
        "\n",
        "        #for training acc (not perfect, but more efficient than doing 2 forward passes)\n",
        "        correct = 0\n",
        "        total = 0\n",
        "\n",
        "        for reviews, labels in tqdm(train_loader, desc = \"Processing Batchs\"):\n",
        "            if use_cuda and torch.cuda.is_available() == True:\n",
        "              reviews = reviews.cuda()\n",
        "              labels = labels.cuda()\n",
        "            # print(f\"Iter {iter}\")\n",
        "            iter+=1\n",
        "            optimizer.zero_grad()\n",
        "            with autocast():  # Enables mixed precision\n",
        "              pred = model(reviews)\n",
        "              loss = criterion(pred.view(-1), labels.float())\n",
        "\n",
        "            scaler.scale(loss).backward()  # Scales the loss\n",
        "            scaler.step(optimizer)  # Optimizer step\n",
        "            scaler.update()  # Updates the scale for next iteration\n",
        "\n",
        "\n",
        "            # loss.backward()\n",
        "            # optimizer.step()\n",
        "\n",
        "            # Get predictions using a threshold of 0.5\n",
        "            predictions = (torch.sigmoid(pred) >= 0.5).float()\n",
        "            # Compare with true labels and sum up the number of correct predictions\n",
        "            correct += (predictions.squeeze() == labels).sum().item()\n",
        "            # Increment the total count\n",
        "            total += labels.size(0)\n",
        "\n",
        "        losses.append(float(loss))\n",
        "        # if epoch % 5 == 4:\n",
        "        epochs.append(epoch)\n",
        "        #Put model into evaluation mode\n",
        "        model.eval()\n",
        "        with torch.no_grad():\n",
        "          train_acc.append(correct/total)\n",
        "          valid_acc.append(get_accuracy(model, valid_loader))\n",
        "        print(\"Epoch %d; Loss %f; Train Acc %f; Val Acc %f\" % (\n",
        "            epoch+1, loss, train_acc[-1], valid_acc[-1]))\n",
        "\n",
        "        #Save checkpoint\n",
        "        save_checkpoint(model, optimizer, epoch, hyperparams, generate_checkpoint_filename(hyperparams, epoch))\n",
        "\n",
        "    # plotting\n",
        "    plt.title(\"Training Curve - Loss\")\n",
        "    plt.plot(losses, label=\"Train\")\n",
        "    plt.xlabel(\"Epoch\")\n",
        "    plt.ylabel(\"Loss\")\n",
        "    plt.show()\n",
        "\n",
        "    plt.title(\"Training Curve - Accuracy\")\n",
        "    plt.plot(epochs, train_acc, label=\"Train\")\n",
        "    plt.plot(epochs, valid_acc, label=\"Validation\")\n",
        "    plt.xlabel(\"Epoch\")\n",
        "    plt.ylabel(\"Accuracy\")\n",
        "    plt.legend(loc='best')\n",
        "    plt.show()\n"
      ]
    },
    {
      "cell_type": "code",
      "execution_count": null,
      "metadata": {
        "colab": {
          "base_uri": "https://localhost:8080/",
          "height": 1000
        },
        "id": "ODmzmx6der1t",
        "outputId": "c3f6356f-0617-4c1c-fc41-8a4bd5a55b04"
      },
      "outputs": [
        {
          "name": "stderr",
          "output_type": "stream",
          "text": [
            "/usr/local/lib/python3.10/dist-packages/torch/nn/modules/rnn.py:82: UserWarning: dropout option adds dropout after all but last recurrent layer, so non-zero dropout expects num_layers greater than 1, but got dropout=0.5 and num_layers=1\n",
            "  warnings.warn(\"dropout option adds dropout after all but last \"\n"
          ]
        },
        {
          "name": "stdout",
          "output_type": "stream",
          "text": [
            "Epoch 0\n",
            "Epoch 1; Loss 0.688338; Train Acc 0.499500; Val Acc 0.498900\n",
            "Epoch 1\n",
            "Epoch 2; Loss 0.695719; Train Acc 0.508800; Val Acc 0.507400\n",
            "Epoch 2\n",
            "Epoch 3; Loss 0.693153; Train Acc 0.537667; Val Acc 0.533600\n",
            "Epoch 3\n",
            "Epoch 4; Loss 0.690622; Train Acc 0.555867; Val Acc 0.553500\n",
            "Epoch 4\n",
            "Epoch 5; Loss 0.687316; Train Acc 0.571667; Val Acc 0.571700\n",
            "Epoch 5\n",
            "Epoch 6; Loss 0.688219; Train Acc 0.592000; Val Acc 0.591900\n",
            "Epoch 6\n",
            "Epoch 7; Loss 0.686559; Train Acc 0.609600; Val Acc 0.608400\n",
            "Epoch 7\n",
            "Epoch 8; Loss 0.683001; Train Acc 0.629500; Val Acc 0.624000\n",
            "Epoch 8\n",
            "Epoch 9; Loss 0.676627; Train Acc 0.640667; Val Acc 0.638000\n",
            "Epoch 9\n",
            "Epoch 10; Loss 0.677419; Train Acc 0.658867; Val Acc 0.655200\n",
            "Epoch 10\n",
            "Epoch 11; Loss 0.674712; Train Acc 0.672033; Val Acc 0.667800\n",
            "Epoch 11\n",
            "Epoch 12; Loss 0.684748; Train Acc 0.676700; Val Acc 0.677500\n",
            "Epoch 12\n",
            "Epoch 13; Loss 0.678622; Train Acc 0.693333; Val Acc 0.687400\n",
            "Epoch 13\n",
            "Epoch 14; Loss 0.659304; Train Acc 0.702833; Val Acc 0.697900\n",
            "Epoch 14\n",
            "Epoch 15; Loss 0.673683; Train Acc 0.710633; Val Acc 0.703800\n",
            "Epoch 15\n",
            "Epoch 16; Loss 0.656163; Train Acc 0.716800; Val Acc 0.711000\n",
            "Epoch 16\n",
            "Epoch 17; Loss 0.656040; Train Acc 0.724033; Val Acc 0.715000\n",
            "Epoch 17\n",
            "Epoch 18; Loss 0.663161; Train Acc 0.728200; Val Acc 0.722000\n",
            "Epoch 18\n",
            "Epoch 19; Loss 0.655724; Train Acc 0.730900; Val Acc 0.726300\n",
            "Epoch 19\n",
            "Epoch 20; Loss 0.641050; Train Acc 0.737967; Val Acc 0.727900\n",
            "Epoch 20\n",
            "Epoch 21; Loss 0.639501; Train Acc 0.739500; Val Acc 0.732400\n",
            "Epoch 21\n",
            "Epoch 22; Loss 0.650695; Train Acc 0.742367; Val Acc 0.735300\n",
            "Epoch 22\n",
            "Epoch 23; Loss 0.644450; Train Acc 0.743667; Val Acc 0.736900\n",
            "Epoch 23\n",
            "Epoch 24; Loss 0.638915; Train Acc 0.745500; Val Acc 0.737900\n",
            "Epoch 24\n",
            "Epoch 25; Loss 0.613672; Train Acc 0.747333; Val Acc 0.740200\n",
            "Epoch 25\n",
            "Epoch 26; Loss 0.610736; Train Acc 0.746900; Val Acc 0.736300\n",
            "Epoch 26\n",
            "Epoch 27; Loss 0.573642; Train Acc 0.740533; Val Acc 0.735100\n",
            "Epoch 27\n",
            "Epoch 28; Loss 0.607715; Train Acc 0.737833; Val Acc 0.734000\n",
            "Epoch 28\n",
            "Epoch 29; Loss 0.506217; Train Acc 0.742533; Val Acc 0.739000\n",
            "Epoch 29\n",
            "Epoch 30; Loss 0.540486; Train Acc 0.746067; Val Acc 0.741700\n"
          ]
        },
        {
          "data": {
            "image/png": "[encoded data removed]",
            "text/plain": [
              "<Figure size 640x480 with 1 Axes>"
            ]
          },
          "metadata": {},
          "output_type": "display_data"
        },
        {
          "data": {
            "image/png": "[encoded data removed]",
            "text/plain": [
              "<Figure size 640x480 with 1 Axes>"
            ]
          },
          "metadata": {},
          "output_type": "display_data"
        }
      ],
      "source": [
        "vocab_size = len(stoi)+1  # Size of the vocabulary\n",
        "output_size = 1    # Binary classification\n",
        "embedding_dim = 128  # Size of the embeddings\n",
        "hidden_dim = 128     # Size of the hidden layer in LSTMs\n",
        "n_layers = 1         # Number of LSTM layers\n",
        "\n",
        "model = SentimentRNN(vocab_size, output_size, embedding_dim, hidden_dim, n_layers)\n",
        "\n",
        "#increase batch for speed\n",
        "batch_size = 256\n",
        "\n",
        "train_loader = DataLoader(train_data, shuffle=True, batch_size=batch_size)\n",
        "val_loader = DataLoader(val_data, shuffle=True, batch_size=batch_size)\n",
        "\n",
        "num_epochs = 30\n",
        "lr = 1e-5\n",
        "train_network(model, train_loader, val_loader, num_epochs=num_epochs, learning_rate=lr)\n"
      ]
    },
    {
      "cell_type": "markdown",
      "metadata": {
        "id": "fE3eRkDAa91F"
      },
      "source": [
        "### Part (iii) [1pt MODEL]\n",
        "\n",
        "Choose at least 4 hyperparameters to tune. Explain how you tuned the hyperparameters.\n",
        "You don't need to include your training curve for every model you trained.\n",
        "Instead, explain what hyperparemters you tuned, what the best validation accuracy was,\n",
        "and the reasoning behind the hyperparameter decisions you made.\n",
        "\n",
        "For this assignment, you should tune more than just your learning rate and epoch.\n",
        "Choose at least 2 hyperparameters that are unrelated to the optimizer."
      ]
    },
    {
      "cell_type": "code",
      "execution_count": 26,
      "metadata": {
        "colab": {
          "base_uri": "https://localhost:8080/",
          "height": 1000
        },
        "id": "A2GEWfDca91G",
        "outputId": "e0a2308f-425a-46d9-d0e3-8bb63d2437ff"
      },
      "outputs": [
        {
          "output_type": "stream",
          "name": "stderr",
          "text": [
            "/usr/local/lib/python3.10/dist-packages/torch/nn/modules/rnn.py:82: UserWarning: dropout option adds dropout after all but last recurrent layer, so non-zero dropout expects num_layers greater than 1, but got dropout=0.5 and num_layers=1\n",
            "  warnings.warn(\"dropout option adds dropout after all but last \"\n",
            "Processing Batchs: 100%|██████████| 938/938 [00:26<00:00, 35.35it/s]\n"
          ]
        },
        {
          "output_type": "stream",
          "name": "stdout",
          "text": [
            "Epoch 1; Loss 0.646077; Train Acc 0.652667; Val Acc 0.724500\n"
          ]
        },
        {
          "output_type": "stream",
          "name": "stderr",
          "text": [
            "Processing Batchs: 100%|██████████| 938/938 [00:24<00:00, 37.55it/s]\n"
          ]
        },
        {
          "output_type": "stream",
          "name": "stdout",
          "text": [
            "Epoch 2; Loss 0.486523; Train Acc 0.746067; Val Acc 0.756600\n"
          ]
        },
        {
          "output_type": "stream",
          "name": "stderr",
          "text": [
            "Processing Batchs: 100%|██████████| 938/938 [00:24<00:00, 37.57it/s]\n"
          ]
        },
        {
          "output_type": "stream",
          "name": "stdout",
          "text": [
            "Epoch 3; Loss 0.315878; Train Acc 0.786267; Val Acc 0.783200\n"
          ]
        },
        {
          "output_type": "stream",
          "name": "stderr",
          "text": [
            "Processing Batchs: 100%|██████████| 938/938 [00:25<00:00, 37.15it/s]\n"
          ]
        },
        {
          "output_type": "stream",
          "name": "stdout",
          "text": [
            "Epoch 4; Loss 0.363234; Train Acc 0.811367; Val Acc 0.807800\n"
          ]
        },
        {
          "output_type": "stream",
          "name": "stderr",
          "text": [
            "Processing Batchs: 100%|██████████| 938/938 [00:24<00:00, 37.59it/s]\n"
          ]
        },
        {
          "output_type": "stream",
          "name": "stdout",
          "text": [
            "Epoch 5; Loss 0.434239; Train Acc 0.826167; Val Acc 0.815200\n"
          ]
        },
        {
          "output_type": "stream",
          "name": "stderr",
          "text": [
            "Processing Batchs: 100%|██████████| 938/938 [00:24<00:00, 37.62it/s]\n"
          ]
        },
        {
          "output_type": "stream",
          "name": "stdout",
          "text": [
            "Epoch 6; Loss 0.295583; Train Acc 0.836500; Val Acc 0.822200\n"
          ]
        },
        {
          "output_type": "stream",
          "name": "stderr",
          "text": [
            "Processing Batchs: 100%|██████████| 938/938 [00:25<00:00, 37.15it/s]\n"
          ]
        },
        {
          "output_type": "stream",
          "name": "stdout",
          "text": [
            "Epoch 7; Loss 0.407300; Train Acc 0.845200; Val Acc 0.829100\n"
          ]
        },
        {
          "output_type": "stream",
          "name": "stderr",
          "text": [
            "Processing Batchs: 100%|██████████| 938/938 [00:24<00:00, 37.61it/s]\n"
          ]
        },
        {
          "output_type": "stream",
          "name": "stdout",
          "text": [
            "Epoch 8; Loss 0.378222; Train Acc 0.850900; Val Acc 0.836600\n"
          ]
        },
        {
          "output_type": "stream",
          "name": "stderr",
          "text": [
            "Processing Batchs: 100%|██████████| 938/938 [00:24<00:00, 37.71it/s]\n"
          ]
        },
        {
          "output_type": "stream",
          "name": "stdout",
          "text": [
            "Epoch 9; Loss 0.313016; Train Acc 0.857267; Val Acc 0.836700\n"
          ]
        },
        {
          "output_type": "stream",
          "name": "stderr",
          "text": [
            "Processing Batchs: 100%|██████████| 938/938 [00:25<00:00, 37.35it/s]\n"
          ]
        },
        {
          "output_type": "stream",
          "name": "stdout",
          "text": [
            "Epoch 10; Loss 0.380240; Train Acc 0.861600; Val Acc 0.839700\n"
          ]
        },
        {
          "output_type": "stream",
          "name": "stderr",
          "text": [
            "Processing Batchs: 100%|██████████| 938/938 [00:25<00:00, 36.15it/s]\n"
          ]
        },
        {
          "output_type": "stream",
          "name": "stdout",
          "text": [
            "Epoch 11; Loss 0.497723; Train Acc 0.865567; Val Acc 0.841100\n"
          ]
        },
        {
          "output_type": "stream",
          "name": "stderr",
          "text": [
            "Processing Batchs: 100%|██████████| 938/938 [00:25<00:00, 37.21it/s]\n"
          ]
        },
        {
          "output_type": "stream",
          "name": "stdout",
          "text": [
            "Epoch 12; Loss 0.349528; Train Acc 0.870767; Val Acc 0.843500\n"
          ]
        },
        {
          "output_type": "stream",
          "name": "stderr",
          "text": [
            "Processing Batchs: 100%|██████████| 938/938 [00:24<00:00, 37.56it/s]\n"
          ]
        },
        {
          "output_type": "stream",
          "name": "stdout",
          "text": [
            "Epoch 13; Loss 0.369083; Train Acc 0.873400; Val Acc 0.845200\n"
          ]
        },
        {
          "output_type": "stream",
          "name": "stderr",
          "text": [
            "Processing Batchs: 100%|██████████| 938/938 [00:25<00:00, 37.47it/s]\n"
          ]
        },
        {
          "output_type": "stream",
          "name": "stdout",
          "text": [
            "Epoch 14; Loss 0.312343; Train Acc 0.875967; Val Acc 0.845400\n"
          ]
        },
        {
          "output_type": "stream",
          "name": "stderr",
          "text": [
            "Processing Batchs: 100%|██████████| 938/938 [00:27<00:00, 34.07it/s]\n"
          ]
        },
        {
          "output_type": "stream",
          "name": "stdout",
          "text": [
            "Epoch 15; Loss 0.254001; Train Acc 0.880100; Val Acc 0.842500\n"
          ]
        },
        {
          "output_type": "stream",
          "name": "stderr",
          "text": [
            "Processing Batchs: 100%|██████████| 938/938 [00:31<00:00, 30.19it/s]\n"
          ]
        },
        {
          "output_type": "stream",
          "name": "stdout",
          "text": [
            "Epoch 16; Loss 0.120554; Train Acc 0.881933; Val Acc 0.843200\n"
          ]
        },
        {
          "output_type": "stream",
          "name": "stderr",
          "text": [
            "Processing Batchs: 100%|██████████| 938/938 [00:26<00:00, 35.07it/s]\n"
          ]
        },
        {
          "output_type": "stream",
          "name": "stdout",
          "text": [
            "Epoch 17; Loss 0.193875; Train Acc 0.885500; Val Acc 0.839400\n"
          ]
        },
        {
          "output_type": "stream",
          "name": "stderr",
          "text": [
            "Processing Batchs: 100%|██████████| 938/938 [00:25<00:00, 37.49it/s]\n"
          ]
        },
        {
          "output_type": "stream",
          "name": "stdout",
          "text": [
            "Epoch 18; Loss 0.343240; Train Acc 0.889000; Val Acc 0.845800\n"
          ]
        },
        {
          "output_type": "stream",
          "name": "stderr",
          "text": [
            "Processing Batchs: 100%|██████████| 938/938 [00:28<00:00, 32.66it/s]\n"
          ]
        },
        {
          "output_type": "stream",
          "name": "stdout",
          "text": [
            "Epoch 19; Loss 0.333465; Train Acc 0.893867; Val Acc 0.845200\n"
          ]
        },
        {
          "output_type": "stream",
          "name": "stderr",
          "text": [
            "Processing Batchs: 100%|██████████| 938/938 [00:26<00:00, 35.08it/s]\n"
          ]
        },
        {
          "output_type": "stream",
          "name": "stdout",
          "text": [
            "Epoch 20; Loss 0.198247; Train Acc 0.894133; Val Acc 0.843700\n"
          ]
        },
        {
          "output_type": "display_data",
          "data": {
            "text/plain": [
              "<Figure size 640x480 with 1 Axes>"
            ],
            "image/png": "[encoded data removed]"
          },
          "metadata": {}
        },
        {
          "output_type": "display_data",
          "data": {
            "text/plain": [
              "<Figure size 640x480 with 1 Axes>"
            ],
            "image/png": "[encoded data removed]"
          },
          "metadata": {}
        }
      ],
      "source": [
        "# TO BE COMPLETED\n",
        "vocab_size = len(stoi)+1  # Size of the vocabulary\n",
        "output_size = 1    # Binary classification\n",
        "embedding_dim = 128  # Size of the embeddings\n",
        "hidden_dim = 150     # Size of the hidden layer in LSTMs\n",
        "n_layers = 1         # Number of LSTM layers\n",
        "\n",
        "model = SentimentRNN(vocab_size, output_size, embedding_dim, hidden_dim, n_layers)\n",
        "\n",
        "#increase batch for speed\n",
        "batch_size = 32\n",
        "\n",
        "train_loader = DataLoader(train_data, shuffle=True, batch_size=batch_size)\n",
        "val_loader = DataLoader(val_data, shuffle=True, batch_size=batch_size)\n",
        "\n",
        "num_epochs = 20\n",
        "lr = 5e-5\n",
        "#Hyperparameter dict just for saving later\n",
        "hyperparams = {\n",
        "'model_name': 'MyRNNModel',   # Replace with your model's name\n",
        "'n_layers': n_layers,               # Number of LSTM layers\n",
        "'hidden_dim': hidden_dim,           # Size of the hidden layer in LSTMs\n",
        "'embedding_dim': embedding_dim,        # Size of the embeddings\n",
        "'learning_rate': lr,      # Learning rate\n",
        "'batch_size': batch_size             # Batch size\n",
        "}\n",
        "\n",
        "train_network(model, train_loader, val_loader, hyperparams, num_epochs=num_epochs, learning_rate=lr)\n"
      ]
    },
    {
      "cell_type": "code",
      "execution_count": null,
      "metadata": {
        "id": "mN2t6fSzryME"
      },
      "outputs": [],
      "source": [
        "'''\n",
        "PROVIDE YOUR ANSWER BELOW\n",
        "\n",
        "I decided to tune the learning rate, number of LSTM layers (started at 1), the\n",
        "batch, and the hidden dimension.\n",
        "The first variable I wanted to tune was the number of LSTM layers. Initially I\n",
        "had only one, and still got a validation accuracy of 75%. Increasing to 2 or 3\n",
        "effectively doubles or triples my network size, increasing memory demands and\n",
        "computation time. For this reason, the learning rate was increased from 1e-5 to\n",
        "1e-4 so that fewer iterations would be required for convergence. In reality, after\n",
        "getting significantly better results with 2 layers, I tried 3, but quickly realized\n",
        "that given time constraints it'd be hard to tune a model with 3 layers. So, instead,\n",
        "I went back to using 1 or 2 layers and tuning the other hyperparameters first.\n",
        "\n",
        "I soon realized that the same case could be made for the hidden layer. Doubling\n",
        "it's dimension would massively increase network size, but to a great result aswell,\n",
        "immediately adding 10% to validation and training accuracy, even with just 1 layer.\n",
        "\n",
        "In the end my best result could be achieved using either 1 or 2 layers (used 1), and a\n",
        "higher hidden dimmension at 150 instead of the initial 128. The model began\n",
        "overfitting past epochs 16/18 for the layer 2 model, so the 11th epoch was taken\n",
        "as the best at:\n",
        "\n",
        "Training acc:   ~86.5%\n",
        "Validation acc: ~84.1%\n",
        "\n",
        "\n",
        "'''"
      ]
    },
    {
      "cell_type": "markdown",
      "metadata": {
        "id": "Gznefulsa91V"
      },
      "source": [
        "## Part 4. Evaluation [10 pt]\n",
        "\n",
        "**Important**. At this point in the assignment your test data should not have been evaluated by any of your models. The test data should be evaluated only after you have finished all the previous parts of the assignment. Once you evaluate your models on the test data you cannot change your models or else you may make hyperparameter adjustments that could lead to overfitting to the test data.\n",
        "\n",
        "### Part (i) [3pt RESULT]\n",
        "\n",
        "Report the final test accuracy of your model. Comment on how the result compares with accuracy obtained on the training and validation data. Are the results what you expected? Explain."
      ]
    },
    {
      "cell_type": "code",
      "execution_count": null,
      "metadata": {
        "colab": {
          "base_uri": "https://localhost:8080/"
        },
        "id": "D5L5D-A1a91W",
        "outputId": "23af21a7-5317-4442-c64d-786390ebba6f"
      },
      "outputs": [
        {
          "name": "stdout",
          "output_type": "stream",
          "text": [
            "Test Accuracy: 0.8397\n"
          ]
        }
      ],
      "source": [
        "# TO BE COMPLETED\n",
        "output_size = 1    # Binary classification\n",
        "embedding_dim = 128  # Size of the embeddings\n",
        "hidden_dim = 150     # Size of the hidden layer in LSTMs\n",
        "n_layers = 2         # Number of LSTM layers\n",
        "use_cuda = True\n",
        "\n",
        "model = SentimentRNN(vocab_size, output_size, embedding_dim, hidden_dim, n_layers)\n",
        "# Load Best Model:\n",
        "checkpoint = load_checkpoint('/content/MyRNNModel_L2_H150_E128_LR6e-05_BS256_epoch20.pth')\n",
        "model.load_state_dict(checkpoint['state_dict'])\n",
        "\n",
        "if use_cuda and torch.cuda.is_available() == True:\n",
        "      model = model.cuda()\n",
        "\n",
        "batch_size = 16\n",
        "test_loader = DataLoader(test_data, shuffle=True, batch_size=batch_size)\n",
        "\n",
        "test_accuracy = get_accuracy(model,test_loader)\n",
        "print(f\"Test Accuracy: {test_accuracy}\")\n"
      ]
    },
    {
      "cell_type": "code",
      "execution_count": null,
      "metadata": {
        "id": "DTHWBJCu_Fyz"
      },
      "outputs": [],
      "source": [
        "'''\n",
        "PROVIDE YOUR ANSWER BELOW\n",
        "\n",
        "We would expect that since we tuned the model parameters on the training data,\n",
        "then we tuned the hyperparameters to maximize the validation data accuracy without\n",
        "overfitting, both of those would be higher than the test data, which is a\n",
        "generalized abstraction from the validation and training data. This is exactly\n",
        "what we see. Where before our optimizer was able to tune our model parameters\n",
        "to roughly 86% accuracy, and we tuned our model architecture/hyperparameters to\n",
        "achieve roughly 84% accuracy, when testing on the tet set we achieve an accuracy\n",
        "of 83.97%, which is just below our validation accuracy. With this, the results\n",
        "are as expected.\n",
        "\n",
        "\n",
        "\n",
        "'''\n"
      ]
    },
    {
      "cell_type": "markdown",
      "metadata": {
        "id": "kLvxrCP5Bwdu"
      },
      "source": [
        "### Part (ii) [3pt DISCUSSION]\n",
        "\n",
        "Look over the misclassified samples in the test data and see if you can find any patterns on where the model has difficulty with identifying the review sentiment. Provide up to 5 examples of positive and negative reviews each to support your findings."
      ]
    },
    {
      "cell_type": "code",
      "execution_count": null,
      "metadata": {
        "colab": {
          "base_uri": "https://localhost:8080/"
        },
        "id": "IJt0APcBBwd5",
        "outputId": "37380031-bef6-4de0-f8c2-77a215b5762e"
      },
      "outputs": [
        {
          "name": "stdout",
          "output_type": "stream",
          "text": [
            "Incorrectly Classified Review Index: 48\n",
            "Review: While watching the film, I'm not sure what direstion it was to take. There's a reason a writer shouldn't direct his work and even act in it as well, you can't do it all. I felt the story really suffered in this film due to the director wearing so many hats. Ms. McTeer is the film. To add to her amazing talents, her portrayal of this woman was why I was engaged. Here is a British actress who can do anything. In my view, conflict is what makes drama and a great story. I felt this film didn't have that. Everything was somewhat easy for the characters, there were no real obstacles preventing the chahracters from getting what they wanted. Watch the film for the sweetness, but most of all for Ms. McTeer's brilliant performance.\n",
            "Predicted: Positive, Actual: Negative\n",
            "\n",
            "Incorrectly Classified Review Index: 54\n",
            "Review: You could see the final outcome from a mile away.All the signs were there....the prom,the liquor,the fast ride,the distraction of the females.... A good commercial for seatbelt usage,and later model vehicles that sit the passengers further back from the windshield.Also,the ending is rather anti climatic,as the Ford Econoline van barely suffers a crease across its nose after hitting a bridge abuttment at high speed (highly unlikely).More damage to the van would have made it a little more believable.And why do these films always take place during/after a prom? Is it a case of once you survive the prom,you will be good for life? More than anything else,it shows the lack of policing the prom for liquor,and not keeping tabs on the MINORs who are leaving the dance for a joyride.\n",
            "Predicted: Positive, Actual: Negative\n",
            "\n",
            "Incorrectly Classified Review Index: 56\n",
            "Review: The screen-play is very bad, but there are some action sequences that i really liked. I think the image is good, better than other romanian movies. I liked also how the actors did their jobs.\n",
            "Predicted: Positive, Actual: Negative\n",
            "\n",
            "Incorrectly Classified Review Index: 61\n",
            "Review: I guess if you like watching dudes get \"pumped up\" to outrageous sizes,this is right up your alley.Otherwise,it's an exercise in ego. I don't need to do either.Anyhoo,it's of historic interest,I guess,to see how these muscle positive and brain negative chumps got that way(before/after/and in between steroids)-but otherwise,this isn't going to influence many guys and,as for women,well,I'm not one so I can't say....\n",
            "Predicted: Positive, Actual: Negative\n",
            "\n",
            "Incorrectly Classified Review Index: 69\n",
            "Review: Dreamy young Ashton Kutcher (as Tom Stansfield) wants a date with sexy blonde Tara Reid (as Lisa Taylor). Ms. Reid thinks Mr. Kutcher is gay. Kutcher works for Reid's father, an anal retentive Terence Stamp (as Jack Taylor). Kutcher agrees to \"housesit\" for the boss, believing it will get him closer to Reid. Mr. Stamp has a pet owl named \"O.J.\", who becomes a toilet cokehead. <br /><br />This is a film to get your restricted to \"G-rated\" pre-teens ready for raunchier \"R-rated\" fare. It will help if they haven't seen the plot before, and especially like moronic potty humor. Remember, people get paid to act like this.<br /><br />** My Boss's Daughter (2003) David Zucker ~ Ashton Kutcher, Tara Reid, Terence Stamp\n",
            "Predicted: Positive, Actual: Negative\n",
            "\n",
            "Incorrectly Classified Review Index: 90\n",
            "Review: I saw Five Fingers at the Drive-In in...what, 1973, '74? It was the the first Kung-Fu movie I'd ever seen and I was greatly entertained. I recently bought it on DVD and watched it again. I was greatly entertained the second time, too. I believe this is probably the one most Kung-Fu movies are modeled after. Rival Schools, different styles, revenge, \"white hat\" good guys and \"black hat\" bad guys. They even threw in the Japanese (VERY bad guys) styles of Karate and Judo. I remember being amused by the dubbing dialog, along the lines of \"Hey You! You are a very bad guy!\" and \"They should not get away with this! I will have a go at this bad crowd!\" This time it wasn't so distracting, I guess I'm used to it. If you have even the slightest appreciation of this genre, this is one you should see.\n",
            "Predicted: Negative, Actual: Positive\n",
            "\n",
            "Incorrectly Classified Review Index: 115\n",
            "Review: i was flipping through the channels and had to stop and laugh when i came across this movie. It was so clearly about teens in the early 80s, and i called my mom \"hahaha, turn to channel such and such, the kid totally looks like if dad were a kid\".<br /><br />Um. Yeah. Turns out this movie is about my dad & his friends.<br /><br />Even without it being about loosely based on my dad's childhood, i'd say watch this movie! <br /><br />It is just.....bizarre to say the least, the apathy instilled in teens even back then. This is a good \"human interest\" and showcases some strange sides of the psyche.\n",
            "Predicted: Negative, Actual: Positive\n",
            "\n",
            "Incorrectly Classified Review Index: 121\n",
            "Review: No, this hilariously horrible 70's made-for-TV horror clinker isn't about a deadly demonically possessed dessert cake. Still, this exceptionally awful, yet undeniably amusing and thus enjoyable cathode ray refuse reaches a breathtaking apex of absolute, unremitting silliness and atrociousness that's quite tasty in a so-execrable-it's-downright-awesome sort of way. Richard Crenna, looking haggard and possibly inebriated, and Yvette Mimieux, who acts as if she never got over the brutal rape she endured in \"Jackson County Jail,\" sluggishly portray a disgustingly nice and respectable suburbanite couple whose quaint, dull, sleepy small town existence gets ripped asunder when the cute German Shepard they take in as the family pet turns out to be some ancient lethal evil spirit. Pretty soon Mimieux and her two repellently cutesy kids Kim Richards and Ike Eisenmann (the psychic alien moppets from the Disney \"Witch Mountain\" pictures) are worshiping a crude crayon drawing of the nasty, ugly canine entity in the den. Boy, now doesn't that sound really scary and disturbing? Well, scary and disturbing this laughably ludicrous claptrap sure ain't, but it sure is funny, thanks to Curtis (\"Night Tide\") Harrington's hopelessly weak direction, cartoonish (not so) special effects, an almost painfully risible'n'ridiculous plot, and a game cast that struggles valiantly with the absurd story (besides the leads, both Martine Beswicke and R.G. Armstrong briefly pop up as members of a Satanic cult and Victor Jory has a nice cameo as a helpful Native American shaman). Favorite scene: the malicious Mephestophelion mutt puts the whammy on Crenna, practically forcing him to stick his hand into a wildly spinning lawnmower blade. While stuck-up snobby fright film fans may hold their noses at the perfectly putrid stench of this admittedly smelly schlock, devout TV trash lovers should deem this endearingly abominable offal the boob tube equivalent to Alpo.\n",
            "Predicted: Negative, Actual: Positive\n",
            "\n",
            "Incorrectly Classified Review Index: 124\n",
            "Review: Ed (coincidentally an editor) is hired to cut horror films down to be favorable in Europe (where standards are much more rigorous). But he finds the films very mind-destroying and starts going a little bit mad. Okay, \"a little bit\" might be an understatement.<br /><br />Let me just say this first of all: best. opening. scene. ever. A man in an office who blows up his head with a grenade. His boss then says -- with a straight face -- \"you're fired\". The entire film does not keep up this level of intensity, but it certainly tries.<br /><br />Take the shotgun scenes, the decapitation, the clips from \"Lost Limbs\" (which my friend Jason wishes were a real film). The writer of this film thought up the idea of a woman who gets raped by a beaver and then immediately after gets shot in the face with a bazooka. That is something you won't find in any other movie (at least, I'm pretty doubtful you will).<br /><br />This film's biggest flaw is the quality. The picture isn't as crisp as a 1997 film should be, and the sound could be touched up (though it's not bad). I thought I was watching a 1980s film. Although, that gave it a bit of a boost in my mind -- the film also had the 1980s style of writing and directing in it: a sense of fun and giving the audience a little something extra over the top. I do miss those days.<br /><br />I wish I had more to say, though at the moment I cannot think of anything strong enough to praise this film. I do think you ought to see this. You've seen the box in your video store with the ax splitting the head... maybe you've passed it up a few times. Maybe you thought it would be cheesy. Pick it up. Savor it.\n",
            "Predicted: Negative, Actual: Positive\n",
            "\n",
            "Incorrectly Classified Review Index: 128\n",
            "Review: Ah, classic comedy. At the point in the movie where brains get messed together, a two minute scene with Bruce Campbell beating himself up partially, reminds me of how simplistic movies and ideas can grab you and wrap you into a whole movie.<br /><br />For years and years, Bruce Campbell knows what kind of movies we want out of him. We want to see weird movies like Bubba Ho Tep. We want to see cameo roles in Sam Raimi movies, and we want to see 'Man with the Screaming Brain'. With the title alone, one knows that it's going to border that completely silly type of movie, like Army of Darkness, only with more silly and less monsters.<br /><br />The idea of the movie is simple. Bruce sees doctor. Doctor has new idea. Bruce gets bad things happen to him on way to see doctor. Coincidentally, it's the thing the doctor wanted to show him that saves him. Hilarity ensues.<br /><br />With the addition of Ted Raimi as a weird Russian guy, and journeyman Stacy Keach as Dr. Ivan Ivanovich Ivanov, it's funny, that does this movie. Complete funny. Never a point of scary.<br /><br />If you like the silly Bruce Campbell, you'll like this. Then again, why would you be watching this if you didn't like Bruce Campbell?\n",
            "Predicted: Negative, Actual: Positive\n",
            "\n"
          ]
        }
      ],
      "source": [
        "# TO BE COMPLETED\n",
        "\n",
        "def print_incorrect_classifications(model, data_loader, X_test, y_test, max_prints=10):\n",
        "    \"\"\" Print indices of incorrectly classified reviews from X_test \"\"\"\n",
        "    model.eval()\n",
        "    false_pos = 0\n",
        "    false_neg = 0\n",
        "    total_idx = 0  # Keep track of the global index across batches\n",
        "\n",
        "    with torch.no_grad():\n",
        "        for inputs, labels in data_loader:\n",
        "            if use_cuda and torch.cuda.is_available():\n",
        "                inputs, labels = inputs.cuda(), labels.cuda()\n",
        "\n",
        "            outputs = model(inputs)\n",
        "            probabilities = torch.sigmoid(outputs)\n",
        "            predictions = (probabilities >= 0.5).float()\n",
        "\n",
        "            # Find which predictions are incorrect\n",
        "            incorrects = (predictions.squeeze() != labels)\n",
        "            incorrect_indices = incorrects.nonzero(as_tuple=False).squeeze()\n",
        "\n",
        "            for idx in incorrect_indices:\n",
        "                global_idx = total_idx + idx.item()\n",
        "                #Break Condition\n",
        "                if false_neg >= max_prints and false_pos >= max_prints:\n",
        "                  return\n",
        "\n",
        "                # print false positive review\n",
        "                elif false_neg < max_prints and y_test[global_idx] == 'negative':\n",
        "                  print(f\"Incorrectly Classified Review Index: {global_idx}\")\n",
        "                  print(f\"Review: {X_test[global_idx]}\")\n",
        "                  print(f\"Predicted: Positive, Actual: Negative\\n\")\n",
        "                  false_neg +=1\n",
        "\n",
        "                # print false negative review\n",
        "                elif false_pos < max_prints and y_test[global_idx] == 'positive':\n",
        "                  print(f\"Incorrectly Classified Review Index: {global_idx}\")\n",
        "                  print(f\"Review: {X_test[global_idx]}\")\n",
        "                  print(f\"Predicted: Negative, Actual: Positive\\n\")\n",
        "                  false_pos += 1\n",
        "\n",
        "            total_idx += inputs.size(0)\n",
        "\n",
        "# Create test DataLoader without shuffling, so indices are conserved\n",
        "test_loader = DataLoader(test_data, shuffle=False, batch_size=batch_size)\n",
        "\n",
        "# Call the function\n",
        "print_incorrect_classifications(model, test_loader, X_test, y_test, max_prints=5)\n",
        "\n"
      ]
    },
    {
      "cell_type": "code",
      "execution_count": null,
      "metadata": {
        "id": "Fyr16MISBwd5"
      },
      "outputs": [],
      "source": [
        "'''\n",
        "PROVIDE YOUR ANSWER BELOW\n",
        "\n",
        "Generally speaking, the incorrect classification seem to be due to the use of\n",
        "positive or reinforcing adjectives during negative reviews, and negative adjectives\n",
        "during positive reviews. Essentialy the language used and the structure of the\n",
        "review requires more semantic understanding and depth to grasp the writer's actual\n",
        "feelings. A good exmaple is in review indes 54 (second printed result above) in\n",
        "which phrases such as:\n",
        "\"A good commercial for seatbelt usage\"\n",
        "\"Leaving the dance for a joyride\"\n",
        "Which imply positive connotations, but are used in the context of criticism.\n",
        "\n",
        "Another good example is review index 90, which was a false negative classification.\n",
        "In this review, the user mentions the phrase 'bad guys' or 'very bad guys', or\n",
        "'bad crowd' like 4 times! Just the semantic meaning of individual words repeated\n",
        "over and over is enough to change the classification. The model isn't capabale of\n",
        "understanding that the user is quoting the film and describing\n",
        "the scenario with these terms, rather than only stating their opinion.\n",
        "\n",
        "One more example: review index 128, the last printed review, used all the following\n",
        "words or phrases:\n",
        "\"brains get messed together\"\n",
        "\"Bruce Campbell beating himself up\"\n",
        "\"simplistic movies\"\n",
        "\"want to see weird movies\"\n",
        "\"it's going to border that completely silly type of movie\"\n",
        "\"with more silly and less monsters\"\n",
        "\"Bruce gets bad things happen to him\"\n",
        "\"Ted Raimi as a weird Russian guy\"\n",
        "\"Never a point of scary\"\n",
        "AND:\n",
        "\"why would you be watching this if you didn't like Bruce Campbell?\"\n",
        "\n",
        "Need I say more as to why the model won't predict this review correctly? it's a\n",
        "very confusing review if you don't dig into the context that the user LIKES silly,\n",
        "weird, simplistic, movies that make them laugh.\n",
        "'''\n"
      ]
    },
    {
      "cell_type": "markdown",
      "metadata": {
        "id": "0jGHtQFpa91b"
      },
      "source": [
        "### Part (iii) [2pt RESULT]\n",
        "\n",
        "What is your model's prediction of the **probability** that\n",
        "the review message provided below is a positive review?\n",
        "\n",
        "Hint: You will need to apply the same processing on the review as was done on the the train, val, and test data sets."
      ]
    },
    {
      "cell_type": "code",
      "execution_count": null,
      "metadata": {
        "id": "h_2nSJq8a91b"
      },
      "outputs": [],
      "source": [
        "review = \"\"\" Man.... I wish I loved this movie more than I did. Don't get me wrong,\n",
        "it's a solid action movie with jaw-dropping stunts (some of the best in the series),\n",
        "but as a Mission: Impossible movie, it felt like a small step backward for the franchise.\n",
        "Fallout had mind-blowing action sequences and stunt work, along with developing Ethan's\n",
        "relationship with Ilsa, providing closure with Julia, showing the lengths Ethan would\n",
        "go to protect those closest to him, and battling an imposing villain. Dead Reckoning:\n",
        "Part One stretches the movie across two films only to seemingly showcase action\n",
        "spectacle after action spectacle while sacrificing character development.\n",
        "Characters I have grown to love over a decade of films felt sidelined, ignored,\n",
        "or wasted. Hayley Atwell's new character chewed up most of the screen time, and\n",
        "while she was fantastic, I wanted to see more of the original team. The new villain\n",
        "had an inconsistent ability that confused more than intimidated. There were some\n",
        "important emotional moments that I just didn't feel the weight of when I definitely\n",
        "should have. Part Two might tie everything together and make me enjoy Part One\n",
        "more in retrospect, but unfortunately, I left wanting more from this one. \"\"\"\n",
        "\n"
      ]
    },
    {
      "cell_type": "code",
      "execution_count": null,
      "metadata": {
        "colab": {
          "base_uri": "https://localhost:8080/"
        },
        "id": "CB-82EtwBmKb",
        "outputId": "e2d1392e-41d4-48d2-a18b-5c22dce598f4"
      },
      "outputs": [
        {
          "name": "stdout",
          "output_type": "stream",
          "text": [
            "Probability of being positive: 0.7228659391403198\n"
          ]
        }
      ],
      "source": [
        "# TO BE COMPLETED\n",
        "\n",
        "# Preprocess:\n",
        "def make_single_prediction(review, model, use_cuda = True):\n",
        "\n",
        "  sample_encoded, y_sample_encoded = tokenize(np.array([review]), np.zeros(1), stoi) #negative review I think\n",
        "  #apply padding\n",
        "  max_padding = 500\n",
        "  sample_encoded = padding_(sample_encoded, max_padding)\n",
        "  #turn into pytorch tensor\n",
        "  sample_tensor = torch.from_numpy(sample_encoded)\n",
        "  #use gpu if available\n",
        "  if use_cuda and torch.cuda.is_available():\n",
        "    model = model.cuda()\n",
        "    sample_tensor = sample_tensor.cuda()\n",
        "  #get prediction from model\n",
        "  with torch.no_grad():\n",
        "    model.eval()\n",
        "    pred = model(sample_tensor)\n",
        "    probability = torch.sigmoid(pred)\n",
        "    # prediction = (torch.sigmoid(pred) >= 0.5).float()\n",
        "  return probability.item()\n",
        "\n",
        "# Make a prediction and get the probability\n",
        "probability = make_single_prediction(review, model)\n",
        "print(\"Probability of being positive:\", probability)\n",
        "\n"
      ]
    },
    {
      "cell_type": "markdown",
      "metadata": {
        "id": "QD1zgYJpa91f"
      },
      "source": [
        "### Part (iv) [2pt DISCUSSION]\n",
        "\n",
        "Do you think that detecting positive and negative reviews is an easy or difficult task?\n",
        "\n",
        "Since machine learning models are expensive to train and deploy, it is very\n",
        "important to compare our models against baseline models: a simple\n",
        "model that is easy to build and inexpensive to run that we can compare our\n",
        "recurrent neural network model against.\n",
        "\n",
        "Explain how you might build a simple baseline model. This baseline model\n",
        "can be a simple neural network (with very few weights), a hand-written algorithm,\n",
        "or any other strategy that is easy to build and test.\n",
        "\n",
        "**Do not actually build a baseline model. Instead, provide instructions on\n",
        "how to build it.**"
      ]
    },
    {
      "cell_type": "code",
      "execution_count": null,
      "metadata": {
        "id": "7dwiiZYdvz34"
      },
      "outputs": [],
      "source": [
        "'''\n",
        "PROVIDE YOUR ANSWER BELOW\n",
        "\n",
        "I think that detecting the sentiment of a review is a difficult task. The truth\n",
        "is that unless the review is constrained so some straightforward writing style,\n",
        "length, or content, a review can be as nuanced and complicated as any other piece\n",
        "of writing. For this reason, the act of classifying it into 2 categories, positive\n",
        "or negative, perfectly would require a network to learn and understand the purpose\n",
        "and unique perspectives hidden within the language just like a human. It's not\n",
        "enough to associate some words, a model needs to be able to extract context in\n",
        "a variety of environments and sentance structures. The way in which meaning\n",
        "is communicated in natural language can take many forms, and even one small mistake\n",
        "in how a sentance is put together can completely change it's meaning. All it takes\n",
        "is the placement of one comma, or hypostrephe, and a sentances meaning is altered.\n",
        "\n",
        "If I were to build a very simple baseline model, I would probably do away with\n",
        "attempting to develop an understanding of sequence or context, and rather just\n",
        "look at word association. We could have 2 dictionaries: one with positive connotation,\n",
        "and one with negative connotation. Then we could perform a scrape across the review\n",
        "to get words which match between the 2 dictionaries. We could also apply weights\n",
        "to different words, say having the word 'great' be worth more than the word 'good'\n",
        "for the positive connotation dictionary. So, we scrape the review, see which words\n",
        "match between the review and either dictionary, and tally up the scores to see whether\n",
        "the review has more words associated with the positive or negative vocabs.This is\n",
        "a pretty terrible approach, because any positive review which talks about a scary\n",
        "or harsh film (like horrors or thrillers) will probably use words with negative\n",
        "connotation when describing the content of the film itself, even if the review\n",
        "of said film is positive, and same vice versa for feel good films which actually\n",
        "weren't reviewed well.\n",
        "\n",
        "That said, it would provide a baseline for assessing sentiment.\n",
        "\n",
        "\n",
        "'''"
      ]
    },
    {
      "cell_type": "markdown",
      "metadata": {
        "id": "zIR3Q5l0v1HP"
      },
      "source": [
        "# PART B - Transfer Learning\n",
        "\n",
        "For many natural language processing tasks, it is generally not a good idea to train a very large deep neural network model from scratch due to enormous compute requirements and lack of sufficient amounts of training data. Instead, you should always try to take advantage of an existing model that performs similar tasks as the one you need to solve.\n",
        "\n",
        "In this part of the assignment we will be using pretrained models to improve the performance on identifying positive and negative reviews. There are several pretrained models that are available to us, here we will use a pretrained BERT model that comes with the hugging face transformer library.\n",
        "\n",
        "Provided below is sample code to get you started. For more details please visit the hugging face tutorial on using pretrained models using PyTorch: https://huggingface.co/docs/transformers/training\n",
        "\n",
        "#### Sample Code"
      ]
    },
    {
      "cell_type": "code",
      "execution_count": 29,
      "metadata": {
        "id": "5R-_BQyiAMoo"
      },
      "outputs": [],
      "source": [
        "# install relevant libraries\n",
        "!pip install -qq transformers"
      ]
    },
    {
      "cell_type": "code",
      "execution_count": 30,
      "metadata": {
        "id": "316Xs5WBv0kg",
        "colab": {
          "base_uri": "https://localhost:8080/",
          "height": 177,
          "referenced_widgets": [
            "f521c805bfd247af81f7ce86d0375637",
            "38f202f10e92492d82e6d74ef0a39b4a",
            "8ccc70bf1144444ebbce483284c28896",
            "6fe3f8dac3994acb839e5f079e4c82c2",
            "e6f96b31a0df412fb7b4f838a1d654fb",
            "ff8e074a1b6d452897097b4091dadd83",
            "9043af105cf04541ac311529098699a7",
            "f1ec8200b6f24f6cb4cfe505065af619",
            "ac66666961924c74939e2bdfce43c9d1",
            "6c3620ef977041b1861ac2a477348893",
            "91140247f3e343089ecac4c73b8072c7",
            "91f0eb9de26a46cbbabb6dc8b05f7e93",
            "3fbd00796ae9478e924e09e87845d7b3",
            "36e6b9e9b2fc4aba92c145cf846af104",
            "c309638612ad448d8d777bafa4afa9ca",
            "c61b5d1048ef49be8c9cc6c907460655",
            "c6285d7c3c7e41f6b741b70df87f1cae",
            "27a955b7fab3404abd50162624456afd",
            "4f4e1c7cd0ce45009b78136b5b922aba",
            "6cd013e689554cd496a6a2fa205c0c6e",
            "3065dc76fe65431687d920440160e696",
            "845229ff325e45b7b7378650398f6138",
            "4b07d9124bfc42dd85322f66ebf92a61",
            "14c342e76cfe4a10a8e7bf62c91253d2",
            "2efd53c10bc5426382089d230e8b1c1b",
            "ec58aeed80484988868e8ed4effe16c0",
            "da5cc0eb4e1e4d7bab2cdf598c693aa2",
            "f7263878931f42dda81ce833b60f3506",
            "f0c8ca338e374335a67496c88e98a1a0",
            "2885c44041404c96923f181037a1073b",
            "34b1aa3a0d804de2ab2e09e3e61113ce",
            "ff302ac3594543b7897497f303fc561f",
            "5faf1089d25b4d3abc1cda63ba7b6689",
            "a5054d3700874824bceb4e05c032dff3",
            "afb4f7d2b7564e0cb5da192fa06388af",
            "0265078a347d487bbd66d37692f06049",
            "6fe5892d28314134b03dddc6456e276f",
            "4956a073c1304373b749acd4a615dcea",
            "2c581076d4e449da90e1c4c35e00b66c",
            "af894e069bd242509339dd2717afe803",
            "5339ac77812141598202f10482dc8d46",
            "e47a752da18c4a47a2e3fb0102b44ac8",
            "b40474b6c35e4998be6d1463c303d139",
            "6c0d072041344621af9700005392fbb1",
            "db7e3b9ac7f149299bd81854337825c7",
            "8e224e4f471247fea1cc52a4fd199dae",
            "a29841f14b6e401abdd4f3432fea6152",
            "446e41e4c6d3434a81f28281654272ec",
            "e882c9d6c7504b13b63dbe7862df5d7b",
            "bf706189352c4834975378db82d1443f",
            "23b7f63322ef4d2999a8464bdcbc8f11",
            "5177cfc669484256b4810ebab4921d0f",
            "a063f27785a34b34adcf807b3cc012cc",
            "1b803ba6d6f8495eb94dee2c1ab548f2",
            "b018332ef2b1444a9f4279550aa5ad7b"
          ]
        },
        "outputId": "21683fd5-8996-45f4-f102-584843679c8b"
      },
      "outputs": [
        {
          "output_type": "display_data",
          "data": {
            "text/plain": [
              "tokenizer_config.json:   0%|          | 0.00/29.0 [00:00<?, ?B/s]"
            ],
            "application/vnd.jupyter.widget-view+json": {
              "version_major": 2,
              "version_minor": 0,
              "model_id": "f521c805bfd247af81f7ce86d0375637"
            }
          },
          "metadata": {}
        },
        {
          "output_type": "display_data",
          "data": {
            "text/plain": [
              "vocab.txt:   0%|          | 0.00/213k [00:00<?, ?B/s]"
            ],
            "application/vnd.jupyter.widget-view+json": {
              "version_major": 2,
              "version_minor": 0,
              "model_id": "91f0eb9de26a46cbbabb6dc8b05f7e93"
            }
          },
          "metadata": {}
        },
        {
          "output_type": "display_data",
          "data": {
            "text/plain": [
              "tokenizer.json:   0%|          | 0.00/436k [00:00<?, ?B/s]"
            ],
            "application/vnd.jupyter.widget-view+json": {
              "version_major": 2,
              "version_minor": 0,
              "model_id": "4b07d9124bfc42dd85322f66ebf92a61"
            }
          },
          "metadata": {}
        },
        {
          "output_type": "display_data",
          "data": {
            "text/plain": [
              "config.json:   0%|          | 0.00/570 [00:00<?, ?B/s]"
            ],
            "application/vnd.jupyter.widget-view+json": {
              "version_major": 2,
              "version_minor": 0,
              "model_id": "a5054d3700874824bceb4e05c032dff3"
            }
          },
          "metadata": {}
        },
        {
          "output_type": "display_data",
          "data": {
            "text/plain": [
              "model.safetensors:   0%|          | 0.00/436M [00:00<?, ?B/s]"
            ],
            "application/vnd.jupyter.widget-view+json": {
              "version_major": 2,
              "version_minor": 0,
              "model_id": "db7e3b9ac7f149299bd81854337825c7"
            }
          },
          "metadata": {}
        }
      ],
      "source": [
        "# load relevant libraries\n",
        "import transformers\n",
        "from transformers import BertModel, BertTokenizer, AdamW, get_linear_schedule_with_warmup\n",
        "\n",
        "PRE_TRAINED_MODEL_NAME = 'bert-base-cased'\n",
        "\n",
        "tokenizer = BertTokenizer.from_pretrained(PRE_TRAINED_MODEL_NAME)\n",
        "bert_model = BertModel.from_pretrained(PRE_TRAINED_MODEL_NAME)\n"
      ]
    },
    {
      "cell_type": "code",
      "execution_count": null,
      "metadata": {
        "colab": {
          "base_uri": "https://localhost:8080/"
        },
        "id": "_20pdf-tYySb",
        "outputId": "4c0e6f68-252c-4e65-bcbb-fa63a76a6feb"
      },
      "outputs": [
        {
          "name": "stderr",
          "output_type": "stream",
          "text": [
            "/usr/local/lib/python3.10/dist-packages/transformers/tokenization_utils_base.py:2614: FutureWarning: The `pad_to_max_length` argument is deprecated and will be removed in a future version, use `padding=True` or `padding='longest'` to pad to the longest sequence in the batch, or use `padding='max_length'` to pad to a max length. In this case, you can give a specific length with `max_length` (e.g. `max_length=45`) or leave max_length to None to pad to the maximal input size of the model (e.g. 512 for Bert).\n",
            "  warnings.warn(\n"
          ]
        }
      ],
      "source": [
        "sample_txt = 'I want to learn how to do sentiment analysis using BERT and tokenizer.'\n",
        "\n",
        "encoding = tokenizer.encode_plus(\n",
        "  sample_txt,\n",
        "  max_length=32,\n",
        "  add_special_tokens=True, # Add '[CLS]' and '[SEP]'\n",
        "  return_token_type_ids=False,\n",
        "  pad_to_max_length=True,\n",
        "  return_attention_mask=True,\n",
        "  return_tensors='pt',  # Return PyTorch tensors\n",
        "  truncation = True\n",
        ")"
      ]
    },
    {
      "cell_type": "code",
      "execution_count": null,
      "metadata": {
        "colab": {
          "base_uri": "https://localhost:8080/"
        },
        "id": "O1B4RiOOcbGY",
        "outputId": "9c5a45f5-ca0c-4280-e991-7db33d8a41fc"
      },
      "outputs": [
        {
          "data": {
            "text/plain": [
              "tensor([[  101,   146,  1328,  1106,  3858,  1293,  1106,  1202, 17024,  3622,\n",
              "          1606,   139,  9637,  1942,  1105, 22559, 17260,   119,   102,     0,\n",
              "             0,     0,     0,     0,     0,     0,     0,     0,     0,     0,\n",
              "             0,     0]])"
            ]
          },
          "execution_count": 172,
          "metadata": {},
          "output_type": "execute_result"
        }
      ],
      "source": [
        "encoding['input_ids']"
      ]
    },
    {
      "cell_type": "code",
      "execution_count": null,
      "metadata": {
        "colab": {
          "base_uri": "https://localhost:8080/"
        },
        "id": "7sZ1j9PfceFF",
        "outputId": "42fee21b-cc9e-40f9-f36f-9d554da27ccc"
      },
      "outputs": [
        {
          "data": {
            "text/plain": [
              "tensor([[1, 1, 1, 1, 1, 1, 1, 1, 1, 1, 1, 1, 1, 1, 1, 1, 1, 1, 1, 0, 0, 0, 0, 0,\n",
              "         0, 0, 0, 0, 0, 0, 0, 0]])"
            ]
          },
          "execution_count": 173,
          "metadata": {},
          "output_type": "execute_result"
        }
      ],
      "source": [
        "encoding['attention_mask']"
      ]
    },
    {
      "cell_type": "code",
      "execution_count": null,
      "metadata": {
        "id": "dZ458Q_uYzxu"
      },
      "outputs": [],
      "source": [
        "hidden_states = bert_model(input_ids=encoding['input_ids'],\n",
        "                           attention_mask=encoding['attention_mask'])[0]\n",
        "pooled_output = bert_model(input_ids=encoding['input_ids'],\n",
        "                           attention_mask=encoding['attention_mask'])[1]"
      ]
    },
    {
      "cell_type": "code",
      "execution_count": null,
      "metadata": {
        "colab": {
          "base_uri": "https://localhost:8080/"
        },
        "id": "GqwUAEIzZNBO",
        "outputId": "83e2f7aa-3e24-47bc-83aa-96a0f36060e7"
      },
      "outputs": [
        {
          "name": "stdout",
          "output_type": "stream",
          "text": [
            "768\n",
            "torch.Size([1, 32, 768])\n",
            "torch.Size([1, 768])\n"
          ]
        }
      ],
      "source": [
        "hidden_size = bert_model.config.hidden_size\n",
        "\n",
        "print(hidden_size)\n",
        "print(hidden_states.shape)\n",
        "print(pooled_output.shape)\n"
      ]
    },
    {
      "cell_type": "markdown",
      "metadata": {
        "id": "7HCaqLDaZo2l"
      },
      "source": [
        "In the sample code provided we loaded a short text sequence, tokenized it using the same tokenization that was used in the pretrained BERT model, and fed the tokenized input into the BERT model to obtain the embeddings.\n",
        "\n",
        "The model output consists of two forms of embeddings:\n",
        "- **hidden_states** are the final layer of outputs that has a shape sequence_length x embeddings, much like the hidden states of a recurrent neural network\n",
        "- **pooled_output** is the result of applying max pooling on the hidden states to effectively collapse the sequence dimenension and ensure the same output size for any given sequence before feeding into the classification stage\n",
        "\n",
        "Note that you can preprocess all of the data prior to training a classifier stage for sentiment analysis to help speed up the training process. This is no different from the process we applied in an earlier assignment using AlexNet and image data."
      ]
    },
    {
      "cell_type": "markdown",
      "metadata": {
        "id": "4le9bqnuc2JZ"
      },
      "source": [
        "## Part 1. Data Loading [5 pt]\n",
        "\n",
        "We will be using the same \"IMDB Movie Review Dataset\" that we used earlier. Reload the data and complete Part B of the assignment. You should be able to complete part B independently from Part A.\n",
        "\n",
        "### Part (i) [1pt EXPLORATORY]\n",
        "\n",
        "Provided below is a DataLoader for your training and test datasets so you can iterate over batches of data. Run the DataLoader to create your training, validation, and test data."
      ]
    },
    {
      "cell_type": "code",
      "execution_count": 27,
      "metadata": {
        "id": "hIQ1A5-JX7OR"
      },
      "outputs": [],
      "source": [
        "import pandas as pd\n",
        "import numpy as np\n",
        "import matplotlib.pyplot as plt\n",
        "from sklearn.model_selection import train_test_split\n",
        "\n",
        "# load pytorch modules/libraries\n",
        "import torch\n",
        "import torch.nn as nn\n",
        "import torch.nn.functional as F\n",
        "import torch.optim as optim\n",
        "from torch.utils.data import TensorDataset,DataLoader"
      ]
    },
    {
      "cell_type": "code",
      "execution_count": 28,
      "metadata": {
        "id": "LzlpaXmteHQd"
      },
      "outputs": [],
      "source": [
        "from torch.utils.data import Dataset, DataLoader\n",
        "\n",
        "class MovieReviewDataset(Dataset):\n",
        "\n",
        "  def __init__(self, reviews, targets, tokenizer, max_len):\n",
        "    self.reviews = reviews\n",
        "    self.targets = targets\n",
        "    self.tokenizer = tokenizer\n",
        "    self.max_len = max_len\n",
        "\n",
        "  def __len__(self):\n",
        "    return len(self.reviews)\n",
        "\n",
        "  def __getitem__(self, item):\n",
        "    review = str(self.reviews[item])\n",
        "    target = self.targets[item]\n",
        "\n",
        "    encoding = self.tokenizer.encode_plus(\n",
        "      review,\n",
        "      add_special_tokens=True,\n",
        "      max_length=self.max_len,\n",
        "      return_token_type_ids=False,\n",
        "      pad_to_max_length=True,\n",
        "      return_attention_mask=True,\n",
        "      return_tensors='pt',\n",
        "      truncation = True\n",
        "    )\n",
        "\n",
        "    return {\n",
        "      'review_text': review,\n",
        "      'input_ids': encoding['input_ids'].flatten(),\n",
        "      'attention_mask': encoding['attention_mask'].flatten(),\n",
        "      'targets': torch.tensor(target, dtype=torch.long)\n",
        "    }"
      ]
    },
    {
      "cell_type": "code",
      "execution_count": 39,
      "metadata": {
        "id": "27_5roCZeI8T",
        "colab": {
          "base_uri": "https://localhost:8080/"
        },
        "outputId": "d0e088df-9cb0-4b31-9f68-a1a09fa60041"
      },
      "outputs": [
        {
          "output_type": "stream",
          "name": "stderr",
          "text": [
            "/usr/local/lib/python3.10/dist-packages/torch/utils/data/dataloader.py:557: UserWarning: This DataLoader will create 4 worker processes in total. Our suggested max number of worker in current system is 2, which is smaller than what this DataLoader is going to create. Please be aware that excessive worker creation might get DataLoader running slow or even freeze, lower the worker number to avoid potential slowness/freeze if necessary.\n",
            "  warnings.warn(_create_warning_msg(\n"
          ]
        }
      ],
      "source": [
        "# prepare data loaders\n",
        "MAX_LEN = 400\n",
        "BATCH_SIZE = 16\n",
        "NUM_WORKERS = 4\n",
        "random_state = 42\n",
        "\n",
        "# Using my prexisting X_train, X_val, X_test numpy arrays from part 1.\n",
        "# load dataset\n",
        "df = pd.read_csv(\"IMDB Dataset.csv\")\n",
        "\n",
        "# process into data and labels\n",
        "X = df['review'].values\n",
        "y = df['sentiment'].values\n",
        "#Change targets to integer boolean rather than string:\n",
        "for i in range(len(y)):\n",
        "  if y[i] == 'positive':\n",
        "    y[i] = 1\n",
        "  else:\n",
        "    y[i] = 0\n",
        "#split the data into training and temporary datasets with a 60/40 split.\n",
        "X_train, X_temp, y_train, y_temp = train_test_split(X, y, test_size=0.4, random_state=random_state)\n",
        "# Then, split the temporary dataset equally into validation and test datasets to achieve a 20/20 split of the original.\n",
        "X_val, X_test, y_val, y_test = train_test_split(X_temp, y_temp, test_size=0.5, random_state=random_state)\n",
        "\n",
        "#training data\n",
        "train_data = MovieReviewDataset(reviews=X_train,\n",
        "                                targets=y_train,\n",
        "                                tokenizer=tokenizer,\n",
        "                                max_len=MAX_LEN)\n",
        "\n",
        "train_data_loader = DataLoader(train_data, batch_size = BATCH_SIZE, num_workers = NUM_WORKERS) #modify num_works as needed\n",
        "\n",
        "#validation data\n",
        "# TO BE COMPLETED\n",
        "validation_data = MovieReviewDataset(reviews=X_val,\n",
        "                                targets=y_val,\n",
        "                                tokenizer=tokenizer,\n",
        "                                max_len=MAX_LEN)\n",
        "\n",
        "validation_data_loader = DataLoader(validation_data, batch_size = BATCH_SIZE, num_workers = NUM_WORKERS) #modify num_works as needed\n",
        "#test data\n",
        "# TO BE COMPLETED\n",
        "test_data = MovieReviewDataset(reviews=X_test,\n",
        "                                targets=y_test,\n",
        "                                tokenizer=tokenizer,\n",
        "                                max_len=MAX_LEN)\n",
        "\n",
        "test_data_loader = DataLoader(test_data, batch_size = BATCH_SIZE, num_workers = NUM_WORKERS) #modify num_works as needed\n"
      ]
    },
    {
      "cell_type": "markdown",
      "metadata": {
        "id": "g0ymyMvzfdVv"
      },
      "source": [
        "### Part (ii) [1pt EXPLORATORY]\n",
        "\n",
        "Use the **train_data_loader** to load one sample. What are the different attributes provided with the sample and how are they used?"
      ]
    },
    {
      "cell_type": "code",
      "execution_count": null,
      "metadata": {
        "colab": {
          "base_uri": "https://localhost:8080/"
        },
        "id": "UgdwGNtik1ZR",
        "outputId": "4f7c55f0-6b6b-4353-f6ed-33366df46058"
      },
      "outputs": [
        {
          "name": "stderr",
          "output_type": "stream",
          "text": [
            "/usr/local/lib/python3.10/dist-packages/transformers/tokenization_utils_base.py:2614: FutureWarning: The `pad_to_max_length` argument is deprecated and will be removed in a future version, use `padding=True` or `padding='longest'` to pad to the longest sequence in the batch, or use `padding='max_length'` to pad to a max length. In this case, you can give a specific length with `max_length` (e.g. `max_length=45`) or leave max_length to None to pad to the maximal input size of the model (e.g. 512 for Bert).\n",
            "  warnings.warn(\n",
            "/usr/local/lib/python3.10/dist-packages/transformers/tokenization_utils_base.py:2614: FutureWarning: The `pad_to_max_length` argument is deprecated and will be removed in a future version, use `padding=True` or `padding='longest'` to pad to the longest sequence in the batch, or use `padding='max_length'` to pad to a max length. In this case, you can give a specific length with `max_length` (e.g. `max_length=45`) or leave max_length to None to pad to the maximal input size of the model (e.g. 512 for Bert).\n",
            "  warnings.warn(\n",
            "/usr/local/lib/python3.10/dist-packages/transformers/tokenization_utils_base.py:2614: FutureWarning: The `pad_to_max_length` argument is deprecated and will be removed in a future version, use `padding=True` or `padding='longest'` to pad to the longest sequence in the batch, or use `padding='max_length'` to pad to a max length. In this case, you can give a specific length with `max_length` (e.g. `max_length=45`) or leave max_length to None to pad to the maximal input size of the model (e.g. 512 for Bert).\n",
            "  warnings.warn(\n",
            "/usr/local/lib/python3.10/dist-packages/transformers/tokenization_utils_base.py:2614: FutureWarning: The `pad_to_max_length` argument is deprecated and will be removed in a future version, use `padding=True` or `padding='longest'` to pad to the longest sequence in the batch, or use `padding='max_length'` to pad to a max length. In this case, you can give a specific length with `max_length` (e.g. `max_length=45`) or leave max_length to None to pad to the maximal input size of the model (e.g. 512 for Bert).\n",
            "  warnings.warn(\n"
          ]
        },
        {
          "name": "stdout",
          "output_type": "stream",
          "text": [
            "Sample Input IDs: [  101   146 12214   113  2776  5847   114  1641  1121  1199  1168  7368\n",
            "   119   146  1138  1106  1474   117  1115  1112   178  1932  1274   112\n",
            "   189  1176  2398  1326   117   146  1541  1225  3851  1142  1141   119\n",
            "  2038  2650   117  5426  1105  1136   172 16879  2744  1642   117  1363\n",
            "  3176   117  1363  1105  1254  1136   172 16879  2744   113  1134  1107\n",
            "  1692  1104 17693  8032  1116  1110  1897  4054   114 17693  8032  1116\n",
            "   119   119   119  1135  1110  1541  5426   117  1293  1103  2650  2771\n",
            " 10843  1114  1296  1168   117  1105  2121  3650  1193   117  2121  1167\n",
            "  1137  1750  1120  7091  2933  1296  1639  2491   119  1252 16679   117\n",
            "  1112  1195  1474  1107  1412  1583   118  1202  1128  1221  1293  1202\n",
            "  1128  6239   170  1363  1646  1326   136  1135  1110  1103  1141  1115\n",
            "  1400 13825  1196  1103  1322  1104  1103  1148  1265   119  6542   117\n",
            "  1122  2762   112   189  1579  2276   117  1133   119   119   119   102\n",
            "     0     0     0     0     0     0     0     0     0     0     0     0\n",
            "     0     0     0     0     0     0     0     0     0     0     0     0\n",
            "     0     0     0     0     0     0     0     0     0     0     0     0\n",
            "     0     0     0     0     0     0     0     0     0     0     0     0\n",
            "     0     0     0     0     0     0     0     0     0     0     0     0\n",
            "     0     0     0     0     0     0     0     0     0     0     0     0\n",
            "     0     0     0     0     0     0     0     0     0     0     0     0\n",
            "     0     0     0     0     0     0     0     0     0     0     0     0\n",
            "     0     0     0     0     0     0     0     0     0     0     0     0\n",
            "     0     0     0     0     0     0     0     0     0     0     0     0\n",
            "     0     0     0     0     0     0     0     0     0     0     0     0\n",
            "     0     0     0     0     0     0     0     0     0     0     0     0\n",
            "     0     0     0     0     0     0     0     0     0     0     0     0\n",
            "     0     0     0     0     0     0     0     0     0     0     0     0\n",
            "     0     0     0     0     0     0     0     0     0     0     0     0\n",
            "     0     0     0     0     0     0     0     0     0     0     0     0\n",
            "     0     0     0     0     0     0     0     0     0     0     0     0\n",
            "     0     0     0     0     0     0     0     0     0     0     0     0\n",
            "     0     0     0     0     0     0     0     0     0     0     0     0\n",
            "     0     0     0     0     0     0     0     0     0     0     0     0\n",
            "     0     0     0     0]\n",
            "Sample Attention Mask: [1 1 1 1 1 1 1 1 1 1 1 1 1 1 1 1 1 1 1 1 1 1 1 1 1 1 1 1 1 1 1 1 1 1 1 1 1\n",
            " 1 1 1 1 1 1 1 1 1 1 1 1 1 1 1 1 1 1 1 1 1 1 1 1 1 1 1 1 1 1 1 1 1 1 1 1 1\n",
            " 1 1 1 1 1 1 1 1 1 1 1 1 1 1 1 1 1 1 1 1 1 1 1 1 1 1 1 1 1 1 1 1 1 1 1 1 1\n",
            " 1 1 1 1 1 1 1 1 1 1 1 1 1 1 1 1 1 1 1 1 1 1 1 1 1 1 1 1 1 1 1 1 1 1 1 1 1\n",
            " 1 1 1 1 1 1 1 1 0 0 0 0 0 0 0 0 0 0 0 0 0 0 0 0 0 0 0 0 0 0 0 0 0 0 0 0 0\n",
            " 0 0 0 0 0 0 0 0 0 0 0 0 0 0 0 0 0 0 0 0 0 0 0 0 0 0 0 0 0 0 0 0 0 0 0 0 0\n",
            " 0 0 0 0 0 0 0 0 0 0 0 0 0 0 0 0 0 0 0 0 0 0 0 0 0 0 0 0 0 0 0 0 0 0 0 0 0\n",
            " 0 0 0 0 0 0 0 0 0 0 0 0 0 0 0 0 0 0 0 0 0 0 0 0 0 0 0 0 0 0 0 0 0 0 0 0 0\n",
            " 0 0 0 0 0 0 0 0 0 0 0 0 0 0 0 0 0 0 0 0 0 0 0 0 0 0 0 0 0 0 0 0 0 0 0 0 0\n",
            " 0 0 0 0 0 0 0 0 0 0 0 0 0 0 0 0 0 0 0 0 0 0 0 0 0 0 0 0 0 0 0 0 0 0 0 0 0\n",
            " 0 0 0 0 0 0 0 0 0 0 0 0 0 0 0 0 0 0 0 0 0 0 0 0 0 0 0 0 0 0]\n",
            "Sample Target: 1\n",
            "Sample Review Text: I borrowed (slightly modified) title from some other comment. I have to say, that as i usually don't like relationship series, I really did liked this one. Great characters, interesting and not cliché story, good acting, good and again not cliché (which in case of dialogs is rather rare) dialogs ... It is really interesting, how the characters cross paths with each other, and sometimes knowingly, sometimes more or less at random influence each others lives. But unfortunately, as we say in our country - do you know how do you recognize a good US series? It is the one that got canceled before the end of the first season. Sure, it isn't always true, but ...\n"
          ]
        }
      ],
      "source": [
        "# TO BE COMPLETED\n",
        "# Function to get a single batch from the DataLoader\n",
        "for batch in train_data_loader:\n",
        "    break\n",
        "\n",
        "sample_input_ids = batch['input_ids'][0]  # Get the input_ids of the first sample in the batch\n",
        "sample_attention_mask = batch['attention_mask'][0]  # Get the attention_mask of the first sample in the batch\n",
        "sample_target = batch['targets'][0]  # Get the target label of the first sample in the batch\n",
        "sample_review_text = batch['review_text'][0]  # Get the review text of the first sample in the batch\n",
        "\n",
        "# If you need to, you can convert these to the appropriate format (e.g., numpy array, list, etc.)\n",
        "# For example, converting tensors to numpy arrays (if needed):\n",
        "sample_input_ids = sample_input_ids.numpy()\n",
        "sample_attention_mask = sample_attention_mask.numpy()\n",
        "sample_target = sample_target.item()  # For a single value, you can use .item() to get it as a Python scalar\n",
        "\n",
        "# Now you can use these samples as needed\n",
        "print(\"Sample Input IDs:\", sample_input_ids)\n",
        "print(\"Sample Attention Mask:\", sample_attention_mask)\n",
        "print(\"Sample Target:\", sample_target)\n",
        "print(\"Sample Review Text:\", sample_review_text)"
      ]
    },
    {
      "cell_type": "code",
      "execution_count": null,
      "metadata": {
        "id": "OOVKM8kPdPwC"
      },
      "outputs": [],
      "source": [
        "'''\n",
        "PROVIDE YOUR ANSWER BELOW\n",
        "\n",
        "Input ID's are just the tokenized version of the sample input using the BERT tokenizer.\n",
        "A tokenizer is necessary for mapping a string input to a word ID before embedding.\n",
        "\n",
        "The attention mask is a binary list indicating which ID's need attention from the\n",
        "modelm and which are padding.\n",
        "\n",
        "The target is obviously the classification, and is required for training and validation.\n",
        "\n",
        "Finally the sample review text is the input to the tokenizer, the raw data itself.\n",
        "\n",
        "'''"
      ]
    },
    {
      "cell_type": "markdown",
      "metadata": {
        "id": "GXQt2HiGfh4p"
      },
      "source": [
        "### Part (iii) [1pt EXPLORATORY]\n",
        "\n",
        "Determine the range of values for the tokens in the training data. How are the tokens obtained?\n",
        "\n",
        "Hint: You can apply your intuition here, or do some additional research to find how the \"bert-base-cased\" tokenization is done."
      ]
    },
    {
      "cell_type": "code",
      "execution_count": null,
      "metadata": {
        "colab": {
          "base_uri": "https://localhost:8080/"
        },
        "id": "6cVEH5YhkYUQ",
        "outputId": "142f707d-22f7-4417-c2e8-c4d4fc44884e"
      },
      "outputs": [
        {
          "name": "stdout",
          "output_type": "stream",
          "text": [
            "Number of unique tokens in tokenizer: 28996\n"
          ]
        }
      ],
      "source": [
        "# TO BE COMPLETED\n",
        "\n",
        "num_unique_tokens = len(tokenizer.vocab)\n",
        "print(\"Number of unique tokens in tokenizer:\", num_unique_tokens)"
      ]
    },
    {
      "cell_type": "code",
      "execution_count": null,
      "metadata": {
        "id": "Im2KNoOPdYHU"
      },
      "outputs": [],
      "source": [
        "'''\n",
        "PROVIDE YOUR ANSWER BELOW\n",
        "\n",
        "\n",
        "So the bert base model cased loaded from hugging face has about 29000 unique tokens.\n",
        "From research, it looks like the bert tokenizer uses a wordpiece algorithm to\n",
        "create it's vocabulary, where if it encounters an unknown word it can split\n",
        "it into subwords to derive some semantic meaning. Additionaly, bert-CASED refers\n",
        "to the model's distinction between using uppercase vs lowercase letters. Bert-cased\n",
        "has a larger vocabulary because it distinguishes some difference in meaning between\n",
        "capitalizaed or non capitalized letters. IE. Sky (the nickname) or sky (the environment)\n",
        "for example\n",
        "\n",
        "\n",
        "'''"
      ]
    },
    {
      "cell_type": "markdown",
      "metadata": {
        "id": "6CYKglzbfTmw"
      },
      "source": [
        "### Part (iv) [1pt EXPLORATORY]\n",
        "\n",
        "Generate histograms of all the token values in the training data. Repeat for the validation and test data. What are the top 5 occuring tokens in the training_dataset? What do these tokens represent?"
      ]
    },
    {
      "cell_type": "code",
      "execution_count": null,
      "metadata": {
        "colab": {
          "background_save": true,
          "base_uri": "https://localhost:8080/"
        },
        "id": "HTZdkR7ukhRg",
        "outputId": "8cb88a5f-1bb4-4566-d19a-fe96d81a9a44"
      },
      "outputs": [
        {
          "name": "stderr",
          "output_type": "stream",
          "text": [
            "/usr/local/lib/python3.10/dist-packages/transformers/tokenization_utils_base.py:2614: FutureWarning: The `pad_to_max_length` argument is deprecated and will be removed in a future version, use `padding=True` or `padding='longest'` to pad to the longest sequence in the batch, or use `padding='max_length'` to pad to a max length. In this case, you can give a specific length with `max_length` (e.g. `max_length=45`) or leave max_length to None to pad to the maximal input size of the model (e.g. 512 for Bert).\n",
            "  warnings.warn(\n",
            "/usr/local/lib/python3.10/dist-packages/transformers/tokenization_utils_base.py:2614: FutureWarning: The `pad_to_max_length` argument is deprecated and will be removed in a future version, use `padding=True` or `padding='longest'` to pad to the longest sequence in the batch, or use `padding='max_length'` to pad to a max length. In this case, you can give a specific length with `max_length` (e.g. `max_length=45`) or leave max_length to None to pad to the maximal input size of the model (e.g. 512 for Bert).\n",
            "  warnings.warn(\n",
            "/usr/local/lib/python3.10/dist-packages/transformers/tokenization_utils_base.py:2614: FutureWarning: The `pad_to_max_length` argument is deprecated and will be removed in a future version, use `padding=True` or `padding='longest'` to pad to the longest sequence in the batch, or use `padding='max_length'` to pad to a max length. In this case, you can give a specific length with `max_length` (e.g. `max_length=45`) or leave max_length to None to pad to the maximal input size of the model (e.g. 512 for Bert).\n",
            "  warnings.warn(\n",
            "/usr/local/lib/python3.10/dist-packages/transformers/tokenization_utils_base.py:2614: FutureWarning: The `pad_to_max_length` argument is deprecated and will be removed in a future version, use `padding=True` or `padding='longest'` to pad to the longest sequence in the batch, or use `padding='max_length'` to pad to a max length. In this case, you can give a specific length with `max_length` (e.g. `max_length=45`) or leave max_length to None to pad to the maximal input size of the model (e.g. 512 for Bert).\n",
            "  warnings.warn(\n",
            "/usr/local/lib/python3.10/dist-packages/transformers/tokenization_utils_base.py:2614: FutureWarning: The `pad_to_max_length` argument is deprecated and will be removed in a future version, use `padding=True` or `padding='longest'` to pad to the longest sequence in the batch, or use `padding='max_length'` to pad to a max length. In this case, you can give a specific length with `max_length` (e.g. `max_length=45`) or leave max_length to None to pad to the maximal input size of the model (e.g. 512 for Bert).\n",
            "  warnings.warn(\n",
            "/usr/local/lib/python3.10/dist-packages/transformers/tokenization_utils_base.py:2614: FutureWarning: The `pad_to_max_length` argument is deprecated and will be removed in a future version, use `padding=True` or `padding='longest'` to pad to the longest sequence in the batch, or use `padding='max_length'` to pad to a max length. In this case, you can give a specific length with `max_length` (e.g. `max_length=45`) or leave max_length to None to pad to the maximal input size of the model (e.g. 512 for Bert).\n",
            "  warnings.warn(\n",
            "/usr/local/lib/python3.10/dist-packages/transformers/tokenization_utils_base.py:2614: FutureWarning: The `pad_to_max_length` argument is deprecated and will be removed in a future version, use `padding=True` or `padding='longest'` to pad to the longest sequence in the batch, or use `padding='max_length'` to pad to a max length. In this case, you can give a specific length with `max_length` (e.g. `max_length=45`) or leave max_length to None to pad to the maximal input size of the model (e.g. 512 for Bert).\n",
            "  warnings.warn(\n",
            "/usr/local/lib/python3.10/dist-packages/transformers/tokenization_utils_base.py:2614: FutureWarning: The `pad_to_max_length` argument is deprecated and will be removed in a future version, use `padding=True` or `padding='longest'` to pad to the longest sequence in the batch, or use `padding='max_length'` to pad to a max length. In this case, you can give a specific length with `max_length` (e.g. `max_length=45`) or leave max_length to None to pad to the maximal input size of the model (e.g. 512 for Bert).\n",
            "  warnings.warn(\n",
            "/usr/local/lib/python3.10/dist-packages/transformers/tokenization_utils_base.py:2614: FutureWarning: The `pad_to_max_length` argument is deprecated and will be removed in a future version, use `padding=True` or `padding='longest'` to pad to the longest sequence in the batch, or use `padding='max_length'` to pad to a max length. In this case, you can give a specific length with `max_length` (e.g. `max_length=45`) or leave max_length to None to pad to the maximal input size of the model (e.g. 512 for Bert).\n",
            "  warnings.warn(\n",
            "/usr/local/lib/python3.10/dist-packages/transformers/tokenization_utils_base.py:2614: FutureWarning: The `pad_to_max_length` argument is deprecated and will be removed in a future version, use `padding=True` or `padding='longest'` to pad to the longest sequence in the batch, or use `padding='max_length'` to pad to a max length. In this case, you can give a specific length with `max_length` (e.g. `max_length=45`) or leave max_length to None to pad to the maximal input size of the model (e.g. 512 for Bert).\n",
            "  warnings.warn(\n",
            "/usr/local/lib/python3.10/dist-packages/transformers/tokenization_utils_base.py:2614: FutureWarning: The `pad_to_max_length` argument is deprecated and will be removed in a future version, use `padding=True` or `padding='longest'` to pad to the longest sequence in the batch, or use `padding='max_length'` to pad to a max length. In this case, you can give a specific length with `max_length` (e.g. `max_length=45`) or leave max_length to None to pad to the maximal input size of the model (e.g. 512 for Bert).\n",
            "  warnings.warn(\n",
            "/usr/local/lib/python3.10/dist-packages/transformers/tokenization_utils_base.py:2614: FutureWarning: The `pad_to_max_length` argument is deprecated and will be removed in a future version, use `padding=True` or `padding='longest'` to pad to the longest sequence in the batch, or use `padding='max_length'` to pad to a max length. In this case, you can give a specific length with `max_length` (e.g. `max_length=45`) or leave max_length to None to pad to the maximal input size of the model (e.g. 512 for Bert).\n",
            "  warnings.warn(\n"
          ]
        },
        {
          "name": "stdout",
          "output_type": "stream",
          "text": [
            "Top 5 tokens in the training dataset:\n",
            "Token ID: 0, Token: [PAD], Frequency: 4297970\n",
            "Token ID: 119, Token: ., Frequency: 318233\n",
            "Token ID: 1103, Token: the, Frequency: 276129\n",
            "Token ID: 117, Token: ,, Frequency: 258629\n",
            "Token ID: 170, Token: a, Frequency: 153457\n"
          ]
        },
        {
          "data": {
            "image/png": "[encoded data removed]",
            "text/plain": [
              "<Figure size 1000x600 with 1 Axes>"
            ]
          },
          "metadata": {},
          "output_type": "display_data"
        },
        {
          "data": {
            "image/png": "[encoded data removed]",
            "text/plain": [
              "<Figure size 1000x600 with 1 Axes>"
            ]
          },
          "metadata": {},
          "output_type": "display_data"
        },
        {
          "data": {
            "image/png": "[encoded data removed]",
            "text/plain": [
              "<Figure size 1000x600 with 1 Axes>"
            ]
          },
          "metadata": {},
          "output_type": "display_data"
        }
      ],
      "source": [
        "# TO BE COMPLETED\n",
        "from collections import Counter\n",
        "\n",
        "def count_tokens_dataloader(data_loader):\n",
        "    token_counter = Counter()\n",
        "    for batch in data_loader:\n",
        "        input_ids = batch['input_ids']\n",
        "        for ids in input_ids:\n",
        "            token_counter.update(ids.tolist())\n",
        "    return token_counter\n",
        "\n",
        "# Count tokens using DataLoaders\n",
        "train_token_counts = count_tokens_dataloader(train_data_loader)\n",
        "val_token_counts = count_tokens_dataloader(validation_data_loader)\n",
        "test_token_counts = count_tokens_dataloader(test_data_loader)\n",
        "\n",
        "#identify top 5 tokens in the training dataset\n",
        "top_5_tokens = train_token_counts.most_common(5)\n",
        "print(\"Top 5 tokens in the training dataset:\")\n",
        "for token, freq in top_5_tokens:\n",
        "    print(f\"Token ID: {token}, Token: {tokenizer.decode([token])}, Frequency: {freq}\")\n",
        "\n",
        "\n",
        "def plot_histogram(token_counts, title):\n",
        "    plt.figure(figsize=(10, 6))\n",
        "    plt.hist(token_counts.keys(), bins=50, weights=list(token_counts.values()), log=True)\n",
        "    plt.xlabel('Token ID')\n",
        "    plt.ylabel('Frequency (log scale)')\n",
        "    plt.title(title)\n",
        "    plt.show()\n",
        "\n",
        "# Plot histograms for each dataset\n",
        "plot_histogram(train_token_counts, \"Token Frequencies in Training Dataset\")\n",
        "plot_histogram(val_token_counts, \"Token Frequencies in Validation Dataset\")\n",
        "plot_histogram(test_token_counts, \"Token Frequencies in Test Dataset\")\n"
      ]
    },
    {
      "cell_type": "code",
      "execution_count": null,
      "metadata": {
        "id": "fS1c0a6wddHl"
      },
      "outputs": [],
      "source": [
        "'''\n",
        "PROVIDE YOUR ANSWER BELOW\n",
        "\n",
        "Top 5 tokens in the training dataset are:\n",
        "Token ID: 0, Token: [PAD], Frequency: 4297970\n",
        "Token ID: 119, Token: ., Frequency: 318233\n",
        "Token ID: 1103, Token: the, Frequency: 276129\n",
        "Token ID: 117, Token: ,, Frequency: 258629\n",
        "Token ID: 170, Token: a, Frequency: 153457\n",
        "\n",
        "So the most common tokens are padding, periods, the word 'the', commas,\n",
        "and the word 'a'. This makes some good sense to be honest.\n",
        "\n",
        "\n",
        "'''"
      ]
    },
    {
      "cell_type": "markdown",
      "metadata": {
        "id": "3ElnJDdgcaiy"
      },
      "source": [
        "### Part (v) [1pt EXPLORATORY]\n",
        "\n",
        "Select a single sample from your training DataLoader and feed it through the **bert_model** to obtain the hidden_states and pooled_output. Briefly describe what each tensor dimension represents and what affects the size of each dimension."
      ]
    },
    {
      "cell_type": "code",
      "execution_count": null,
      "metadata": {
        "id": "1HOknY9Ncai9",
        "colab": {
          "base_uri": "https://localhost:8080/"
        },
        "outputId": "5919fd8d-5038-4c41-b5f1-c415633e040b"
      },
      "outputs": [
        {
          "output_type": "stream",
          "name": "stderr",
          "text": [
            "/usr/local/lib/python3.10/dist-packages/torch/utils/data/dataloader.py:557: UserWarning: This DataLoader will create 4 worker processes in total. Our suggested max number of worker in current system is 2, which is smaller than what this DataLoader is going to create. Please be aware that excessive worker creation might get DataLoader running slow or even freeze, lower the worker number to avoid potential slowness/freeze if necessary.\n",
            "  warnings.warn(_create_warning_msg(\n",
            "/usr/local/lib/python3.10/dist-packages/transformers/tokenization_utils_base.py:2614: FutureWarning: The `pad_to_max_length` argument is deprecated and will be removed in a future version, use `padding=True` or `padding='longest'` to pad to the longest sequence in the batch, or use `padding='max_length'` to pad to a max length. In this case, you can give a specific length with `max_length` (e.g. `max_length=45`) or leave max_length to None to pad to the maximal input size of the model (e.g. 512 for Bert).\n",
            "  warnings.warn(\n",
            "/usr/local/lib/python3.10/dist-packages/transformers/tokenization_utils_base.py:2614: FutureWarning: The `pad_to_max_length` argument is deprecated and will be removed in a future version, use `padding=True` or `padding='longest'` to pad to the longest sequence in the batch, or use `padding='max_length'` to pad to a max length. In this case, you can give a specific length with `max_length` (e.g. `max_length=45`) or leave max_length to None to pad to the maximal input size of the model (e.g. 512 for Bert).\n",
            "  warnings.warn(\n",
            "/usr/local/lib/python3.10/dist-packages/transformers/tokenization_utils_base.py:2614: FutureWarning: The `pad_to_max_length` argument is deprecated and will be removed in a future version, use `padding=True` or `padding='longest'` to pad to the longest sequence in the batch, or use `padding='max_length'` to pad to a max length. In this case, you can give a specific length with `max_length` (e.g. `max_length=45`) or leave max_length to None to pad to the maximal input size of the model (e.g. 512 for Bert).\n",
            "  warnings.warn(\n",
            "/usr/local/lib/python3.10/dist-packages/transformers/tokenization_utils_base.py:2614: FutureWarning: The `pad_to_max_length` argument is deprecated and will be removed in a future version, use `padding=True` or `padding='longest'` to pad to the longest sequence in the batch, or use `padding='max_length'` to pad to a max length. In this case, you can give a specific length with `max_length` (e.g. `max_length=45`) or leave max_length to None to pad to the maximal input size of the model (e.g. 512 for Bert).\n",
            "  warnings.warn(\n"
          ]
        }
      ],
      "source": [
        "# TO BE COMPLETED\n",
        "\n",
        "# Get first batch:\n",
        "for batch in train_data_loader:\n",
        "    input_ids = batch['input_ids'][0]\n",
        "    att_mask = batch['attention_mask'][0]\n",
        "    break\n",
        "input_ids = input_ids.unsqueeze(0)\n",
        "att_mask = att_mask.unsqueeze(0)\n",
        "\n",
        "hidden_states_and_pooled_out = bert_model(input_ids=input_ids,\n",
        "                           attention_mask=att_mask)\n",
        "hidden_states = hidden_states_and_pooled_out[0]\n",
        "pooled_outs = hidden_states_and_pooled_out[1]"
      ]
    },
    {
      "cell_type": "code",
      "source": [
        "print(\"HIDDEN STATES: \\n\", hidden_states.shape)\n",
        "print(\"POOLED OUTPUTS: \\n\", pooled_outs.shape)"
      ],
      "metadata": {
        "colab": {
          "base_uri": "https://localhost:8080/"
        },
        "id": "KlmVK7hHc9QU",
        "outputId": "57ff0f36-c7c8-4d36-e12a-588a797db910"
      },
      "execution_count": null,
      "outputs": [
        {
          "output_type": "stream",
          "name": "stdout",
          "text": [
            "HIDDEN STATES: \n",
            " torch.Size([1, 400, 768])\n",
            "POOLED OUTPUTS: \n",
            " torch.Size([1, 768])\n"
          ]
        }
      ]
    },
    {
      "cell_type": "code",
      "execution_count": null,
      "metadata": {
        "id": "34OnAb9EdjtW"
      },
      "outputs": [],
      "source": [
        "'''\n",
        "PROVIDE YOUR ANSWER BELOW\n",
        "\n",
        "The first dimension for either tensor represents the batch size. In this case\n",
        "since we're only feeding a single sample into the model it is 1.\n",
        "\n",
        "The second dimension of the hidden states represents the sequence length, which\n",
        "can be toggled. The pooled outputs have been pooled across this second dimension,\n",
        "then squeezed, so it does not have this sequency length dimension.\n",
        "\n",
        "The third dimension (second for pooled outputs) is the hidden dimension, or the\n",
        "encoding dimension of the output. This is 768 above, and it represents the number\n",
        "of variables we're using to represent the single imbedded output.\n",
        "\n",
        "\n",
        "'''"
      ]
    },
    {
      "cell_type": "markdown",
      "metadata": {
        "id": "rDbQ7nRBek5S"
      },
      "source": [
        "## Part 2. Model Architecture [2 pt]\n",
        "\n",
        "### Part (i) [1pt MODEL]\n",
        "\n",
        "Prepare a review classifier model that builds on the pooled output from the Bert model to identify positive and negative reviews."
      ]
    },
    {
      "cell_type": "code",
      "execution_count": 34,
      "metadata": {
        "id": "kAISbN5VexqS"
      },
      "outputs": [],
      "source": [
        "class SentimentClassifierPooled(nn.Module):\n",
        "\n",
        "  def __init__(self, n_classes = 1, drop = 0.3):\n",
        "    super(SentimentClassifierPooled, self).__init__()\n",
        "    self.bert = BertModel.from_pretrained(PRE_TRAINED_MODEL_NAME)\n",
        "    # Freeze BERT parameters\n",
        "    for param in self.bert.parameters():\n",
        "      param.requires_grad = False\n",
        "\n",
        "    # TO BE COMPLETED\n",
        "    #add dropout layer\n",
        "    self.drop = nn.Dropout(p=drop)\n",
        "    #fully connected layer\n",
        "    self.fc = nn.Linear(self.bert.config.hidden_size, n_classes)\n",
        "\n",
        "  def forward(self, input_ids, attention_mask):\n",
        "    pooled_output = self.bert(input_ids=input_ids, attention_mask=attention_mask)[1]\n",
        "    # TO BE COMPLETED\n",
        "    dropped_output = self.drop(pooled_output)\n",
        "    # print(\"Dropped output shape:\", dropped_output.shape)\n",
        "    out = self.fc(dropped_output)\n",
        "    return out\n"
      ]
    },
    {
      "cell_type": "markdown",
      "metadata": {
        "id": "RLFzooLUgn3c"
      },
      "source": [
        "### Part (ii) [1pt MODEL]\n",
        "\n",
        "Construct the architecture for a review classifier model that uses the last hidden output from the Bert model to identify positive and negative reviews."
      ]
    },
    {
      "cell_type": "code",
      "execution_count": 33,
      "metadata": {
        "id": "Q34oWGhoe38H"
      },
      "outputs": [],
      "source": [
        "class SentimentClassifierLast(nn.Module):\n",
        "\n",
        "  def __init__(self, max_tokens, n_classes = 1, drop = 0.3):\n",
        "    super(SentimentClassifierLast, self).__init__()\n",
        "    self.bert = BertModel.from_pretrained(PRE_TRAINED_MODEL_NAME)\n",
        "    # Freeze BERT parameters!!!\n",
        "    for param in self.bert.parameters():\n",
        "      param.requires_grad = False\n",
        "\n",
        "    # TO BE COMPLETED\n",
        "    #I'm going to try using a weighted average sum for the classification.\n",
        "    self.sequence_length = max_tokens\n",
        "    #weighted sum layer\n",
        "    self.weights = nn.Parameter(torch.ones(self.sequence_length) / self.sequence_length)\n",
        "    #dropout layer\n",
        "    self.drop = nn.Dropout(p=drop)\n",
        "    #final linear layer\n",
        "    self.out = nn.Linear(self.bert.config.hidden_size, n_classes)\n",
        "\n",
        "  def forward(self, input_ids, attention_mask):\n",
        "\n",
        "    # TO BE COMPLETED\n",
        "    hidden_output = self.bert(input_ids=input_ids, attention_mask=attention_mask)[0]\n",
        "\n",
        "    # Apply weighted average summation\n",
        "    weighted_sum = torch.einsum('blh,l->bh', hidden_output, self.weights)\n",
        "\n",
        "    # Apply dropout to the summation\n",
        "    dropped_output = self.drop(weighted_sum)\n",
        "\n",
        "    # Pass through the output classification layer\n",
        "    output = self.out(dropped_output)\n",
        "\n",
        "    return output\n"
      ]
    },
    {
      "cell_type": "code",
      "source": [
        "class SentimentClassifierLast2(nn.Module):\n",
        "\n",
        "  def __init__(self, max_tokens, n_classes = 1, drop = 0.3):\n",
        "    super(SentimentClassifierLast2, self).__init__()\n",
        "    self.bert = BertModel.from_pretrained(PRE_TRAINED_MODEL_NAME)\n",
        "    # Freeze BERT parameters!!!\n",
        "    for param in self.bert.parameters():\n",
        "      param.requires_grad = False\n",
        "\n",
        "    # TO BE COMPLETED\n",
        "    #I'm going to try using a weighted average sum for the classification.\n",
        "    self.sequence_length = max_tokens\n",
        "    #weighted sum layer\n",
        "    self.weights = nn.Parameter(torch.ones(self.sequence_length) / self.sequence_length)\n",
        "    #dropout layer\n",
        "    self.drop = nn.Dropout(p=drop)\n",
        "    self.bingus = nn.Linear(self.bert.config.hidden_size, 100)\n",
        "    #final linear layer\n",
        "    self.out = nn.Linear(100, n_classes)\n",
        "\n",
        "  def forward(self, input_ids, attention_mask):\n",
        "\n",
        "    # TO BE COMPLETED\n",
        "    hidden_output = self.bert(input_ids=input_ids, attention_mask=attention_mask)[0]\n",
        "\n",
        "    # Apply weighted average summation\n",
        "    weighted_sum = torch.einsum('blh,l->bh', hidden_output, self.weights)\n",
        "\n",
        "    # Apply dropout to the summation\n",
        "    dropped_output = self.drop(weighted_sum)\n",
        "\n",
        "    # Pass through the output classification layer\n",
        "    output1 = self.bingus(dropped_output)\n",
        "    output2 = self.out(output1)\n",
        "\n",
        "    return output2\n"
      ],
      "metadata": {
        "id": "I3cG3Mp8THeu"
      },
      "execution_count": 32,
      "outputs": []
    },
    {
      "cell_type": "markdown",
      "metadata": {
        "id": "nqkKp1CgiYZb"
      },
      "source": [
        "## Part 3. Training [3 pt]\n",
        "\n",
        "### Part (i) [1pt MODEL]\n",
        "\n",
        "Complete the `get_accuracy` function, which will compute the\n",
        "accuracy (rate) of your model across a dataset (e.g. validation set)."
      ]
    },
    {
      "cell_type": "code",
      "execution_count": 35,
      "metadata": {
        "id": "LC89f2i7iYZl"
      },
      "outputs": [],
      "source": [
        "from tqdm import tqdm\n",
        "from torch.cuda.amp import GradScaler, autocast\n",
        "\n",
        "def get_accuracy(model, data, use_cuda = True):\n",
        "    \"\"\" Compute the accuracy of the `model` across a dataset `data`\n",
        "\n",
        "    Example usage:\n",
        "\n",
        "    >>> model = MyRNN() # to be defined\n",
        "    >>> get_accuracy(model, valid_loader) # the variable `valid_loader` is from above\n",
        "    \"\"\"\n",
        "    model.eval()  # Set the model to evaluation mode\n",
        "    correct = 0\n",
        "    total = 0\n",
        "\n",
        "    if use_cuda and torch.cuda.is_available() == True:\n",
        "      model = model.cuda()\n",
        "\n",
        "    with torch.no_grad():  # Disable gradient computation\n",
        "      for batch in tqdm(data, desc = \"Getting Accuracy...\"):\n",
        "        input_ids = batch['input_ids']\n",
        "        attention_mask = batch['attention_mask']\n",
        "        labels = batch['targets']\n",
        "\n",
        "        if use_cuda and torch.cuda.is_available() == True:\n",
        "          input_ids = input_ids.cuda()\n",
        "          attention_mask = attention_mask.cuda()\n",
        "          labels = labels.cuda()\n",
        "\n",
        "        with autocast():  # Enables mixed precision\n",
        "          pred = model(input_ids, attention_mask).squeeze(-1)\n",
        "\n",
        "        # outputs = model(input_ids, attention_mask).squeeze() # transform shape from [batch_size, 1] to [batch_size]\n",
        "        prediction = (torch.sigmoid(pred) >= 0.5).float()\n",
        "        # Compare with true labels and sum up the number of correct predictions\n",
        "        correct += (prediction == labels).sum().item()\n",
        "        # Increment the total count\n",
        "        total += labels.size(0)\n",
        "    return correct/total\n",
        "\n",
        "    # TO BE COMPLETED\n"
      ]
    },
    {
      "cell_type": "markdown",
      "metadata": {
        "id": "ruaRg5JCiYZm"
      },
      "source": [
        "### Part (ii) [1pt MODEL]\n",
        "\n",
        "Write a function **train_model** to train your model. Plot the training curve of your final model.\n",
        "Your training curve should have the training/validation loss and\n",
        "accuracy plotted periodically."
      ]
    },
    {
      "cell_type": "code",
      "execution_count": null,
      "metadata": {
        "id": "wuqypAPxiYZm"
      },
      "outputs": [],
      "source": [
        "# TO BE COMPLETED\n",
        "from torch.cuda.amp import GradScaler, autocast\n",
        "\n",
        "#Functions to save and load checkpoints\n",
        "def save_checkpoint(model, optimizer, epoch, filename):\n",
        "    checkpoint = {\n",
        "        'epoch': epoch + 1,  # Saving the next epoch number\n",
        "        'state_dict': model.state_dict(),\n",
        "        'optimizer': optimizer.state_dict()\n",
        "    }\n",
        "    torch.save(checkpoint, filename)\n",
        "\n",
        "def load_checkpoint(filename, model, optimizer):\n",
        "    checkpoint = torch.load(filename)\n",
        "    model.load_state_dict(checkpoint['state_dict'])\n",
        "    optimizer.load_state_dict(checkpoint['optimizer'])\n",
        "    return checkpoint['epoch']\n",
        "\n",
        "def generate_checkpoint_filename(epoch):\n",
        "    filename = f\"bert_model_epoch{epoch}.pth\"\n",
        "    return filename\n",
        "\n",
        "# Mostly from the sample code\n",
        "def train_network(model, train_loader, valid_loader, num_epochs=5, learning_rate=1e-5, use_cuda = True):\n",
        "    scaler = GradScaler()\n",
        "    #Binary Classification\n",
        "    criterion = nn.BCEWithLogitsLoss()\n",
        "    # move to gpu\n",
        "    if use_cuda and torch.cuda.is_available():\n",
        "        model = model.cuda()\n",
        "    optimizer = torch.optim.Adam(model.parameters(), lr=learning_rate)\n",
        "    losses, train_acc, valid_acc = [], [], []\n",
        "    epochs = []\n",
        "\n",
        "    for epoch in range(num_epochs):\n",
        "        print(f\"epoch: {epoch}\")\n",
        "        #Put model into training mode\n",
        "        model.train()\n",
        "        iter = 0\n",
        "        #for training acc (not perfect, but more efficient than doing 2 forward passes)\n",
        "        correct = 0\n",
        "        total = 0\n",
        "\n",
        "        for batch in tqdm(train_loader, desc=\"Processing batches\"):\n",
        "            # if iter%100 == 0:\n",
        "            #   print(f\"iteration: {iter}\")\n",
        "\n",
        "            input_ids = batch['input_ids']\n",
        "            attention_mask = batch['attention_mask']\n",
        "            labels = batch['targets']\n",
        "\n",
        "            if use_cuda and torch.cuda.is_available() == True:\n",
        "              input_ids = input_ids.cuda()\n",
        "              attention_mask = attention_mask.cuda()\n",
        "              labels = labels.cuda()\n",
        "\n",
        "            optimizer.zero_grad()\n",
        "            with autocast():  # Enables mixed precision\n",
        "              pred = model(input_ids, attention_mask).squeeze(-1)\n",
        "              loss = criterion(pred, labels.float())\n",
        "\n",
        "            scaler.scale(loss).backward()  # Scales the loss\n",
        "            scaler.step(optimizer)  # Optimizer step\n",
        "            scaler.update()  # Updates the scale for next iteration\n",
        "            # pred = model(input_ids, attention_mask).squeeze(-1)\n",
        "            # loss = criterion(pred, labels.float())\n",
        "            # loss.backward()\n",
        "            # optimizer.step()\n",
        "\n",
        "            # Get predictions using a threshold of 0.5\n",
        "            predictions = (torch.sigmoid(pred) >= 0.5).float()\n",
        "            # Compare with true labels and sum up the number of correct predictions\n",
        "            correct += (predictions == labels).sum().item()\n",
        "            # Increment the total count\n",
        "            total += labels.size(0)\n",
        "            iter += 1\n",
        "\n",
        "        losses.append(float(loss))\n",
        "        epochs.append(epoch)\n",
        "        #Put model into evaluation mode\n",
        "        model.eval()\n",
        "        with torch.no_grad():\n",
        "          train_acc.append(correct/total)\n",
        "          valid_acc.append(get_accuracy(model, valid_loader))\n",
        "        print(\"Epoch %d; Loss %f; Train Acc %f; Val Acc %f\" % (\n",
        "            epoch+1, loss, train_acc[-1], valid_acc[-1]))\n",
        "        #Save checkpoint\n",
        "        save_checkpoint(model, optimizer, epoch, generate_checkpoint_filename(epoch))\n",
        "        #clear cache\n",
        "        if use_cuda and torch.cuda.is_available():\n",
        "          torch.cuda.empty_cache()\n",
        "    # plotting\n",
        "    plt.title(\"Training Curve - Loss\")\n",
        "    plt.plot(losses, label=\"Train\")\n",
        "    plt.xlabel(\"Epoch\")\n",
        "    plt.ylabel(\"Loss\")\n",
        "    plt.show()\n",
        "\n",
        "    plt.title(\"Training Curve - Accuracy\")\n",
        "    plt.plot(epochs, train_acc, label=\"Train\")\n",
        "    plt.plot(epochs, valid_acc, label=\"Validation\")\n",
        "    plt.xlabel(\"Epoch\")\n",
        "    plt.ylabel(\"Accuracy\")\n",
        "    plt.legend(loc='best')\n",
        "    plt.show()\n"
      ]
    },
    {
      "cell_type": "markdown",
      "metadata": {
        "id": "XVvzpQRWiYZm"
      },
      "source": [
        "### Part (iii) [1pt MODEL]\n",
        "\n",
        "Choose at least 4 hyperparameters to tune. Explain how you tuned the hyperparameters. You don't need to include your training curve for every model you trained.\n",
        "Instead, explain what hyperparemters you tuned, what the best validation accuracy was,\n",
        "and the reasoning behind the hyperparameter decisions you made.\n",
        "\n",
        "For this assignment, you should tune more than just your learning rate and epoch.\n",
        "Choose at least 2 hyperparameters that are unrelated to the optimizer."
      ]
    },
    {
      "cell_type": "code",
      "source": [
        "# filter out deprecation warnings (because I live on the edge)\n",
        "import warnings\n",
        "warnings.filterwarnings(\"ignore\", category=FutureWarning, module=\"transformers\")\n",
        "\n",
        "output_size = 1    # Binary classification\n",
        "max_tokens = 400\n",
        "model = SentimentClassifierLast(max_tokens, n_classes = output_size)\n",
        "# model = SentimentClassifierPooled(n_classes = output_size)\n",
        "#increase batch for speed\n",
        "batch_size = 16\n",
        "\n",
        "train_data_loader = DataLoader(train_data, batch_size = batch_size, num_workers = 4) #modify num_works as needed\n",
        "val_data_loader = DataLoader(validation_data, batch_size = batch_size, num_workers = 4) #modify num_works as needed\n",
        "\n",
        "num_epochs = 5\n",
        "lr = 5e-5\n",
        "train_network(model, train_data_loader, val_data_loader, num_epochs=num_epochs, learning_rate=lr)\n"
      ],
      "metadata": {
        "colab": {
          "base_uri": "https://localhost:8080/",
          "height": 1000
        },
        "id": "Llokcx_qEK7o",
        "outputId": "a935c5bb-7a55-414f-ad06-35829180744b"
      },
      "execution_count": null,
      "outputs": [
        {
          "metadata": {
            "tags": null
          },
          "name": "stderr",
          "output_type": "stream",
          "text": [
            "/usr/local/lib/python3.10/dist-packages/torch/utils/data/dataloader.py:557: UserWarning: This DataLoader will create 4 worker processes in total. Our suggested max number of worker in current system is 2, which is smaller than what this DataLoader is going to create. Please be aware that excessive worker creation might get DataLoader running slow or even freeze, lower the worker number to avoid potential slowness/freeze if necessary.\n",
            "  warnings.warn(_create_warning_msg(\n"
          ]
        },
        {
          "metadata": {
            "tags": null
          },
          "name": "stdout",
          "output_type": "stream",
          "text": [
            "epoch: 0\n"
          ]
        },
        {
          "metadata": {
            "tags": null
          },
          "name": "stderr",
          "output_type": "stream",
          "text": [
            "Processing batches: 100%|██████████| 1875/1875 [05:19<00:00,  5.87it/s]\n",
            "Getting Accuracy...: 100%|██████████| 625/625 [01:37<00:00,  6.40it/s]\n"
          ]
        },
        {
          "metadata": {
            "tags": null
          },
          "name": "stdout",
          "output_type": "stream",
          "text": [
            "Epoch 1; Loss 0.289006; Train Acc 0.733667; Val Acc 0.829500\n",
            "epoch: 1\n"
          ]
        },
        {
          "metadata": {
            "tags": null
          },
          "name": "stderr",
          "output_type": "stream",
          "text": [
            "Processing batches: 100%|██████████| 1875/1875 [05:19<00:00,  5.86it/s]\n",
            "Getting Accuracy...: 100%|██████████| 625/625 [01:33<00:00,  6.67it/s]\n"
          ]
        },
        {
          "metadata": {
            "tags": null
          },
          "name": "stdout",
          "output_type": "stream",
          "text": [
            "Epoch 2; Loss 0.359795; Train Acc 0.814633; Val Acc 0.842500\n",
            "epoch: 2\n"
          ]
        },
        {
          "metadata": {
            "tags": null
          },
          "name": "stderr",
          "output_type": "stream",
          "text": [
            "Processing batches: 100%|██████████| 1875/1875 [05:09<00:00,  6.05it/s]\n",
            "Getting Accuracy...: 100%|██████████| 625/625 [01:33<00:00,  6.66it/s]\n"
          ]
        },
        {
          "metadata": {
            "tags": null
          },
          "name": "stdout",
          "output_type": "stream",
          "text": [
            "Epoch 3; Loss 0.263504; Train Acc 0.825800; Val Acc 0.849100\n",
            "epoch: 3\n"
          ]
        },
        {
          "output_type": "stream",
          "name": "stderr",
          "text": [
            "Processing batches: 100%|██████████| 1875/1875 [05:12<00:00,  6.00it/s]\n",
            "Getting Accuracy...: 100%|██████████| 625/625 [01:32<00:00,  6.74it/s]\n"
          ]
        },
        {
          "output_type": "stream",
          "name": "stdout",
          "text": [
            "Epoch 4; Loss 0.415410; Train Acc 0.829367; Val Acc 0.851900\n",
            "epoch: 4\n"
          ]
        },
        {
          "output_type": "stream",
          "name": "stderr",
          "text": [
            "Processing batches: 100%|██████████| 1875/1875 [05:07<00:00,  6.09it/s]\n",
            "Getting Accuracy...: 100%|██████████| 625/625 [01:33<00:00,  6.70it/s]\n"
          ]
        },
        {
          "output_type": "stream",
          "name": "stdout",
          "text": [
            "Epoch 5; Loss 0.346246; Train Acc 0.831900; Val Acc 0.852800\n"
          ]
        },
        {
          "output_type": "display_data",
          "data": {
            "text/plain": [
              "<Figure size 640x480 with 1 Axes>"
            ],
            "image/png": "[encoded data removed]"
          },
          "metadata": {}
        },
        {
          "output_type": "display_data",
          "data": {
            "text/plain": [
              "<Figure size 640x480 with 1 Axes>"
            ],
            "image/png": "[encoded data removed]"
          },
          "metadata": {}
        }
      ]
    },
    {
      "cell_type": "code",
      "source": [
        "warnings.filterwarnings(\"ignore\", category=FutureWarning, module=\"transformers\")\n",
        "\n",
        "output_size = 1    # Binary classification\n",
        "max_tokens = 400\n",
        "model = SentimentClassifierLast(max_tokens, n_classes = output_size, drop = 0.2)\n",
        "# model = SentimentClassifierPooled(n_classes = output_size)\n",
        "#increase batch for speed\n",
        "batch_size = 10\n",
        "\n",
        "train_data_loader = DataLoader(train_data, batch_size = batch_size, num_workers = 2) #modify num_works as needed\n",
        "val_data_loader = DataLoader(validation_data, batch_size = batch_size, num_workers = 2) #modify num_works as needed\n",
        "\n",
        "num_epochs = 5\n",
        "lr = 1e-4\n",
        "train_network(model, train_data_loader, val_data_loader, num_epochs=num_epochs, learning_rate=lr)"
      ],
      "metadata": {
        "colab": {
          "base_uri": "https://localhost:8080/",
          "height": 1000
        },
        "id": "6FB0n7hVHi12",
        "outputId": "5408dd61-9f3c-4316-f883-c85f8bd7223c"
      },
      "execution_count": null,
      "outputs": [
        {
          "output_type": "stream",
          "name": "stdout",
          "text": [
            "epoch: 0\n"
          ]
        },
        {
          "output_type": "stream",
          "name": "stderr",
          "text": [
            "Processing batches: 100%|██████████| 3000/3000 [05:26<00:00,  9.20it/s]\n",
            "Getting Accuracy...: 100%|██████████| 1000/1000 [01:45<00:00,  9.44it/s]\n"
          ]
        },
        {
          "output_type": "stream",
          "name": "stdout",
          "text": [
            "Epoch 1; Loss 0.401308; Train Acc 0.794733; Val Acc 0.849300\n",
            "epoch: 1\n"
          ]
        },
        {
          "output_type": "stream",
          "name": "stderr",
          "text": [
            "Processing batches: 100%|██████████| 3000/3000 [05:22<00:00,  9.29it/s]\n",
            "Getting Accuracy...: 100%|██████████| 1000/1000 [01:37<00:00, 10.27it/s]\n"
          ]
        },
        {
          "output_type": "stream",
          "name": "stdout",
          "text": [
            "Epoch 2; Loss 0.488933; Train Acc 0.836367; Val Acc 0.856000\n",
            "epoch: 2\n"
          ]
        },
        {
          "output_type": "stream",
          "name": "stderr",
          "text": [
            "Processing batches: 100%|██████████| 3000/3000 [05:22<00:00,  9.30it/s]\n",
            "Getting Accuracy...: 100%|██████████| 1000/1000 [01:38<00:00, 10.20it/s]\n"
          ]
        },
        {
          "output_type": "stream",
          "name": "stdout",
          "text": [
            "Epoch 3; Loss 0.292136; Train Acc 0.844400; Val Acc 0.858900\n",
            "epoch: 3\n"
          ]
        },
        {
          "output_type": "stream",
          "name": "stderr",
          "text": [
            "Processing batches: 100%|██████████| 3000/3000 [05:56<00:00,  8.42it/s]\n",
            "Getting Accuracy...: 100%|██████████| 1000/1000 [01:40<00:00,  9.93it/s]\n"
          ]
        },
        {
          "output_type": "stream",
          "name": "stdout",
          "text": [
            "Epoch 4; Loss 0.362564; Train Acc 0.847167; Val Acc 0.860600\n",
            "epoch: 4\n"
          ]
        },
        {
          "output_type": "stream",
          "name": "stderr",
          "text": [
            "Processing batches: 100%|██████████| 3000/3000 [05:37<00:00,  8.88it/s]\n",
            "Getting Accuracy...: 100%|██████████| 1000/1000 [01:37<00:00, 10.22it/s]\n"
          ]
        },
        {
          "output_type": "stream",
          "name": "stdout",
          "text": [
            "Epoch 5; Loss 0.238996; Train Acc 0.850833; Val Acc 0.860800\n"
          ]
        },
        {
          "output_type": "display_data",
          "data": {
            "text/plain": [
              "<Figure size 640x480 with 1 Axes>"
            ],
            "image/png": "[encoded data removed]"
          },
          "metadata": {}
        },
        {
          "output_type": "display_data",
          "data": {
            "text/plain": [
              "<Figure size 640x480 with 1 Axes>"
            ],
            "image/png": "[encoded data removed]"
          },
          "metadata": {}
        }
      ]
    },
    {
      "cell_type": "code",
      "source": [
        "output_size = 1    # Binary classification\n",
        "max_tokens = 400\n",
        "model = SentimentClassifierPooled(n_classes = output_size)\n",
        "# model = SentimentClassifierPooled(n_classes = output_size)\n",
        "#increase batch for speed\n",
        "batch_size = 16\n",
        "\n",
        "train_data_loader = DataLoader(train_data, batch_size = batch_size, num_workers = 2) #modify num_works as needed\n",
        "val_data_loader = DataLoader(validation_data, batch_size = batch_size, num_workers = 2) #modify num_works as needed\n",
        "\n",
        "num_epochs = 5\n",
        "lr = 1e-4\n",
        "train_network(model, train_data_loader, val_data_loader, num_epochs=num_epochs, learning_rate=lr)\n",
        "# Damn that worked terribly."
      ],
      "metadata": {
        "colab": {
          "base_uri": "https://localhost:8080/",
          "height": 471
        },
        "id": "b9mVRe6HUq_8",
        "outputId": "47b0924a-1a7d-4e24-a3b1-b44ac022f34e"
      },
      "execution_count": null,
      "outputs": [
        {
          "output_type": "stream",
          "name": "stdout",
          "text": [
            "epoch: 0\n"
          ]
        },
        {
          "output_type": "stream",
          "name": "stderr",
          "text": [
            "Processing batches: 100%|██████████| 1875/1875 [05:10<00:00,  6.04it/s]\n",
            "Getting Accuracy...: 100%|██████████| 625/625 [01:34<00:00,  6.64it/s]\n"
          ]
        },
        {
          "output_type": "stream",
          "name": "stdout",
          "text": [
            "Epoch 1; Loss 0.621990; Train Acc 0.571333; Val Acc 0.654200\n",
            "epoch: 1\n"
          ]
        },
        {
          "output_type": "stream",
          "name": "stderr",
          "text": [
            "Processing batches:  35%|███▍      | 648/1875 [01:47<03:23,  6.04it/s]\n"
          ]
        },
        {
          "output_type": "error",
          "ename": "KeyboardInterrupt",
          "evalue": "ignored",
          "traceback": [
            "\u001b[0;31m---------------------------------------------------------------------------\u001b[0m",
            "\u001b[0;31mKeyboardInterrupt\u001b[0m                         Traceback (most recent call last)",
            "\u001b[0;32m<ipython-input-32-928a20431ecb>\u001b[0m in \u001b[0;36m<cell line: 13>\u001b[0;34m()\u001b[0m\n\u001b[1;32m     11\u001b[0m \u001b[0mnum_epochs\u001b[0m \u001b[0;34m=\u001b[0m \u001b[0;36m5\u001b[0m\u001b[0;34m\u001b[0m\u001b[0;34m\u001b[0m\u001b[0m\n\u001b[1;32m     12\u001b[0m \u001b[0mlr\u001b[0m \u001b[0;34m=\u001b[0m \u001b[0;36m1e-4\u001b[0m\u001b[0;34m\u001b[0m\u001b[0;34m\u001b[0m\u001b[0m\n\u001b[0;32m---> 13\u001b[0;31m \u001b[0mtrain_network\u001b[0m\u001b[0;34m(\u001b[0m\u001b[0mmodel\u001b[0m\u001b[0;34m,\u001b[0m \u001b[0mtrain_data_loader\u001b[0m\u001b[0;34m,\u001b[0m \u001b[0mval_data_loader\u001b[0m\u001b[0;34m,\u001b[0m \u001b[0mnum_epochs\u001b[0m\u001b[0;34m=\u001b[0m\u001b[0mnum_epochs\u001b[0m\u001b[0;34m,\u001b[0m \u001b[0mlearning_rate\u001b[0m\u001b[0;34m=\u001b[0m\u001b[0mlr\u001b[0m\u001b[0;34m)\u001b[0m\u001b[0;34m\u001b[0m\u001b[0;34m\u001b[0m\u001b[0m\n\u001b[0m",
            "\u001b[0;32m<ipython-input-19-1b2b474a6d58>\u001b[0m in \u001b[0;36mtrain_network\u001b[0;34m(model, train_loader, valid_loader, num_epochs, learning_rate, use_cuda)\u001b[0m\n\u001b[1;32m     57\u001b[0m             \u001b[0moptimizer\u001b[0m\u001b[0;34m.\u001b[0m\u001b[0mzero_grad\u001b[0m\u001b[0;34m(\u001b[0m\u001b[0;34m)\u001b[0m\u001b[0;34m\u001b[0m\u001b[0;34m\u001b[0m\u001b[0m\n\u001b[1;32m     58\u001b[0m             \u001b[0;32mwith\u001b[0m \u001b[0mautocast\u001b[0m\u001b[0;34m(\u001b[0m\u001b[0;34m)\u001b[0m\u001b[0;34m:\u001b[0m  \u001b[0;31m# Enables mixed precision\u001b[0m\u001b[0;34m\u001b[0m\u001b[0;34m\u001b[0m\u001b[0m\n\u001b[0;32m---> 59\u001b[0;31m               \u001b[0mpred\u001b[0m \u001b[0;34m=\u001b[0m \u001b[0mmodel\u001b[0m\u001b[0;34m(\u001b[0m\u001b[0minput_ids\u001b[0m\u001b[0;34m,\u001b[0m \u001b[0mattention_mask\u001b[0m\u001b[0;34m)\u001b[0m\u001b[0;34m.\u001b[0m\u001b[0msqueeze\u001b[0m\u001b[0;34m(\u001b[0m\u001b[0;34m-\u001b[0m\u001b[0;36m1\u001b[0m\u001b[0;34m)\u001b[0m\u001b[0;34m\u001b[0m\u001b[0;34m\u001b[0m\u001b[0m\n\u001b[0m\u001b[1;32m     60\u001b[0m               \u001b[0mloss\u001b[0m \u001b[0;34m=\u001b[0m \u001b[0mcriterion\u001b[0m\u001b[0;34m(\u001b[0m\u001b[0mpred\u001b[0m\u001b[0;34m,\u001b[0m \u001b[0mlabels\u001b[0m\u001b[0;34m.\u001b[0m\u001b[0mfloat\u001b[0m\u001b[0;34m(\u001b[0m\u001b[0;34m)\u001b[0m\u001b[0;34m)\u001b[0m\u001b[0;34m\u001b[0m\u001b[0;34m\u001b[0m\u001b[0m\n\u001b[1;32m     61\u001b[0m \u001b[0;34m\u001b[0m\u001b[0m\n",
            "\u001b[0;32m/usr/local/lib/python3.10/dist-packages/torch/nn/modules/module.py\u001b[0m in \u001b[0;36m_wrapped_call_impl\u001b[0;34m(self, *args, **kwargs)\u001b[0m\n\u001b[1;32m   1516\u001b[0m             \u001b[0;32mreturn\u001b[0m \u001b[0mself\u001b[0m\u001b[0;34m.\u001b[0m\u001b[0m_compiled_call_impl\u001b[0m\u001b[0;34m(\u001b[0m\u001b[0;34m*\u001b[0m\u001b[0margs\u001b[0m\u001b[0;34m,\u001b[0m \u001b[0;34m**\u001b[0m\u001b[0mkwargs\u001b[0m\u001b[0;34m)\u001b[0m  \u001b[0;31m# type: ignore[misc]\u001b[0m\u001b[0;34m\u001b[0m\u001b[0;34m\u001b[0m\u001b[0m\n\u001b[1;32m   1517\u001b[0m         \u001b[0;32melse\u001b[0m\u001b[0;34m:\u001b[0m\u001b[0;34m\u001b[0m\u001b[0;34m\u001b[0m\u001b[0m\n\u001b[0;32m-> 1518\u001b[0;31m             \u001b[0;32mreturn\u001b[0m \u001b[0mself\u001b[0m\u001b[0;34m.\u001b[0m\u001b[0m_call_impl\u001b[0m\u001b[0;34m(\u001b[0m\u001b[0;34m*\u001b[0m\u001b[0margs\u001b[0m\u001b[0;34m,\u001b[0m \u001b[0;34m**\u001b[0m\u001b[0mkwargs\u001b[0m\u001b[0;34m)\u001b[0m\u001b[0;34m\u001b[0m\u001b[0;34m\u001b[0m\u001b[0m\n\u001b[0m\u001b[1;32m   1519\u001b[0m \u001b[0;34m\u001b[0m\u001b[0m\n\u001b[1;32m   1520\u001b[0m     \u001b[0;32mdef\u001b[0m \u001b[0m_call_impl\u001b[0m\u001b[0;34m(\u001b[0m\u001b[0mself\u001b[0m\u001b[0;34m,\u001b[0m \u001b[0;34m*\u001b[0m\u001b[0margs\u001b[0m\u001b[0;34m,\u001b[0m \u001b[0;34m**\u001b[0m\u001b[0mkwargs\u001b[0m\u001b[0;34m)\u001b[0m\u001b[0;34m:\u001b[0m\u001b[0;34m\u001b[0m\u001b[0;34m\u001b[0m\u001b[0m\n",
            "\u001b[0;32m/usr/local/lib/python3.10/dist-packages/torch/nn/modules/module.py\u001b[0m in \u001b[0;36m_call_impl\u001b[0;34m(self, *args, **kwargs)\u001b[0m\n\u001b[1;32m   1525\u001b[0m                 \u001b[0;32mor\u001b[0m \u001b[0m_global_backward_pre_hooks\u001b[0m \u001b[0;32mor\u001b[0m \u001b[0m_global_backward_hooks\u001b[0m\u001b[0;34m\u001b[0m\u001b[0;34m\u001b[0m\u001b[0m\n\u001b[1;32m   1526\u001b[0m                 or _global_forward_hooks or _global_forward_pre_hooks):\n\u001b[0;32m-> 1527\u001b[0;31m             \u001b[0;32mreturn\u001b[0m \u001b[0mforward_call\u001b[0m\u001b[0;34m(\u001b[0m\u001b[0;34m*\u001b[0m\u001b[0margs\u001b[0m\u001b[0;34m,\u001b[0m \u001b[0;34m**\u001b[0m\u001b[0mkwargs\u001b[0m\u001b[0;34m)\u001b[0m\u001b[0;34m\u001b[0m\u001b[0;34m\u001b[0m\u001b[0m\n\u001b[0m\u001b[1;32m   1528\u001b[0m \u001b[0;34m\u001b[0m\u001b[0m\n\u001b[1;32m   1529\u001b[0m         \u001b[0;32mtry\u001b[0m\u001b[0;34m:\u001b[0m\u001b[0;34m\u001b[0m\u001b[0;34m\u001b[0m\u001b[0m\n",
            "\u001b[0;32m<ipython-input-7-6463b7df8341>\u001b[0m in \u001b[0;36mforward\u001b[0;34m(self, input_ids, attention_mask)\u001b[0m\n\u001b[1;32m     15\u001b[0m \u001b[0;34m\u001b[0m\u001b[0m\n\u001b[1;32m     16\u001b[0m   \u001b[0;32mdef\u001b[0m \u001b[0mforward\u001b[0m\u001b[0;34m(\u001b[0m\u001b[0mself\u001b[0m\u001b[0;34m,\u001b[0m \u001b[0minput_ids\u001b[0m\u001b[0;34m,\u001b[0m \u001b[0mattention_mask\u001b[0m\u001b[0;34m)\u001b[0m\u001b[0;34m:\u001b[0m\u001b[0;34m\u001b[0m\u001b[0;34m\u001b[0m\u001b[0m\n\u001b[0;32m---> 17\u001b[0;31m     \u001b[0mpooled_output\u001b[0m \u001b[0;34m=\u001b[0m \u001b[0mself\u001b[0m\u001b[0;34m.\u001b[0m\u001b[0mbert\u001b[0m\u001b[0;34m(\u001b[0m\u001b[0minput_ids\u001b[0m\u001b[0;34m=\u001b[0m\u001b[0minput_ids\u001b[0m\u001b[0;34m,\u001b[0m \u001b[0mattention_mask\u001b[0m\u001b[0;34m=\u001b[0m\u001b[0mattention_mask\u001b[0m\u001b[0;34m)\u001b[0m\u001b[0;34m[\u001b[0m\u001b[0;36m1\u001b[0m\u001b[0;34m]\u001b[0m\u001b[0;34m\u001b[0m\u001b[0;34m\u001b[0m\u001b[0m\n\u001b[0m\u001b[1;32m     18\u001b[0m     \u001b[0;31m# TO BE COMPLETED\u001b[0m\u001b[0;34m\u001b[0m\u001b[0;34m\u001b[0m\u001b[0m\n\u001b[1;32m     19\u001b[0m     \u001b[0mdropped_output\u001b[0m \u001b[0;34m=\u001b[0m \u001b[0mself\u001b[0m\u001b[0;34m.\u001b[0m\u001b[0mdrop\u001b[0m\u001b[0;34m(\u001b[0m\u001b[0mpooled_output\u001b[0m\u001b[0;34m)\u001b[0m\u001b[0;34m\u001b[0m\u001b[0;34m\u001b[0m\u001b[0m\n",
            "\u001b[0;32m/usr/local/lib/python3.10/dist-packages/torch/nn/modules/module.py\u001b[0m in \u001b[0;36m_wrapped_call_impl\u001b[0;34m(self, *args, **kwargs)\u001b[0m\n\u001b[1;32m   1516\u001b[0m             \u001b[0;32mreturn\u001b[0m \u001b[0mself\u001b[0m\u001b[0;34m.\u001b[0m\u001b[0m_compiled_call_impl\u001b[0m\u001b[0;34m(\u001b[0m\u001b[0;34m*\u001b[0m\u001b[0margs\u001b[0m\u001b[0;34m,\u001b[0m \u001b[0;34m**\u001b[0m\u001b[0mkwargs\u001b[0m\u001b[0;34m)\u001b[0m  \u001b[0;31m# type: ignore[misc]\u001b[0m\u001b[0;34m\u001b[0m\u001b[0;34m\u001b[0m\u001b[0m\n\u001b[1;32m   1517\u001b[0m         \u001b[0;32melse\u001b[0m\u001b[0;34m:\u001b[0m\u001b[0;34m\u001b[0m\u001b[0;34m\u001b[0m\u001b[0m\n\u001b[0;32m-> 1518\u001b[0;31m             \u001b[0;32mreturn\u001b[0m \u001b[0mself\u001b[0m\u001b[0;34m.\u001b[0m\u001b[0m_call_impl\u001b[0m\u001b[0;34m(\u001b[0m\u001b[0;34m*\u001b[0m\u001b[0margs\u001b[0m\u001b[0;34m,\u001b[0m \u001b[0;34m**\u001b[0m\u001b[0mkwargs\u001b[0m\u001b[0;34m)\u001b[0m\u001b[0;34m\u001b[0m\u001b[0;34m\u001b[0m\u001b[0m\n\u001b[0m\u001b[1;32m   1519\u001b[0m \u001b[0;34m\u001b[0m\u001b[0m\n\u001b[1;32m   1520\u001b[0m     \u001b[0;32mdef\u001b[0m \u001b[0m_call_impl\u001b[0m\u001b[0;34m(\u001b[0m\u001b[0mself\u001b[0m\u001b[0;34m,\u001b[0m \u001b[0;34m*\u001b[0m\u001b[0margs\u001b[0m\u001b[0;34m,\u001b[0m \u001b[0;34m**\u001b[0m\u001b[0mkwargs\u001b[0m\u001b[0;34m)\u001b[0m\u001b[0;34m:\u001b[0m\u001b[0;34m\u001b[0m\u001b[0;34m\u001b[0m\u001b[0m\n",
            "\u001b[0;32m/usr/local/lib/python3.10/dist-packages/torch/nn/modules/module.py\u001b[0m in \u001b[0;36m_call_impl\u001b[0;34m(self, *args, **kwargs)\u001b[0m\n\u001b[1;32m   1525\u001b[0m                 \u001b[0;32mor\u001b[0m \u001b[0m_global_backward_pre_hooks\u001b[0m \u001b[0;32mor\u001b[0m \u001b[0m_global_backward_hooks\u001b[0m\u001b[0;34m\u001b[0m\u001b[0;34m\u001b[0m\u001b[0m\n\u001b[1;32m   1526\u001b[0m                 or _global_forward_hooks or _global_forward_pre_hooks):\n\u001b[0;32m-> 1527\u001b[0;31m             \u001b[0;32mreturn\u001b[0m \u001b[0mforward_call\u001b[0m\u001b[0;34m(\u001b[0m\u001b[0;34m*\u001b[0m\u001b[0margs\u001b[0m\u001b[0;34m,\u001b[0m \u001b[0;34m**\u001b[0m\u001b[0mkwargs\u001b[0m\u001b[0;34m)\u001b[0m\u001b[0;34m\u001b[0m\u001b[0;34m\u001b[0m\u001b[0m\n\u001b[0m\u001b[1;32m   1528\u001b[0m \u001b[0;34m\u001b[0m\u001b[0m\n\u001b[1;32m   1529\u001b[0m         \u001b[0;32mtry\u001b[0m\u001b[0;34m:\u001b[0m\u001b[0;34m\u001b[0m\u001b[0;34m\u001b[0m\u001b[0m\n",
            "\u001b[0;32m/usr/local/lib/python3.10/dist-packages/transformers/models/bert/modeling_bert.py\u001b[0m in \u001b[0;36mforward\u001b[0;34m(self, input_ids, attention_mask, token_type_ids, position_ids, head_mask, inputs_embeds, encoder_hidden_states, encoder_attention_mask, past_key_values, use_cache, output_attentions, output_hidden_states, return_dict)\u001b[0m\n\u001b[1;32m   1011\u001b[0m             \u001b[0mpast_key_values_length\u001b[0m\u001b[0;34m=\u001b[0m\u001b[0mpast_key_values_length\u001b[0m\u001b[0;34m,\u001b[0m\u001b[0;34m\u001b[0m\u001b[0;34m\u001b[0m\u001b[0m\n\u001b[1;32m   1012\u001b[0m         )\n\u001b[0;32m-> 1013\u001b[0;31m         encoder_outputs = self.encoder(\n\u001b[0m\u001b[1;32m   1014\u001b[0m             \u001b[0membedding_output\u001b[0m\u001b[0;34m,\u001b[0m\u001b[0;34m\u001b[0m\u001b[0;34m\u001b[0m\u001b[0m\n\u001b[1;32m   1015\u001b[0m             \u001b[0mattention_mask\u001b[0m\u001b[0;34m=\u001b[0m\u001b[0mextended_attention_mask\u001b[0m\u001b[0;34m,\u001b[0m\u001b[0;34m\u001b[0m\u001b[0;34m\u001b[0m\u001b[0m\n",
            "\u001b[0;32m/usr/local/lib/python3.10/dist-packages/torch/nn/modules/module.py\u001b[0m in \u001b[0;36m_wrapped_call_impl\u001b[0;34m(self, *args, **kwargs)\u001b[0m\n\u001b[1;32m   1516\u001b[0m             \u001b[0;32mreturn\u001b[0m \u001b[0mself\u001b[0m\u001b[0;34m.\u001b[0m\u001b[0m_compiled_call_impl\u001b[0m\u001b[0;34m(\u001b[0m\u001b[0;34m*\u001b[0m\u001b[0margs\u001b[0m\u001b[0;34m,\u001b[0m \u001b[0;34m**\u001b[0m\u001b[0mkwargs\u001b[0m\u001b[0;34m)\u001b[0m  \u001b[0;31m# type: ignore[misc]\u001b[0m\u001b[0;34m\u001b[0m\u001b[0;34m\u001b[0m\u001b[0m\n\u001b[1;32m   1517\u001b[0m         \u001b[0;32melse\u001b[0m\u001b[0;34m:\u001b[0m\u001b[0;34m\u001b[0m\u001b[0;34m\u001b[0m\u001b[0m\n\u001b[0;32m-> 1518\u001b[0;31m             \u001b[0;32mreturn\u001b[0m \u001b[0mself\u001b[0m\u001b[0;34m.\u001b[0m\u001b[0m_call_impl\u001b[0m\u001b[0;34m(\u001b[0m\u001b[0;34m*\u001b[0m\u001b[0margs\u001b[0m\u001b[0;34m,\u001b[0m \u001b[0;34m**\u001b[0m\u001b[0mkwargs\u001b[0m\u001b[0;34m)\u001b[0m\u001b[0;34m\u001b[0m\u001b[0;34m\u001b[0m\u001b[0m\n\u001b[0m\u001b[1;32m   1519\u001b[0m \u001b[0;34m\u001b[0m\u001b[0m\n\u001b[1;32m   1520\u001b[0m     \u001b[0;32mdef\u001b[0m \u001b[0m_call_impl\u001b[0m\u001b[0;34m(\u001b[0m\u001b[0mself\u001b[0m\u001b[0;34m,\u001b[0m \u001b[0;34m*\u001b[0m\u001b[0margs\u001b[0m\u001b[0;34m,\u001b[0m \u001b[0;34m**\u001b[0m\u001b[0mkwargs\u001b[0m\u001b[0;34m)\u001b[0m\u001b[0;34m:\u001b[0m\u001b[0;34m\u001b[0m\u001b[0;34m\u001b[0m\u001b[0m\n",
            "\u001b[0;32m/usr/local/lib/python3.10/dist-packages/torch/nn/modules/module.py\u001b[0m in \u001b[0;36m_call_impl\u001b[0;34m(self, *args, **kwargs)\u001b[0m\n\u001b[1;32m   1525\u001b[0m                 \u001b[0;32mor\u001b[0m \u001b[0m_global_backward_pre_hooks\u001b[0m \u001b[0;32mor\u001b[0m \u001b[0m_global_backward_hooks\u001b[0m\u001b[0;34m\u001b[0m\u001b[0;34m\u001b[0m\u001b[0m\n\u001b[1;32m   1526\u001b[0m                 or _global_forward_hooks or _global_forward_pre_hooks):\n\u001b[0;32m-> 1527\u001b[0;31m             \u001b[0;32mreturn\u001b[0m \u001b[0mforward_call\u001b[0m\u001b[0;34m(\u001b[0m\u001b[0;34m*\u001b[0m\u001b[0margs\u001b[0m\u001b[0;34m,\u001b[0m \u001b[0;34m**\u001b[0m\u001b[0mkwargs\u001b[0m\u001b[0;34m)\u001b[0m\u001b[0;34m\u001b[0m\u001b[0;34m\u001b[0m\u001b[0m\n\u001b[0m\u001b[1;32m   1528\u001b[0m \u001b[0;34m\u001b[0m\u001b[0m\n\u001b[1;32m   1529\u001b[0m         \u001b[0;32mtry\u001b[0m\u001b[0;34m:\u001b[0m\u001b[0;34m\u001b[0m\u001b[0;34m\u001b[0m\u001b[0m\n",
            "\u001b[0;32m/usr/local/lib/python3.10/dist-packages/transformers/models/bert/modeling_bert.py\u001b[0m in \u001b[0;36mforward\u001b[0;34m(self, hidden_states, attention_mask, head_mask, encoder_hidden_states, encoder_attention_mask, past_key_values, use_cache, output_attentions, output_hidden_states, return_dict)\u001b[0m\n\u001b[1;32m    605\u001b[0m                 )\n\u001b[1;32m    606\u001b[0m             \u001b[0;32melse\u001b[0m\u001b[0;34m:\u001b[0m\u001b[0;34m\u001b[0m\u001b[0;34m\u001b[0m\u001b[0m\n\u001b[0;32m--> 607\u001b[0;31m                 layer_outputs = layer_module(\n\u001b[0m\u001b[1;32m    608\u001b[0m                     \u001b[0mhidden_states\u001b[0m\u001b[0;34m,\u001b[0m\u001b[0;34m\u001b[0m\u001b[0;34m\u001b[0m\u001b[0m\n\u001b[1;32m    609\u001b[0m                     \u001b[0mattention_mask\u001b[0m\u001b[0;34m,\u001b[0m\u001b[0;34m\u001b[0m\u001b[0;34m\u001b[0m\u001b[0m\n",
            "\u001b[0;32m/usr/local/lib/python3.10/dist-packages/torch/nn/modules/module.py\u001b[0m in \u001b[0;36m_wrapped_call_impl\u001b[0;34m(self, *args, **kwargs)\u001b[0m\n\u001b[1;32m   1516\u001b[0m             \u001b[0;32mreturn\u001b[0m \u001b[0mself\u001b[0m\u001b[0;34m.\u001b[0m\u001b[0m_compiled_call_impl\u001b[0m\u001b[0;34m(\u001b[0m\u001b[0;34m*\u001b[0m\u001b[0margs\u001b[0m\u001b[0;34m,\u001b[0m \u001b[0;34m**\u001b[0m\u001b[0mkwargs\u001b[0m\u001b[0;34m)\u001b[0m  \u001b[0;31m# type: ignore[misc]\u001b[0m\u001b[0;34m\u001b[0m\u001b[0;34m\u001b[0m\u001b[0m\n\u001b[1;32m   1517\u001b[0m         \u001b[0;32melse\u001b[0m\u001b[0;34m:\u001b[0m\u001b[0;34m\u001b[0m\u001b[0;34m\u001b[0m\u001b[0m\n\u001b[0;32m-> 1518\u001b[0;31m             \u001b[0;32mreturn\u001b[0m \u001b[0mself\u001b[0m\u001b[0;34m.\u001b[0m\u001b[0m_call_impl\u001b[0m\u001b[0;34m(\u001b[0m\u001b[0;34m*\u001b[0m\u001b[0margs\u001b[0m\u001b[0;34m,\u001b[0m \u001b[0;34m**\u001b[0m\u001b[0mkwargs\u001b[0m\u001b[0;34m)\u001b[0m\u001b[0;34m\u001b[0m\u001b[0;34m\u001b[0m\u001b[0m\n\u001b[0m\u001b[1;32m   1519\u001b[0m \u001b[0;34m\u001b[0m\u001b[0m\n\u001b[1;32m   1520\u001b[0m     \u001b[0;32mdef\u001b[0m \u001b[0m_call_impl\u001b[0m\u001b[0;34m(\u001b[0m\u001b[0mself\u001b[0m\u001b[0;34m,\u001b[0m \u001b[0;34m*\u001b[0m\u001b[0margs\u001b[0m\u001b[0;34m,\u001b[0m \u001b[0;34m**\u001b[0m\u001b[0mkwargs\u001b[0m\u001b[0;34m)\u001b[0m\u001b[0;34m:\u001b[0m\u001b[0;34m\u001b[0m\u001b[0;34m\u001b[0m\u001b[0m\n",
            "\u001b[0;32m/usr/local/lib/python3.10/dist-packages/torch/nn/modules/module.py\u001b[0m in \u001b[0;36m_call_impl\u001b[0;34m(self, *args, **kwargs)\u001b[0m\n\u001b[1;32m   1525\u001b[0m                 \u001b[0;32mor\u001b[0m \u001b[0m_global_backward_pre_hooks\u001b[0m \u001b[0;32mor\u001b[0m \u001b[0m_global_backward_hooks\u001b[0m\u001b[0;34m\u001b[0m\u001b[0;34m\u001b[0m\u001b[0m\n\u001b[1;32m   1526\u001b[0m                 or _global_forward_hooks or _global_forward_pre_hooks):\n\u001b[0;32m-> 1527\u001b[0;31m             \u001b[0;32mreturn\u001b[0m \u001b[0mforward_call\u001b[0m\u001b[0;34m(\u001b[0m\u001b[0;34m*\u001b[0m\u001b[0margs\u001b[0m\u001b[0;34m,\u001b[0m \u001b[0;34m**\u001b[0m\u001b[0mkwargs\u001b[0m\u001b[0;34m)\u001b[0m\u001b[0;34m\u001b[0m\u001b[0;34m\u001b[0m\u001b[0m\n\u001b[0m\u001b[1;32m   1528\u001b[0m \u001b[0;34m\u001b[0m\u001b[0m\n\u001b[1;32m   1529\u001b[0m         \u001b[0;32mtry\u001b[0m\u001b[0;34m:\u001b[0m\u001b[0;34m\u001b[0m\u001b[0;34m\u001b[0m\u001b[0m\n",
            "\u001b[0;32m/usr/local/lib/python3.10/dist-packages/transformers/models/bert/modeling_bert.py\u001b[0m in \u001b[0;36mforward\u001b[0;34m(self, hidden_states, attention_mask, head_mask, encoder_hidden_states, encoder_attention_mask, past_key_value, output_attentions)\u001b[0m\n\u001b[1;32m    537\u001b[0m             \u001b[0mpresent_key_value\u001b[0m \u001b[0;34m=\u001b[0m \u001b[0mpresent_key_value\u001b[0m \u001b[0;34m+\u001b[0m \u001b[0mcross_attn_present_key_value\u001b[0m\u001b[0;34m\u001b[0m\u001b[0;34m\u001b[0m\u001b[0m\n\u001b[1;32m    538\u001b[0m \u001b[0;34m\u001b[0m\u001b[0m\n\u001b[0;32m--> 539\u001b[0;31m         layer_output = apply_chunking_to_forward(\n\u001b[0m\u001b[1;32m    540\u001b[0m             \u001b[0mself\u001b[0m\u001b[0;34m.\u001b[0m\u001b[0mfeed_forward_chunk\u001b[0m\u001b[0;34m,\u001b[0m \u001b[0mself\u001b[0m\u001b[0;34m.\u001b[0m\u001b[0mchunk_size_feed_forward\u001b[0m\u001b[0;34m,\u001b[0m \u001b[0mself\u001b[0m\u001b[0;34m.\u001b[0m\u001b[0mseq_len_dim\u001b[0m\u001b[0;34m,\u001b[0m \u001b[0mattention_output\u001b[0m\u001b[0;34m\u001b[0m\u001b[0;34m\u001b[0m\u001b[0m\n\u001b[1;32m    541\u001b[0m         )\n",
            "\u001b[0;32m/usr/local/lib/python3.10/dist-packages/transformers/pytorch_utils.py\u001b[0m in \u001b[0;36mapply_chunking_to_forward\u001b[0;34m(forward_fn, chunk_size, chunk_dim, *input_tensors)\u001b[0m\n\u001b[1;32m    239\u001b[0m         \u001b[0;32mreturn\u001b[0m \u001b[0mtorch\u001b[0m\u001b[0;34m.\u001b[0m\u001b[0mcat\u001b[0m\u001b[0;34m(\u001b[0m\u001b[0moutput_chunks\u001b[0m\u001b[0;34m,\u001b[0m \u001b[0mdim\u001b[0m\u001b[0;34m=\u001b[0m\u001b[0mchunk_dim\u001b[0m\u001b[0;34m)\u001b[0m\u001b[0;34m\u001b[0m\u001b[0;34m\u001b[0m\u001b[0m\n\u001b[1;32m    240\u001b[0m \u001b[0;34m\u001b[0m\u001b[0m\n\u001b[0;32m--> 241\u001b[0;31m     \u001b[0;32mreturn\u001b[0m \u001b[0mforward_fn\u001b[0m\u001b[0;34m(\u001b[0m\u001b[0;34m*\u001b[0m\u001b[0minput_tensors\u001b[0m\u001b[0;34m)\u001b[0m\u001b[0;34m\u001b[0m\u001b[0;34m\u001b[0m\u001b[0m\n\u001b[0m\u001b[1;32m    242\u001b[0m \u001b[0;34m\u001b[0m\u001b[0m\n\u001b[1;32m    243\u001b[0m \u001b[0;34m\u001b[0m\u001b[0m\n",
            "\u001b[0;32m/usr/local/lib/python3.10/dist-packages/transformers/models/bert/modeling_bert.py\u001b[0m in \u001b[0;36mfeed_forward_chunk\u001b[0;34m(self, attention_output)\u001b[0m\n\u001b[1;32m    550\u001b[0m     \u001b[0;32mdef\u001b[0m \u001b[0mfeed_forward_chunk\u001b[0m\u001b[0;34m(\u001b[0m\u001b[0mself\u001b[0m\u001b[0;34m,\u001b[0m \u001b[0mattention_output\u001b[0m\u001b[0;34m)\u001b[0m\u001b[0;34m:\u001b[0m\u001b[0;34m\u001b[0m\u001b[0;34m\u001b[0m\u001b[0m\n\u001b[1;32m    551\u001b[0m         \u001b[0mintermediate_output\u001b[0m \u001b[0;34m=\u001b[0m \u001b[0mself\u001b[0m\u001b[0;34m.\u001b[0m\u001b[0mintermediate\u001b[0m\u001b[0;34m(\u001b[0m\u001b[0mattention_output\u001b[0m\u001b[0;34m)\u001b[0m\u001b[0;34m\u001b[0m\u001b[0;34m\u001b[0m\u001b[0m\n\u001b[0;32m--> 552\u001b[0;31m         \u001b[0mlayer_output\u001b[0m \u001b[0;34m=\u001b[0m \u001b[0mself\u001b[0m\u001b[0;34m.\u001b[0m\u001b[0moutput\u001b[0m\u001b[0;34m(\u001b[0m\u001b[0mintermediate_output\u001b[0m\u001b[0;34m,\u001b[0m \u001b[0mattention_output\u001b[0m\u001b[0;34m)\u001b[0m\u001b[0;34m\u001b[0m\u001b[0;34m\u001b[0m\u001b[0m\n\u001b[0m\u001b[1;32m    553\u001b[0m         \u001b[0;32mreturn\u001b[0m \u001b[0mlayer_output\u001b[0m\u001b[0;34m\u001b[0m\u001b[0;34m\u001b[0m\u001b[0m\n\u001b[1;32m    554\u001b[0m \u001b[0;34m\u001b[0m\u001b[0m\n",
            "\u001b[0;32m/usr/local/lib/python3.10/dist-packages/torch/nn/modules/module.py\u001b[0m in \u001b[0;36m_wrapped_call_impl\u001b[0;34m(self, *args, **kwargs)\u001b[0m\n\u001b[1;32m   1516\u001b[0m             \u001b[0;32mreturn\u001b[0m \u001b[0mself\u001b[0m\u001b[0;34m.\u001b[0m\u001b[0m_compiled_call_impl\u001b[0m\u001b[0;34m(\u001b[0m\u001b[0;34m*\u001b[0m\u001b[0margs\u001b[0m\u001b[0;34m,\u001b[0m \u001b[0;34m**\u001b[0m\u001b[0mkwargs\u001b[0m\u001b[0;34m)\u001b[0m  \u001b[0;31m# type: ignore[misc]\u001b[0m\u001b[0;34m\u001b[0m\u001b[0;34m\u001b[0m\u001b[0m\n\u001b[1;32m   1517\u001b[0m         \u001b[0;32melse\u001b[0m\u001b[0;34m:\u001b[0m\u001b[0;34m\u001b[0m\u001b[0;34m\u001b[0m\u001b[0m\n\u001b[0;32m-> 1518\u001b[0;31m             \u001b[0;32mreturn\u001b[0m \u001b[0mself\u001b[0m\u001b[0;34m.\u001b[0m\u001b[0m_call_impl\u001b[0m\u001b[0;34m(\u001b[0m\u001b[0;34m*\u001b[0m\u001b[0margs\u001b[0m\u001b[0;34m,\u001b[0m \u001b[0;34m**\u001b[0m\u001b[0mkwargs\u001b[0m\u001b[0;34m)\u001b[0m\u001b[0;34m\u001b[0m\u001b[0;34m\u001b[0m\u001b[0m\n\u001b[0m\u001b[1;32m   1519\u001b[0m \u001b[0;34m\u001b[0m\u001b[0m\n\u001b[1;32m   1520\u001b[0m     \u001b[0;32mdef\u001b[0m \u001b[0m_call_impl\u001b[0m\u001b[0;34m(\u001b[0m\u001b[0mself\u001b[0m\u001b[0;34m,\u001b[0m \u001b[0;34m*\u001b[0m\u001b[0margs\u001b[0m\u001b[0;34m,\u001b[0m \u001b[0;34m**\u001b[0m\u001b[0mkwargs\u001b[0m\u001b[0;34m)\u001b[0m\u001b[0;34m:\u001b[0m\u001b[0;34m\u001b[0m\u001b[0;34m\u001b[0m\u001b[0m\n",
            "\u001b[0;32m/usr/local/lib/python3.10/dist-packages/torch/nn/modules/module.py\u001b[0m in \u001b[0;36m_call_impl\u001b[0;34m(self, *args, **kwargs)\u001b[0m\n\u001b[1;32m   1525\u001b[0m                 \u001b[0;32mor\u001b[0m \u001b[0m_global_backward_pre_hooks\u001b[0m \u001b[0;32mor\u001b[0m \u001b[0m_global_backward_hooks\u001b[0m\u001b[0;34m\u001b[0m\u001b[0;34m\u001b[0m\u001b[0m\n\u001b[1;32m   1526\u001b[0m                 or _global_forward_hooks or _global_forward_pre_hooks):\n\u001b[0;32m-> 1527\u001b[0;31m             \u001b[0;32mreturn\u001b[0m \u001b[0mforward_call\u001b[0m\u001b[0;34m(\u001b[0m\u001b[0;34m*\u001b[0m\u001b[0margs\u001b[0m\u001b[0;34m,\u001b[0m \u001b[0;34m**\u001b[0m\u001b[0mkwargs\u001b[0m\u001b[0;34m)\u001b[0m\u001b[0;34m\u001b[0m\u001b[0;34m\u001b[0m\u001b[0m\n\u001b[0m\u001b[1;32m   1528\u001b[0m \u001b[0;34m\u001b[0m\u001b[0m\n\u001b[1;32m   1529\u001b[0m         \u001b[0;32mtry\u001b[0m\u001b[0;34m:\u001b[0m\u001b[0;34m\u001b[0m\u001b[0;34m\u001b[0m\u001b[0m\n",
            "\u001b[0;32m/usr/local/lib/python3.10/dist-packages/transformers/models/bert/modeling_bert.py\u001b[0m in \u001b[0;36mforward\u001b[0;34m(self, hidden_states, input_tensor)\u001b[0m\n\u001b[1;32m    464\u001b[0m         \u001b[0mhidden_states\u001b[0m \u001b[0;34m=\u001b[0m \u001b[0mself\u001b[0m\u001b[0;34m.\u001b[0m\u001b[0mdense\u001b[0m\u001b[0;34m(\u001b[0m\u001b[0mhidden_states\u001b[0m\u001b[0;34m)\u001b[0m\u001b[0;34m\u001b[0m\u001b[0;34m\u001b[0m\u001b[0m\n\u001b[1;32m    465\u001b[0m         \u001b[0mhidden_states\u001b[0m \u001b[0;34m=\u001b[0m \u001b[0mself\u001b[0m\u001b[0;34m.\u001b[0m\u001b[0mdropout\u001b[0m\u001b[0;34m(\u001b[0m\u001b[0mhidden_states\u001b[0m\u001b[0;34m)\u001b[0m\u001b[0;34m\u001b[0m\u001b[0;34m\u001b[0m\u001b[0m\n\u001b[0;32m--> 466\u001b[0;31m         \u001b[0mhidden_states\u001b[0m \u001b[0;34m=\u001b[0m \u001b[0mself\u001b[0m\u001b[0;34m.\u001b[0m\u001b[0mLayerNorm\u001b[0m\u001b[0;34m(\u001b[0m\u001b[0mhidden_states\u001b[0m \u001b[0;34m+\u001b[0m \u001b[0minput_tensor\u001b[0m\u001b[0;34m)\u001b[0m\u001b[0;34m\u001b[0m\u001b[0;34m\u001b[0m\u001b[0m\n\u001b[0m\u001b[1;32m    467\u001b[0m         \u001b[0;32mreturn\u001b[0m \u001b[0mhidden_states\u001b[0m\u001b[0;34m\u001b[0m\u001b[0;34m\u001b[0m\u001b[0m\n\u001b[1;32m    468\u001b[0m \u001b[0;34m\u001b[0m\u001b[0m\n",
            "\u001b[0;32m/usr/local/lib/python3.10/dist-packages/torch/nn/modules/module.py\u001b[0m in \u001b[0;36m_wrapped_call_impl\u001b[0;34m(self, *args, **kwargs)\u001b[0m\n\u001b[1;32m   1512\u001b[0m         \u001b[0;32mreturn\u001b[0m \u001b[0mresult\u001b[0m\u001b[0;34m\u001b[0m\u001b[0;34m\u001b[0m\u001b[0m\n\u001b[1;32m   1513\u001b[0m \u001b[0;34m\u001b[0m\u001b[0m\n\u001b[0;32m-> 1514\u001b[0;31m     \u001b[0;32mdef\u001b[0m \u001b[0m_wrapped_call_impl\u001b[0m\u001b[0;34m(\u001b[0m\u001b[0mself\u001b[0m\u001b[0;34m,\u001b[0m \u001b[0;34m*\u001b[0m\u001b[0margs\u001b[0m\u001b[0;34m,\u001b[0m \u001b[0;34m**\u001b[0m\u001b[0mkwargs\u001b[0m\u001b[0;34m)\u001b[0m\u001b[0;34m:\u001b[0m\u001b[0;34m\u001b[0m\u001b[0;34m\u001b[0m\u001b[0m\n\u001b[0m\u001b[1;32m   1515\u001b[0m         \u001b[0;32mif\u001b[0m \u001b[0mself\u001b[0m\u001b[0;34m.\u001b[0m\u001b[0m_compiled_call_impl\u001b[0m \u001b[0;32mis\u001b[0m \u001b[0;32mnot\u001b[0m \u001b[0;32mNone\u001b[0m\u001b[0;34m:\u001b[0m\u001b[0;34m\u001b[0m\u001b[0;34m\u001b[0m\u001b[0m\n\u001b[1;32m   1516\u001b[0m             \u001b[0;32mreturn\u001b[0m \u001b[0mself\u001b[0m\u001b[0;34m.\u001b[0m\u001b[0m_compiled_call_impl\u001b[0m\u001b[0;34m(\u001b[0m\u001b[0;34m*\u001b[0m\u001b[0margs\u001b[0m\u001b[0;34m,\u001b[0m \u001b[0;34m**\u001b[0m\u001b[0mkwargs\u001b[0m\u001b[0;34m)\u001b[0m  \u001b[0;31m# type: ignore[misc]\u001b[0m\u001b[0;34m\u001b[0m\u001b[0;34m\u001b[0m\u001b[0m\n",
            "\u001b[0;31mKeyboardInterrupt\u001b[0m: "
          ]
        }
      ]
    },
    {
      "cell_type": "code",
      "execution_count": null,
      "metadata": {
        "id": "N9o-7udJmahe"
      },
      "outputs": [],
      "source": [
        "'''\n",
        "PROVIDE YOUR ANSWER BELOW\n",
        "\n",
        "Firstly, it's worth noting that the calculation of my training\n",
        "accuracy is slightly misleading. In the training loop I count up\n",
        "the correct predictions while the weights are being adjusted during each epoch\n",
        "rather than all at the end. This is for computational efficiency and memory\n",
        "purposes, as using the 'get_accuracy' function on the training data would require\n",
        "looping through and forward passing all (30000 samples) of the training data for a second time.\n",
        "Instead of that, I need to save on memory and time for this assignment, since\n",
        "training is already taking forever. Because I'm calculating the training accuracy\n",
        "while updating weights, the final accuracy is a mix of predictions from the\n",
        "beggining and end of (this fairly long) epoch, so it will be lower than the\n",
        "final training accuracy at the end of the epoch. Even worse: I'm using dropout,\n",
        "so while calculating the training accuracy in the loop I'm not even using all the\n",
        "weights. I acknowledge and accept this, simply because training is taking too long\n",
        "and after exhausting all my options, I have to save on time and memory wherever\n",
        "I can. I hope I won't be deducted for this because I'm fully aware of it and how\n",
        "to fix it, and am deciding not to for the sake of efficiency.\n",
        "It is an engineering decision I am making to purposefully mistrepresent the training\n",
        "accuracy, because I think it's worth it. If this were a different situation and\n",
        "I had access to more compute, or if it were more important and I had more time,\n",
        "I'd fix this immediately, but given the circumstances I won't.\n",
        "\n",
        "With that said, the variables I decided to change were learning rate, batch size,\n",
        "hidden layer processing, and dropout rate. Batch size was the first thing that\n",
        "I tried to vary, this was because I had initially forgot to freeze the BERT weights\n",
        "and was running out of memory constantly. Before realizing that I should be freezing\n",
        "Bert weights, I tried to reduce the batch size in order to free up memory (which\n",
        "surprisingly worked for a minute).\n",
        "\n",
        "I'll admit that, in spite of my best efforts, each epoch to roughly 6 - 10 miniutes\n",
        "including getting validation accuracy. As a result, I didn't get many attempts at\n",
        "properly tuning my network. I tried a variety of batch sizes from 16 to 64. And\n",
        "increased the learning rate from 1e-5 to 5e-4 to 1e-4 in the hopes that this would\n",
        "help with convergence, and reduce the number of epochs required (thereby reducing\n",
        "my processing time).\n",
        "\n",
        "I also obviously tried the 2 different networks that I made, and found that my\n",
        "approach of using a weighted sum for the hidden outputs of BERT (which is almost\n",
        "an fc layer but not quite) worked significantly better than the pooling approach.\n",
        "This is made even better by the fact that I had no idea if it would work and hadn't\n",
        "heard of anyone else using it. So that's cool. After seeing that the validation\n",
        "accuracy was plateauing around 84-86% accuracy, I decided to add an extra layer\n",
        "fully connected layer to the classifier because I thought I may be underfitting.\n",
        "This didn't really end up changing anything though.\n",
        "Finally I adjusted the dropout rate between 0.3 and 0.5, and found that results were\n",
        "best at 0.3.\n",
        "\n",
        "P.S\n",
        "I tried to preprocess my data using only BERT, then save the bert hidden or\n",
        "pooled outputs to disc to be used later, but I either ran out of system ram or\n",
        "disk space. I don't know how it's possible to do the same thing as we did for ALEXNET\n",
        "given such a massive dataset with 50000 entries.\n",
        "\n",
        "\n",
        "'''"
      ]
    },
    {
      "cell_type": "markdown",
      "metadata": {
        "id": "ecKaJIpQe9UV"
      },
      "source": [
        "## Part 4. Evaluation [10 pt]\n",
        "\n",
        "### Part (i) [3pt RESULT]\n",
        "\n",
        "Report the final test accuracy of your best BERT-based model. Then summarize in a pandas dataframe the accuracy obtained on the training, validation, and test data of your best models from Part A and B.\n",
        "\n",
        "How does the BERT model compare to the approach in part A using only LSTM? Are the results what you expected? Explain.\n",
        "\n"
      ]
    },
    {
      "cell_type": "code",
      "execution_count": null,
      "metadata": {
        "id": "AoweZb8i2cRb",
        "colab": {
          "base_uri": "https://localhost:8080/"
        },
        "outputId": "cb823927-7b69-4916-c6f3-c92925c28242"
      },
      "outputs": [
        {
          "output_type": "stream",
          "name": "stdout",
          "text": [
            "Test Accuracy: 0.87\n",
            "             Model  Training Accuracy  Validation Accuracy  Test Accuracy\n",
            "0  Best BERT Model              84.71                86.06          86.71\n",
            "1        Best LSTM              86.51                84.42          83.97\n"
          ]
        }
      ],
      "source": [
        "# TO BE COMPLETED\n",
        "def load_best_model(checkpoint_path, model):\n",
        "    checkpoint = torch.load(checkpoint_path)\n",
        "    model.load_state_dict(checkpoint['state_dict'])\n",
        "    return model\n",
        "\n",
        "# Example usage\n",
        "best_model_path = '/content/bert_model_epoch4.pth'\n",
        "output_size = 1    # Binary classification\n",
        "max_tokens = 400\n",
        "best_model = SentimentClassifierLast(max_tokens, n_classes = output_size)\n",
        "best_model = load_best_model(best_model_path, best_model)\n",
        "\n",
        "test_accuracy = get_accuracy(best_model, test_data_loader, use_cuda=True)\n",
        "print(f\"Test Accuracy: {test_accuracy:.2f}\")\n",
        "\n",
        "# Create a DataFrame\n",
        "df = pd.DataFrame({\n",
        "    'Model': ['Best BERT Model', 'Best LSTM'],\n",
        "    'Training Accuracy': [84.71, 86.51],\n",
        "    'Validation Accuracy': [86.06, 84.42],\n",
        "    'Test Accuracy': [test_accuracy*100, 83.97]\n",
        "})\n",
        "\n",
        "\n",
        "print(df)"
      ]
    },
    {
      "cell_type": "code",
      "execution_count": 37,
      "metadata": {
        "id": "1RIZ3JWzm2a_"
      },
      "outputs": [],
      "source": [
        "'''\n",
        "PROVIDE YOUR ANSWER BELOW\n",
        "\n",
        "Honestly, BERT didn't perform much better than my custom LSTM model. This result\n",
        "is very unexpected, as BERT is a widely used pretrained transformer architecture\n",
        "implementing a hidden dimmension of length 768, and the other is a custom LSTM architecture\n",
        "with a hidden dimension of 150 and trained from scratch by yours truly. I\n",
        "deffinitely think that this result is a product of a lack of tuning, which itself\n",
        "is a product of training efficiency and compute power. Maybe I'm wrong, and perhaps\n",
        "this is a common result using BERT, my only point of comparison is using transfer\n",
        "learning with ALEXNET in a previous assignment, and I was able to achieve 100%\n",
        "accuracy on that use case with my own classifier and the ALEXNET features. That\n",
        "said, natural language processing is a whole different classification problem,\n",
        "and from what we've seen, maybe even using a solid transformer model like BERT\n",
        "isn't good enough to achieve 90% classification accuracy without a better\n",
        "classification architecture on the output layer.\n",
        "\n",
        "All that said, 87% test accuracy with my best BERT model is still pretty good,\n",
        "and it DID do better than the LSTM, if only by 3%. The 3% was however achieved\n",
        "with a far lower number of tuning opportunities due to the training cost, so\n",
        "with a more thorough approach I think I could do better.\n",
        "\n",
        "P.S\n",
        "I think students should be encouraged to use the autocast and Grad Scaler modules\n",
        "as they reduced my training and get accuracy processing time by half! They did this\n",
        "by reducing the floating point precision for operations like forward pass, loss\n",
        "calculation, and gradient updating from 32 to 16 bit. Highly, Highly recommend.\n",
        "\n",
        "'''"
      ]
    },
    {
      "cell_type": "markdown",
      "metadata": {
        "id": "ybdyEKx5Ww4F"
      },
      "source": [
        "### Part (ii) [2pt RESULT]\n",
        "\n",
        "Report the false positive rate and false negative rate of your model across the test set. Then summarize in a pandas dataframe the false postive and false negative rate of your model obtained on the training, validation, and test data of your best models from Part A and B.\n",
        "\n",
        "How does the BERT model compare to the approach in part A using only LSTM? Are the results what you expected? Explain."
      ]
    },
    {
      "cell_type": "code",
      "execution_count": 49,
      "metadata": {
        "id": "vuxLCHhFWw4F",
        "colab": {
          "base_uri": "https://localhost:8080/"
        },
        "outputId": "c637ae6d-536c-4637-9341-c05687b8b827"
      },
      "outputs": [
        {
          "output_type": "stream",
          "name": "stderr",
          "text": [
            "Getting Predictions: 100%|██████████| 938/938 [00:17<00:00, 52.20it/s]\n",
            "Getting Predictions: 100%|██████████| 313/313 [00:06<00:00, 51.05it/s]\n",
            "Getting Predictions: 100%|██████████| 313/313 [00:06<00:00, 50.89it/s]"
          ]
        },
        {
          "output_type": "stream",
          "name": "stdout",
          "text": [
            "{'Model': ['Model A', 'Model A', 'Model A', 'Model B', 'Model B', 'Model B'], 'Dataset': ['Training', 'Validation', 'Test', 'Training', 'Validation', 'Test'], 'False Positive Rate': [0.1487575777762974, 0.18483033932135728, 0.1887929303072906, 0.1482246352674705, 0.1658682634730539, 0.15746133761799558], 'False Negative Rate': [0.09927280005337247, 0.1280561122244489, 0.12706632144991037, 0.1074788177997198, 0.1124248496993988, 0.10854411471818363]}\n"
          ]
        },
        {
          "output_type": "stream",
          "name": "stderr",
          "text": [
            "\n"
          ]
        }
      ],
      "source": [
        "# TO BE COMPLETED\n",
        "from sklearn.metrics import confusion_matrix\n",
        "use_cuda = True\n",
        "\n",
        "#For inputs from the BERT model\n",
        "def B_compute_fpr_fnr(model, data_loader, device):\n",
        "    model.eval()\n",
        "    predictions = []\n",
        "    labels = []\n",
        "\n",
        "    with torch.no_grad():\n",
        "        for batch in tqdm(data_loader, desc = \"Getting Predictions\"):\n",
        "            input_ids = batch['input_ids'].to(device)\n",
        "            attention_mask = batch['attention_mask'].to(device)\n",
        "            batch_labels = batch['targets'].to(device)\n",
        "\n",
        "            with autocast():  # Enable mixed precision\n",
        "                outputs = model(input_ids, attention_mask)\n",
        "                preds = torch.sigmoid(outputs).squeeze()\n",
        "                predicted_labels = (preds >= 0.5).long()\n",
        "\n",
        "            predictions.extend(predicted_labels.cpu().numpy())\n",
        "            labels.extend(batch_labels.cpu().numpy())\n",
        "\n",
        "    # Compute confusion matrix and metrics\n",
        "    tn, fp, fn, tp = confusion_matrix(labels, predictions).ravel()\n",
        "    fpr = fp / (fp + tn)  # False Positive Rate\n",
        "    fnr = fn / (fn + tp)  # False Negative Rate\n",
        "\n",
        "    return fpr, fnr\n",
        "\n",
        "#For inputs with the LSTM model\n",
        "def A_compute_fpr_fnr(model, data_loader, use_cuda=True):\n",
        "    model.eval()\n",
        "    predictions = []\n",
        "    labels = []\n",
        "\n",
        "    with torch.no_grad():\n",
        "        for batch in tqdm(data_loader, desc=\"Getting Predictions\"):\n",
        "            inputs = batch[0]  # Assuming the batch is a tuple of (inputs, labels)\n",
        "            batch_labels = batch[1]\n",
        "\n",
        "            if use_cuda and torch.cuda.is_available():\n",
        "                inputs = inputs.cuda()\n",
        "                batch_labels = batch_labels.cuda()\n",
        "\n",
        "            # Enable mixed precision and pass the entire batch to the model\n",
        "            with autocast():\n",
        "                outputs = model(inputs)\n",
        "                preds = torch.sigmoid(outputs).squeeze()\n",
        "                predicted_labels = (preds >= 0.5).long()\n",
        "\n",
        "            predictions.extend(predicted_labels.cpu().numpy())\n",
        "            labels.extend(batch_labels.cpu().numpy())\n",
        "\n",
        "    # Compute confusion matrix and metrics\n",
        "    tn, fp, fn, tp = confusion_matrix(labels, predictions).ravel()\n",
        "    fpr = fp / (fp + tn)  # False Positive Rate\n",
        "    fnr = fn / (fn + tp)  # False Negative Rate\n",
        "\n",
        "    return fpr, fnr\n",
        "\n",
        "modelB_path = '/content/bert_model_epoch4 (1).pth'\n",
        "output_size = 1    # Binary classification\n",
        "max_tokens = 400\n",
        "modelB = SentimentClassifierLast(max_tokens, n_classes = output_size)\n",
        "modelB = load_best_model(modelB_path, modelB)\n",
        "\n",
        "device = torch.device(\"cuda\" if torch.cuda.is_available() else \"cpu\")\n",
        "\n",
        "if use_cuda and torch.cuda.is_available():\n",
        "  modelB = modelB.cuda()\n",
        "\n",
        "# Get pfr and fnr for BERT model:\n",
        "Btrain_fpr, Btrain_fnr = B_compute_fpr_fnr(modelB, train_data_loader, device)\n",
        "Bval_fpr, Bval_fnr = B_compute_fpr_fnr(modelB, validation_data_loader, device)\n",
        "Btest_fpr, Btest_fnr = B_compute_fpr_fnr(modelB, test_data_loader, device)\n",
        "\n",
        "\n",
        "# Load in best LSTM model from part A:\n",
        "vocab_size = len(stoi) + 1\n",
        "output_size = 1    # Binary classification\n",
        "embedding_dim = 128  # Size of the embeddings\n",
        "hidden_dim = 150     # Size of the hidden layer in LSTMs\n",
        "n_layers = 1         # Number of LSTM layers\n",
        "\n",
        "modelA_path = '/content/MyRNNModel_L1_H150_E128_LR5e-05_BS32_epoch11.pth'\n",
        "modelA = SentimentRNN(vocab_size, output_size, embedding_dim, hidden_dim, n_layers)\n",
        "checkpoint = load_checkpoint(modelA_path)\n",
        "modelA.load_state_dict(checkpoint['state_dict'])\n",
        "\n",
        "if use_cuda and torch.cuda.is_available():\n",
        "  modelA = modelA.cuda()\n",
        "\n",
        "#Get loaders for LSTM model:\n",
        "X_train_tensor = torch.from_numpy(X_train_encoded)\n",
        "y_train_tensor = torch.from_numpy(y_train_encoded)\n",
        "X_val_tensor = torch.from_numpy(X_val_encoded)\n",
        "y_val_tensor = torch.from_numpy(y_val_encoded)\n",
        "X_test_tensor = torch.from_numpy(X_test_encoded)\n",
        "y_test_tensor = torch.from_numpy(y_test_encoded)\n",
        "train_data = TensorDataset(X_train_tensor, y_train_tensor)\n",
        "val_data = TensorDataset(X_val_tensor, y_val_tensor)\n",
        "test_data = TensorDataset(X_test_tensor, y_test_tensor)\n",
        "train_loader = DataLoader(train_data, shuffle=True, batch_size=batch_size)\n",
        "val_loader = DataLoader(val_data, shuffle=True, batch_size=batch_size)\n",
        "test_loader = DataLoader(test_data, shuffle=True, batch_size=batch_size)\n",
        "\n",
        "#GET FPR and FNR\n",
        "Atrain_fpr, Atrain_fnr = A_compute_fpr_fnr(modelA, train_loader, device)\n",
        "Aval_fpr, Aval_fnr = A_compute_fpr_fnr(modelA, val_loader, device)\n",
        "Atest_fpr, Atest_fnr = A_compute_fpr_fnr(modelA, test_loader, device)\n"
      ]
    },
    {
      "cell_type": "code",
      "source": [
        "df_metrics = pd.DataFrame({\n",
        "    'Model': ['Model A', 'Model A', 'Model A', 'Model B', 'Model B', 'Model B'],\n",
        "    'Dataset': ['Training', 'Validation', 'Test'] * 2,\n",
        "    'False Positive Rate': [Atrain_fpr, Aval_fpr, Atest_fpr, Btrain_fpr, Bval_fpr, Btest_fpr],\n",
        "    'False Negative Rate': [Atrain_fnr, Aval_fnr, Atest_fnr, Btrain_fnr, Bval_fnr, Btest_fnr]\n",
        "})\n",
        "df_metrics"
      ],
      "metadata": {
        "colab": {
          "base_uri": "https://localhost:8080/",
          "height": 238
        },
        "id": "9_p3ctS4Nprw",
        "outputId": "d76485fe-5491-49eb-a86d-7773b246935a"
      },
      "execution_count": 51,
      "outputs": [
        {
          "output_type": "execute_result",
          "data": {
            "text/plain": [
              "     Model     Dataset  False Positive Rate  False Negative Rate\n",
              "0  Model A    Training             0.148758             0.099273\n",
              "1  Model A  Validation             0.184830             0.128056\n",
              "2  Model A        Test             0.188793             0.127066\n",
              "3  Model B    Training             0.148225             0.107479\n",
              "4  Model B  Validation             0.165868             0.112425\n",
              "5  Model B        Test             0.157461             0.108544"
            ],
            "text/html": [
              "\n",
              "  <div id=\"df-9d1618a5-3601-448d-866b-a0ee20173d92\" class=\"colab-df-container\">\n",
              "    <div>\n",
              "<style scoped>\n",
              "    .dataframe tbody tr th:only-of-type {\n",
              "        vertical-align: middle;\n",
              "    }\n",
              "\n",
              "    .dataframe tbody tr th {\n",
              "        vertical-align: top;\n",
              "    }\n",
              "\n",
              "    .dataframe thead th {\n",
              "        text-align: right;\n",
              "    }\n",
              "</style>\n",
              "<table border=\"1\" class=\"dataframe\">\n",
              "  <thead>\n",
              "    <tr style=\"text-align: right;\">\n",
              "      <th></th>\n",
              "      <th>Model</th>\n",
              "      <th>Dataset</th>\n",
              "      <th>False Positive Rate</th>\n",
              "      <th>False Negative Rate</th>\n",
              "    </tr>\n",
              "  </thead>\n",
              "  <tbody>\n",
              "    <tr>\n",
              "      <th>0</th>\n",
              "      <td>Model A</td>\n",
              "      <td>Training</td>\n",
              "      <td>0.148758</td>\n",
              "      <td>0.099273</td>\n",
              "    </tr>\n",
              "    <tr>\n",
              "      <th>1</th>\n",
              "      <td>Model A</td>\n",
              "      <td>Validation</td>\n",
              "      <td>0.184830</td>\n",
              "      <td>0.128056</td>\n",
              "    </tr>\n",
              "    <tr>\n",
              "      <th>2</th>\n",
              "      <td>Model A</td>\n",
              "      <td>Test</td>\n",
              "      <td>0.188793</td>\n",
              "      <td>0.127066</td>\n",
              "    </tr>\n",
              "    <tr>\n",
              "      <th>3</th>\n",
              "      <td>Model B</td>\n",
              "      <td>Training</td>\n",
              "      <td>0.148225</td>\n",
              "      <td>0.107479</td>\n",
              "    </tr>\n",
              "    <tr>\n",
              "      <th>4</th>\n",
              "      <td>Model B</td>\n",
              "      <td>Validation</td>\n",
              "      <td>0.165868</td>\n",
              "      <td>0.112425</td>\n",
              "    </tr>\n",
              "    <tr>\n",
              "      <th>5</th>\n",
              "      <td>Model B</td>\n",
              "      <td>Test</td>\n",
              "      <td>0.157461</td>\n",
              "      <td>0.108544</td>\n",
              "    </tr>\n",
              "  </tbody>\n",
              "</table>\n",
              "</div>\n",
              "    <div class=\"colab-df-buttons\">\n",
              "\n",
              "  <div class=\"colab-df-container\">\n",
              "    <button class=\"colab-df-convert\" onclick=\"convertToInteractive('df-9d1618a5-3601-448d-866b-a0ee20173d92')\"\n",
              "            title=\"Convert this dataframe to an interactive table.\"\n",
              "            style=\"display:none;\">\n",
              "\n",
              "  <svg xmlns=\"http://www.w3.org/2000/svg\" height=\"24px\" viewBox=\"0 -960 960 960\">\n",
              "    <path d=\"M120-120v-720h720v720H120Zm60-500h600v-160H180v160Zm220 220h160v-160H400v160Zm0 220h160v-160H400v160ZM180-400h160v-160H180v160Zm440 0h160v-160H620v160ZM180-180h160v-160H180v160Zm440 0h160v-160H620v160Z\"/>\n",
              "  </svg>\n",
              "    </button>\n",
              "\n",
              "  <style>\n",
              "    .colab-df-container {\n",
              "      display:flex;\n",
              "      gap: 12px;\n",
              "    }\n",
              "\n",
              "    .colab-df-convert {\n",
              "      background-color: #E8F0FE;\n",
              "      border: none;\n",
              "      border-radius: 50%;\n",
              "      cursor: pointer;\n",
              "      display: none;\n",
              "      fill: #1967D2;\n",
              "      height: 32px;\n",
              "      padding: 0 0 0 0;\n",
              "      width: 32px;\n",
              "    }\n",
              "\n",
              "    .colab-df-convert:hover {\n",
              "      background-color: #E2EBFA;\n",
              "      box-shadow: 0px 1px 2px rgba(60, 64, 67, 0.3), 0px 1px 3px 1px rgba(60, 64, 67, 0.15);\n",
              "      fill: #174EA6;\n",
              "    }\n",
              "\n",
              "    .colab-df-buttons div {\n",
              "      margin-bottom: 4px;\n",
              "    }\n",
              "\n",
              "    [theme=dark] .colab-df-convert {\n",
              "      background-color: #3B4455;\n",
              "      fill: #D2E3FC;\n",
              "    }\n",
              "\n",
              "    [theme=dark] .colab-df-convert:hover {\n",
              "      background-color: #434B5C;\n",
              "      box-shadow: 0px 1px 3px 1px rgba(0, 0, 0, 0.15);\n",
              "      filter: drop-shadow(0px 1px 2px rgba(0, 0, 0, 0.3));\n",
              "      fill: #FFFFFF;\n",
              "    }\n",
              "  </style>\n",
              "\n",
              "    <script>\n",
              "      const buttonEl =\n",
              "        document.querySelector('#df-9d1618a5-3601-448d-866b-a0ee20173d92 button.colab-df-convert');\n",
              "      buttonEl.style.display =\n",
              "        google.colab.kernel.accessAllowed ? 'block' : 'none';\n",
              "\n",
              "      async function convertToInteractive(key) {\n",
              "        const element = document.querySelector('#df-9d1618a5-3601-448d-866b-a0ee20173d92');\n",
              "        const dataTable =\n",
              "          await google.colab.kernel.invokeFunction('convertToInteractive',\n",
              "                                                    [key], {});\n",
              "        if (!dataTable) return;\n",
              "\n",
              "        const docLinkHtml = 'Like what you see? Visit the ' +\n",
              "          '<a target=\"_blank\" href=https://colab.research.google.com/notebooks/data_table.ipynb>data table notebook</a>'\n",
              "          + ' to learn more about interactive tables.';\n",
              "        element.innerHTML = '';\n",
              "        dataTable['output_type'] = 'display_data';\n",
              "        await google.colab.output.renderOutput(dataTable, element);\n",
              "        const docLink = document.createElement('div');\n",
              "        docLink.innerHTML = docLinkHtml;\n",
              "        element.appendChild(docLink);\n",
              "      }\n",
              "    </script>\n",
              "  </div>\n",
              "\n",
              "\n",
              "<div id=\"df-468f263d-e773-4ef9-8a6c-c189c471badf\">\n",
              "  <button class=\"colab-df-quickchart\" onclick=\"quickchart('df-468f263d-e773-4ef9-8a6c-c189c471badf')\"\n",
              "            title=\"Suggest charts\"\n",
              "            style=\"display:none;\">\n",
              "\n",
              "<svg xmlns=\"http://www.w3.org/2000/svg\" height=\"24px\"viewBox=\"0 0 24 24\"\n",
              "     width=\"24px\">\n",
              "    <g>\n",
              "        <path d=\"M19 3H5c-1.1 0-2 .9-2 2v14c0 1.1.9 2 2 2h14c1.1 0 2-.9 2-2V5c0-1.1-.9-2-2-2zM9 17H7v-7h2v7zm4 0h-2V7h2v10zm4 0h-2v-4h2v4z\"/>\n",
              "    </g>\n",
              "</svg>\n",
              "  </button>\n",
              "\n",
              "<style>\n",
              "  .colab-df-quickchart {\n",
              "      --bg-color: #E8F0FE;\n",
              "      --fill-color: #1967D2;\n",
              "      --hover-bg-color: #E2EBFA;\n",
              "      --hover-fill-color: #174EA6;\n",
              "      --disabled-fill-color: #AAA;\n",
              "      --disabled-bg-color: #DDD;\n",
              "  }\n",
              "\n",
              "  [theme=dark] .colab-df-quickchart {\n",
              "      --bg-color: #3B4455;\n",
              "      --fill-color: #D2E3FC;\n",
              "      --hover-bg-color: #434B5C;\n",
              "      --hover-fill-color: #FFFFFF;\n",
              "      --disabled-bg-color: #3B4455;\n",
              "      --disabled-fill-color: #666;\n",
              "  }\n",
              "\n",
              "  .colab-df-quickchart {\n",
              "    background-color: var(--bg-color);\n",
              "    border: none;\n",
              "    border-radius: 50%;\n",
              "    cursor: pointer;\n",
              "    display: none;\n",
              "    fill: var(--fill-color);\n",
              "    height: 32px;\n",
              "    padding: 0;\n",
              "    width: 32px;\n",
              "  }\n",
              "\n",
              "  .colab-df-quickchart:hover {\n",
              "    background-color: var(--hover-bg-color);\n",
              "    box-shadow: 0 1px 2px rgba(60, 64, 67, 0.3), 0 1px 3px 1px rgba(60, 64, 67, 0.15);\n",
              "    fill: var(--button-hover-fill-color);\n",
              "  }\n",
              "\n",
              "  .colab-df-quickchart-complete:disabled,\n",
              "  .colab-df-quickchart-complete:disabled:hover {\n",
              "    background-color: var(--disabled-bg-color);\n",
              "    fill: var(--disabled-fill-color);\n",
              "    box-shadow: none;\n",
              "  }\n",
              "\n",
              "  .colab-df-spinner {\n",
              "    border: 2px solid var(--fill-color);\n",
              "    border-color: transparent;\n",
              "    border-bottom-color: var(--fill-color);\n",
              "    animation:\n",
              "      spin 1s steps(1) infinite;\n",
              "  }\n",
              "\n",
              "  @keyframes spin {\n",
              "    0% {\n",
              "      border-color: transparent;\n",
              "      border-bottom-color: var(--fill-color);\n",
              "      border-left-color: var(--fill-color);\n",
              "    }\n",
              "    20% {\n",
              "      border-color: transparent;\n",
              "      border-left-color: var(--fill-color);\n",
              "      border-top-color: var(--fill-color);\n",
              "    }\n",
              "    30% {\n",
              "      border-color: transparent;\n",
              "      border-left-color: var(--fill-color);\n",
              "      border-top-color: var(--fill-color);\n",
              "      border-right-color: var(--fill-color);\n",
              "    }\n",
              "    40% {\n",
              "      border-color: transparent;\n",
              "      border-right-color: var(--fill-color);\n",
              "      border-top-color: var(--fill-color);\n",
              "    }\n",
              "    60% {\n",
              "      border-color: transparent;\n",
              "      border-right-color: var(--fill-color);\n",
              "    }\n",
              "    80% {\n",
              "      border-color: transparent;\n",
              "      border-right-color: var(--fill-color);\n",
              "      border-bottom-color: var(--fill-color);\n",
              "    }\n",
              "    90% {\n",
              "      border-color: transparent;\n",
              "      border-bottom-color: var(--fill-color);\n",
              "    }\n",
              "  }\n",
              "</style>\n",
              "\n",
              "  <script>\n",
              "    async function quickchart(key) {\n",
              "      const quickchartButtonEl =\n",
              "        document.querySelector('#' + key + ' button');\n",
              "      quickchartButtonEl.disabled = true;  // To prevent multiple clicks.\n",
              "      quickchartButtonEl.classList.add('colab-df-spinner');\n",
              "      try {\n",
              "        const charts = await google.colab.kernel.invokeFunction(\n",
              "            'suggestCharts', [key], {});\n",
              "      } catch (error) {\n",
              "        console.error('Error during call to suggestCharts:', error);\n",
              "      }\n",
              "      quickchartButtonEl.classList.remove('colab-df-spinner');\n",
              "      quickchartButtonEl.classList.add('colab-df-quickchart-complete');\n",
              "    }\n",
              "    (() => {\n",
              "      let quickchartButtonEl =\n",
              "        document.querySelector('#df-468f263d-e773-4ef9-8a6c-c189c471badf button');\n",
              "      quickchartButtonEl.style.display =\n",
              "        google.colab.kernel.accessAllowed ? 'block' : 'none';\n",
              "    })();\n",
              "  </script>\n",
              "</div>\n",
              "    </div>\n",
              "  </div>\n"
            ]
          },
          "metadata": {},
          "execution_count": 51
        }
      ]
    },
    {
      "cell_type": "code",
      "execution_count": null,
      "metadata": {
        "id": "vIu8lB9jm3X_"
      },
      "outputs": [],
      "source": [
        "'''\n",
        "PROVIDE YOUR ANSWER BELOW\n",
        "\n",
        "As we can see in the above dataframe, the false negative or positive rates between\n",
        "either model are fairly similar, with false negative rates lower. FN rates hovered\n",
        "between 9 and 13# while FP rates hovered between 14 and 18.5% for either model.\n",
        "What is noticable is how the training dataset for model A was deffinitely a bit\n",
        "more overfit (which was to be expected) given that it had the lowest FP and FR\n",
        "rate of any model or dataset. Overall, given the relatively similar accuracies\n",
        "between either the BERT or LSTM models, this result is what I would expect.\n",
        "If BERT had a signficiantly higher accuracy, then sure it'd be predictable that\n",
        "it's FP and FN rates would be lower (and they were in the case of validation\n",
        "and test data).\n",
        "One other thing ti not is how much lower the FN rate is compared to FP. This\n",
        "tells me that it's harder to identify negative reviews than it is positive reviews,\n",
        "and given that the dataset was perfectly balanced, I think this is simply because\n",
        "of the english language and negative reviews can be constructed in positive lighting,\n",
        "or using positive connotations for some purposes. It really boils down to how\n",
        "English reviews are made, and how people choose to review films.\n",
        "\n",
        "\n",
        "'''"
      ]
    },
    {
      "cell_type": "markdown",
      "metadata": {
        "id": "646WjsAwWw4F"
      },
      "source": [
        "### Part (iii) [3pt DISCUSSION]\n",
        "Examine some of the misclassified reviews from you best BERT and LSTM models to better identify the differences in the models. Try to provide some justification for any differences in the misclassifications observed in the models.\n",
        "\n",
        "Is there any part of the review that you could modify to make the classifications correct? Try to make small changes to the review to see if you can make the model make the correct classification while keeping the review as close to the original as possible."
      ]
    },
    {
      "cell_type": "code",
      "execution_count": 55,
      "metadata": {
        "id": "0OvvnW8OWw4G"
      },
      "outputs": [],
      "source": [
        "# TO BE COMPLETED\n",
        "\n",
        "def analyze_fp_fn_lstm(model, data_loader, device):\n",
        "    model.eval()\n",
        "    fp_samples, fn_samples = [], []\n",
        "    fp_count, fn_count = 0, 0\n",
        "\n",
        "    with torch.no_grad():\n",
        "        for batch, labels in data_loader:\n",
        "            batch = batch.to(device)\n",
        "            labels = labels.to(device)\n",
        "\n",
        "            outputs = model(batch)\n",
        "            preds = torch.sigmoid(outputs).squeeze()\n",
        "            predicted_labels = (preds >= 0.5).long()\n",
        "\n",
        "            # Analyze False Positives and False Negatives\n",
        "            for i in range(batch.size(0)):\n",
        "                if fp_count < 5 and predicted_labels[i].item() == 1 and labels[i].item() == 0:\n",
        "                    fp_samples.append(batch[i])\n",
        "                    fp_count += 1\n",
        "                elif fn_count < 5 and predicted_labels[i].item() == 0 and labels[i].item() == 1:\n",
        "                    fn_samples.append(batch[i])\n",
        "                    fn_count += 1\n",
        "\n",
        "                if fp_count >= 5 and fn_count >= 5:\n",
        "                    break\n",
        "            if fp_count >= 5 and fn_count >= 5:\n",
        "                break\n",
        "\n",
        "    return fp_samples, fn_samples\n",
        "\n",
        "def analyze_fp_fn_bert(model, data_loader, device):\n",
        "    model.eval()\n",
        "    fp_samples, fn_samples = [], []\n",
        "    fp_count, fn_count = 0, 0\n",
        "\n",
        "    with torch.no_grad():\n",
        "        for batch in data_loader:\n",
        "            input_ids = batch['input_ids'].to(device)\n",
        "            attention_mask = batch['attention_mask'].to(device)\n",
        "            labels = batch['targets'].to(device)\n",
        "\n",
        "            outputs = model(input_ids=input_ids, attention_mask=attention_mask)\n",
        "            preds = torch.sigmoid(outputs).squeeze()\n",
        "            predicted_labels = (preds >= 0.5).long()\n",
        "\n",
        "            # Analyze False Positives and False Negatives\n",
        "            for i in range(input_ids.size(0)):\n",
        "                if fp_count < 5 and predicted_labels[i].item() == 1 and labels[i].item() == 0:\n",
        "                    fp_samples.append((input_ids[i], attention_mask[i], labels[i]))\n",
        "                    fp_count += 1\n",
        "                elif fn_count < 5 and predicted_labels[i].item() == 0 and labels[i].item() == 1:\n",
        "                    fn_samples.append((input_ids[i], attention_mask[i], labels[i]))\n",
        "                    fn_count += 1\n",
        "\n",
        "                if fp_count >= 5 and fn_count >= 5:\n",
        "                    break\n",
        "            if fp_count >= 5 and fn_count >= 5:\n",
        "                break\n",
        "\n",
        "    return fp_samples, fn_samples\n"
      ]
    },
    {
      "cell_type": "code",
      "source": [
        "#For BERT:\n",
        "\n",
        "fp_samples_bert, fn_samples_bert = analyze_fp_fn_bert(modelB, test_data_loader, device)\n",
        "\n",
        "#Get loaders for LSTM model:\n",
        "\n",
        "X_test_tensor = torch.from_numpy(X_test_encoded)\n",
        "y_test_tensor = torch.from_numpy(y_test_encoded)\n",
        "test_data = TensorDataset(X_test_tensor, y_test_tensor)\n",
        "test_loader = DataLoader(test_data, shuffle=True, batch_size=batch_size)\n",
        "\n",
        "fp_samples_lstm, fn_samples_lstm = analyze_fp_fn_lstm(modelA, test_loader, device)\n",
        "\n",
        "# Print False Positives\n",
        "print(\"False Positives:\")\n",
        "for input_ids, _, _ in fp_samples_bert:\n",
        "    review_text = tokenizer.decode(input_ids, skip_special_tokens=True)\n",
        "    print(f\"Review: {review_text}\")\n",
        "\n",
        "# Print False Negatives\n",
        "print(\"\\nFalse Negatives:\")\n",
        "for input_ids, _, _ in fn_samples_bert:\n",
        "    review_text = tokenizer.decode(input_ids, skip_special_tokens=True)\n",
        "    print(f\"Review: {review_text}\")\n"
      ],
      "metadata": {
        "colab": {
          "base_uri": "https://localhost:8080/"
        },
        "id": "J584ekXPZPB5",
        "outputId": "d644c78b-3c87-42ea-8e54-927ee3dc75b6"
      },
      "execution_count": 66,
      "outputs": [
        {
          "output_type": "stream",
          "name": "stderr",
          "text": [
            "/usr/local/lib/python3.10/dist-packages/torch/utils/data/dataloader.py:557: UserWarning: This DataLoader will create 4 worker processes in total. Our suggested max number of worker in current system is 2, which is smaller than what this DataLoader is going to create. Please be aware that excessive worker creation might get DataLoader running slow or even freeze, lower the worker number to avoid potential slowness/freeze if necessary.\n",
            "  warnings.warn(_create_warning_msg(\n",
            "/usr/local/lib/python3.10/dist-packages/transformers/tokenization_utils_base.py:2614: FutureWarning: The `pad_to_max_length` argument is deprecated and will be removed in a future version, use `padding=True` or `padding='longest'` to pad to the longest sequence in the batch, or use `padding='max_length'` to pad to a max length. In this case, you can give a specific length with `max_length` (e.g. `max_length=45`) or leave max_length to None to pad to the maximal input size of the model (e.g. 512 for Bert).\n",
            "  warnings.warn(\n",
            "/usr/local/lib/python3.10/dist-packages/transformers/tokenization_utils_base.py:2614: FutureWarning: The `pad_to_max_length` argument is deprecated and will be removed in a future version, use `padding=True` or `padding='longest'` to pad to the longest sequence in the batch, or use `padding='max_length'` to pad to a max length. In this case, you can give a specific length with `max_length` (e.g. `max_length=45`) or leave max_length to None to pad to the maximal input size of the model (e.g. 512 for Bert).\n",
            "  warnings.warn(\n",
            "/usr/local/lib/python3.10/dist-packages/transformers/tokenization_utils_base.py:2614: FutureWarning: The `pad_to_max_length` argument is deprecated and will be removed in a future version, use `padding=True` or `padding='longest'` to pad to the longest sequence in the batch, or use `padding='max_length'` to pad to a max length. In this case, you can give a specific length with `max_length` (e.g. `max_length=45`) or leave max_length to None to pad to the maximal input size of the model (e.g. 512 for Bert).\n",
            "  warnings.warn(\n",
            "/usr/local/lib/python3.10/dist-packages/transformers/tokenization_utils_base.py:2614: FutureWarning: The `pad_to_max_length` argument is deprecated and will be removed in a future version, use `padding=True` or `padding='longest'` to pad to the longest sequence in the batch, or use `padding='max_length'` to pad to a max length. In this case, you can give a specific length with `max_length` (e.g. `max_length=45`) or leave max_length to None to pad to the maximal input size of the model (e.g. 512 for Bert).\n",
            "  warnings.warn(\n"
          ]
        },
        {
          "output_type": "stream",
          "name": "stdout",
          "text": [
            "False Positives:\n",
            "Review: For those who never saw A CHORUS LINE onstage and their only exposure to the story was this film, this film is OK as movie musicals, nothing special, just OK. I have seen the show on Broadway 4 times and even auditioned for a touring company of the show once and for someone who pretty much memorized the original production, the 1985 film version is so dreadful on so many levels that I don't even know where to begin. First of all, for those who have never auditioned for a theatrical production, let me assure you that IRL when you audition for a play, the director, producer, and choreographer never ask personal questions and don't give a crap about why you wanted to become a performer. A real theatrical audition, whether it be for a play or a musical, rarely takes more than five minutes. If you're auditioning as a dancer, you get shown a 64 - bar dance combination once, you do it, and then they decide immediately whether you're in or out. Michael Bennett's original concept of the show was to flesh out the lives of dancers and introduce to the uninitiated the passion for performing and why so many sacrifice so much for so little. The play is about these dancers. First of all, director Richard Attenborough took so much focus off the dancers by beefing up the Cassie / Zach relationship and by casting Michael Douglas as Zach. In the play, you NEVER see Zach... he is just a voice in the back of the theater and his relationship with Cassie is barely touched upon. Cassie shown in the cab in traffic trying to get to the audition and upstairs talking to Larry ( a character who is not even in the play ) was all added for the movie and took so much focus off what the story is about. Major musical numbers were cut or rethought. The opening number in the play \" I Hope I Get It \" shows all of the dancers\n",
            "Review: I'd really, really wanted to see this movie, and waited for months to get it through our Blockbuster Total Access account. When it showed up in our mailbox, I threw it straight into the DVD player. < br / > < br / > I was very sadly disappointed, which in turn made me mad. I'll give any movie a chance, even if I want to walk out of the theater / press'stop '. I watched it all the way through, but didn't get anything from it but frustration. < br / > < br / > The acting was very, very good, but that was about it. Nothing is explained ; while we understand that Mathieu becomes depressed and lands in a psych ward of some kind, we're never given insight to his'downfall '. While we understand that he and Cedric break up, again, we don't see it happen or WHY it happened. During an interview with Mathieu's doctor, Cedric reveals that he'd cheated on him once, but it was no big deal. I expected to see this in flashbacks, but no - - nothing. We also gets the hints that Cedric was the one to bring Mat to the hospital - - but AGAIN, we don't see it. < br / > < br / > I know some movies are a'take it as it is'basis, but this movie honestly ticked me off. When Pierre, Cedric's ex shows up in the club and starts trouble, we don't see hide nor hair of him until near the end, and it took me a good chunk of time to figure out that Pierre WAS the ex. His personality at the club and when Mat finds him are entirely different. I might even be wrong saying this, it was that confusing. < br / > < br / > The film expects you to know everything and move along with\n",
            "Review: While watching the film, I'm not sure what direstion it was to take. There's a reason a writer shouldn't direct his work and even act in it as well, you can't do it all. I felt the story really suffered in this film due to the director wearing so many hats. Ms. McTeer is the film. To add to her amazing talents, her portrayal of this woman was why I was engaged. Here is a British actress who can do anything. In my view, conflict is what makes drama and a great story. I felt this film didn't have that. Everything was somewhat easy for the characters, there were no real obstacles preventing the chahracters from getting what they wanted. Watch the film for the sweetness, but most of all for Ms. McTeer's brilliant performance.\n",
            "Review: The screen - play is very bad, but there are some action sequences that i really liked. I think the image is good, better than other romanian movies. I liked also how the actors did their jobs.\n",
            "Review: Disappointing and undeniably dull true - crime movie that has poorly cast character actor Jeremy Renner languidly mumbling his way through the title role of Jeffrey Dahmer, who was easily one of the last century's most recognizable degenerates / serial killers. Released straight - to - video back in early 2003, \" Dahmer \" is an overtly talky, boring, badly acted and virtually bloodless snore - fest of a true - crime drama that never truly delves into the monstrous and demented psyche of the late mass murderer like it had the perfectly good potential to do! What it does, however, attempt to do for reasons unknown to me is evoke some sort of sympathy in the viewer for the man by portraying him out to be what is ultimately a lonely, nebbishy and severely socially inept homosexual loser who was simply lookin'for love in all the wrong places as opposed to the cold, calculating and depraved sicko and madman that he was! Overall, 2003's \" Dahmer \" is one that true - crime buffs everywhere might as well skip because I'm not kidding when I say that it's one of the worst serial - killer biopics ever done! It's even sorrier than other pathetic and exploitive straight - to - video trash like \" Gacy \", \" Bundy \", \" Ed Gein \" and \" The Night Stalker \"! ( Turkey - Zero Stars )\n",
            "\n",
            "False Negatives:\n",
            "Review: Looking for Quo Vadis at my local video store, I found this 1985 version that looked interesting. Wow! It was amazing! Very much a Ken Russell kind of film - quirky, stylized, very artistic, and of course \" different. \" Nero was presented not so much as evil incarnate, but as a wacky, unfulfilled emperor who would rather have had a circus career. He probably wondered why on earth he was put in the position of \" leading \" an empire - it wasn't much fun, and fun is what he longed for. Klause Maria Bandaur had a tremendous time with this role and played it for all it was worth. Yes, Nero persecuted the Christians with a vengeance ; one of many who did so. At one point one of his henchmen murmurs : \" No one will ever understand we were simply protecting ourselves. \" He got that right.\n",
            "Review: I find this film meretricious, tentative, lethargic, and skillfully a bad choice of entertainment on celluloid. But I admire the courage to throw away a script, turn the camera on, and act a fool. I find the inauspiciously performances, lighting, cinematography, sound, and whatever film school laws D'Urville Martin broke funny. Speaking from a film directors perspective there is times I just want to drop everything and have fun on the set. This film looks like fun. When other aspiring film directors ask me advice I just tell them to watch any film by Rudy Ray Moore. They always return a puzzled look asking me why not watch the masters Woody Allen, Scorsese, Lucas, Capra? I laugh and include that you always want to know what not to do in cinematic story telling first.\n",
            "Review: There are very few movies that are so funny as this one. I was lucky enough to watch this movie at a theater \" reserved \" for movie buffs like me, so it was not so embarrassing sitting there laughing till my jaw was completely sore and my shirt sleeves were all wet from drying my eyes... < br / > < br / > At times the story was a bit \" slow \", but that is perhaps for the best - a bit of rest in - between the rolling amongst the aisles ( I nearly fell out of the seat... ) was most welcome.\n",
            "Review: Another enjoyable Warner flick. I really liked John Garfield in this, though I'm wondering why Cagney wasn't in the role. Perhaps it was too similar to ANGELS WITH DIRTY FACES? I mean, it's another Dead End Kids story of sorts too, but I really appreciated them here and this film had a lot of nice comical touches along with some good serious drama. The boys work great with Garfield. A nice sequence was the whole \" swimming \" scene which starts out with no cares but winds up coming too close to disaster. < br / > < br / > One negative comment : Claude Rains was grossly miscast. As the detective, the fine actor seemed as out of place here as a nun in a whorehouse.\n",
            "Review: A priest who has abandoned his ministry meets a young man who has just been ordained. < br / > < br / > This movie is about the cruel dilemma between a life dedicated to God and faith and a life of more earthly pleasures. In post war France it is also about the mortal aspect of Faith itself. < br / > < br / > This may not be the movie of a lifetime but it is a sin to have allowed it to fall in oblivion. Besides, Pierre Fresnay is sublime.\n"
          ]
        }
      ]
    },
    {
      "cell_type": "code",
      "execution_count": null,
      "metadata": {
        "id": "7TWkK5Sgm4YM"
      },
      "outputs": [],
      "source": [
        "'''\n",
        "PROVIDE YOUR ANSWER BELOW\n",
        "\n",
        "\n",
        "The results are very similar to what we saw in Part A where the false negative\n",
        "reviews are such because the language used to describe the films featured darker,\n",
        "or more violent tones. Phrases such as 'a poor homeless director' or\n",
        "'without shame, he admitted himself to defeat' hold negative connotations describing\n",
        "the ACTUAL film rather than the viewers interpretation of the movie.\n",
        "\n",
        "It's a similar story with the positive reviews. Honestly not much more to say.\n",
        "\n",
        "\n",
        "\n",
        "'''"
      ]
    },
    {
      "cell_type": "markdown",
      "metadata": {
        "id": "H4FlSj_Mn2yY"
      },
      "source": [
        "### Part (iv) [2pt DISCUSSION]\n",
        "Find 5 samples of positive and negative reviews on IMDB that were posted recently and evaluate them with your best BERT and LSTM models from parts A and B. How well do they perform?"
      ]
    },
    {
      "cell_type": "code",
      "source": [
        "r1 = \"\"\"\"A must-see film for any batman fans, I guess that others may enjoy this too. Saw this in a theatre today, the age ranking I would give is 14. I've been waiting for a good batman film for 14 years now, and this certainly, most certainly delivers.\n",
        "\"\"\"\n",
        "r2 = \"\"\"I must admit, I still believe \"Frank Herbert's Dune\" to be unfilmable. I realised that, watching Dune: Part One in my local movie theater today. That's why people who have read the book should see this movie adaptation as a single piece of art.\n",
        "\n",
        "Forget the book while watching this movie. Dune, the book drives on the thoughts and inner emotions of the characters - the things that are left unsaid. Visually, that can only be adapted to a certain extent.\n",
        "\n",
        "Villeneuve has done a better job than anyone could ask for. I think he had to compromise on not bringing even more details to the movie, considering that the majority of the people will not have read the book. The information overload would have been difficult to follow for most.\n",
        "\n",
        "This movie is definitely slow, so if you are accustomed to constant dopamine stimulation then you might find it boring.\n",
        "\n",
        "The visuals in combination with the sound/music are hauntingly beautiful and will stick in your mind for a long time. I got goosebumps almost throughout the entire movie.\n",
        "\n",
        "Dune: Part One definitely serves as a stepping stone for Dune: Part Two, and more to come... If you are looking for action, Dune: Part Two is definitely the movie to be waiting for. So grab some friends and go watch this movie.\n",
        "\"\"\"\n",
        "r3 = \"\"\"I couldn't care. I just couldn't bring myself to care for anything that happens in this film or for any character who inhabits this story or for any actor who is a part of its ensemble or for any stylistic choices the director makes. A Wes Anderson film at first looked wonderfully quaint & quirky to me and I've given them the benefit of doubt over the years. But not anymore. This is it. His films are not for me.\n",
        "\n",
        "The French Dispatch is a Wes Anderson film through n through. And I don't mean it in a good way. Like most of his works that I've seen so far, the visual aesthetic is no doubt appealing to the eye, it is beautifully shot, comes decorated with exquisite set pieces, and is steered by an ensemble of Hollywood A-listers. And just like most of his films, it is emotionally disconnected, tediously paced, and devoid of any flavours.\n",
        "\"\"\""
      ],
      "metadata": {
        "id": "yp_YUkTqVpDc"
      },
      "execution_count": 60,
      "outputs": []
    },
    {
      "cell_type": "code",
      "execution_count": 74,
      "metadata": {
        "id": "y3DCyMW_n05f",
        "colab": {
          "base_uri": "https://localhost:8080/"
        },
        "outputId": "b147926b-050d-44ba-c056-bd9902a4e780"
      },
      "outputs": [
        {
          "output_type": "stream",
          "name": "stdout",
          "text": [
            "Review: \"A must-see film for any batman fans, I guess that others may enjoy this too. Saw this in a theatre today, the age ranking I would give is 14. I've been waiting for a good batman film for 14 years now, and this certainly, most certainly delivers.\n",
            "\n",
            "Predicted Sentiment: Positive\n",
            "\n",
            "Review: I must admit, I still believe \"Frank Herbert's Dune\" to be unfilmable. I realised that, watching Dune: Part One in my local movie theater today. That's why people who have read the book should see this movie adaptation as a single piece of art.\n",
            "\n",
            "Forget the book while watching this movie. Dune, the book drives on the thoughts and inner emotions of the characters - the things that are left unsaid. Visually, that can only be adapted to a certain extent.\n",
            "\n",
            "Villeneuve has done a better job than anyone could ask for. I think he had to compromise on not bringing even more details to the movie, considering that the majority of the people will not have read the book. The information overload would have been difficult to follow for most.\n",
            "\n",
            "This movie is definitely slow, so if you are accustomed to constant dopamine stimulation then you might find it boring.\n",
            "\n",
            "The visuals in combination with the sound/music are hauntingly beautiful and will stick in your mind for a long time. I got goosebumps almost throughout the entire movie.\n",
            "\n",
            "Dune: Part One definitely serves as a stepping stone for Dune: Part Two, and more to come... If you are looking for action, Dune: Part Two is definitely the movie to be waiting for. So grab some friends and go watch this movie.\n",
            "\n",
            "Predicted Sentiment: Positive\n",
            "\n",
            "Review: I couldn't care. I just couldn't bring myself to care for anything that happens in this film or for any character who inhabits this story or for any actor who is a part of its ensemble or for any stylistic choices the director makes. A Wes Anderson film at first looked wonderfully quaint & quirky to me and I've given them the benefit of doubt over the years. But not anymore. This is it. His films are not for me.\n",
            "\n",
            "The French Dispatch is a Wes Anderson film through n through. And I don't mean it in a good way. Like most of his works that I've seen so far, the visual aesthetic is no doubt appealing to the eye, it is beautifully shot, comes decorated with exquisite set pieces, and is steered by an ensemble of Hollywood A-listers. And just like most of his films, it is emotionally disconnected, tediously paced, and devoid of any flavours.\n",
            "\n",
            "Predicted Sentiment: Positive\n",
            "\n"
          ]
        }
      ],
      "source": [
        "# TO BE COMPLETED\n",
        "# I used 2 positive and 1 negative reviews because I thought 10 was overkill.\n",
        "# Load the tokenizer and model\n",
        "model = modelB\n",
        "\n",
        "# Sample review\n",
        "reviews = [r1, r2, r3]\n",
        "\n",
        "# Preprocess and tokenize reviews\n",
        "inputs = tokenizer(reviews, padding='max_length', max_length = 400, truncation=True, return_tensors=\"pt\")\n",
        "input_ids = inputs[\"input_ids\"]\n",
        "attention_mask = inputs[\"attention_mask\"]\n",
        "if use_cuda and torch.cuda.is_available():\n",
        "  input_ids = input_ids.cuda()\n",
        "  attention_mask = attention_mask.cuda()\n",
        "\n",
        "\n",
        "# Predict sentiment\n",
        "with torch.no_grad():\n",
        "    model.eval()\n",
        "    outputs = model(input_ids, attention_mask)\n",
        "    predictions = torch.sigmoid(outputs).squeeze()\n",
        "    predicted_labels = (predictions >= 0.5).long()\n",
        "\n",
        "# Print predictions\n",
        "for review, label in zip(reviews, predicted_labels):\n",
        "    sentiment = \"Positive\" if label.item() == 1 else \"Negative\"\n",
        "    print(f\"Review: {review}\\nPredicted Sentiment: {sentiment}\\n\")\n",
        "\n",
        "\n"
      ]
    },
    {
      "cell_type": "code",
      "execution_count": null,
      "metadata": {
        "id": "0kLt9a5Xm5cO"
      },
      "outputs": [],
      "source": [
        "'''\n",
        "PROVIDE YOUR ANSWER BELOW\n",
        "\n",
        "Looks like the model got the first 2 correct, but not the last one, which should\n",
        "have been a negative review. It seems like the model is deffinitely biased towards\n",
        "giving out positive reviews, especially when that thrid review was quite frankly so poor.\n",
        "\n",
        "I think that because this is a binary classification problem, it'd probably\n",
        "be a good idea to examine the ROC curve and AUC, because thus far I've only\n",
        "been making my classifications based off a threshold of 0.5, if we were able to\n",
        "implement ROC classification into the training, I think results would improve significantly.\n",
        "That said, would (by virtue of telling the network it's wrong or right and\n",
        "calculating loss) that even matter? Would the network learn that thereshold is 0.5\n",
        "and compensate it's predictions accordingly? I think so, but I still think there\n",
        "may be something to gain by examining the ROC.\n",
        "\n",
        "\n",
        "\n",
        "\n",
        "'''"
      ]
    },
    {
      "cell_type": "markdown",
      "metadata": {
        "id": "ARDyU7N2mWFh"
      },
      "source": [
        "# PART C (Optional) - Bonus Challenge!\n",
        "\n",
        "This is an optional exercise for those that finish the assignment early and would like to take on a challenging task.\n",
        "\n",
        "In part A we constructed and trained an LSTM model to identify the sentiment in movie reviews. In Part B we used the embeddings of a BERT model pretrained on a large corpus of text to demonstrate how transfer learning can be used to improve our movie sentiment model. The BERT model is one of many language models that we could have used to implement transfer learning.\n",
        "\n",
        "For this bonus challenge you are asked to implement a generative character-level LSTM model to produce IMDB movie reviews. Once the model is sufficiently trained you can then use its hidden states as the embedding for training a movie sentiment model. Construct your new movie sentiment analysis model and compare the performance against the model from part A and B.\n",
        "\n",
        "There are many variants of a generative LSTM model that you can consider. As a starting point you can use the generative LSTM sample code provided in the lecture notes. Specifically, the one used to generate Shakeaspeare. More advanced versions of a generative LSTM can be found in the Universal Language Model Fine-turing for Text Classification (ULMfit) paper (https://arxiv.org/abs/1801.06146).\n",
        "\n",
        "Tasks:\n",
        "\n",
        "1. Create a generative character-level LSTM model trained to create IMDB reviews\n",
        "2. Create a classifier using the embeddings from the generative LSTM model (from step 1) to identify positive and negative reviews.\n",
        "3. Compare the performance of the model with the results in parts A and B of the assignment.\n",
        "4. Upgrade the generative LSTM model using the techniques listed in the ULMfit paper (e.g., bi-directional LSTM, pretraining with wikipedia text and fine-tuning on IMDBT reviews, etc.).\n",
        "\n",
        "Bonus marks will be provided based on the number of steps completed. Summarize below your results and anything intersting you learned from the steps that you completed. Bonus marks cannot be accumulated beyond a maximum assignment grade.\n"
      ]
    },
    {
      "cell_type": "code",
      "execution_count": null,
      "metadata": {
        "id": "9eUKPfCumdpW"
      },
      "outputs": [],
      "source": [
        "# TO BE COMPLETED\n",
        "\n",
        "\n"
      ]
    },
    {
      "cell_type": "code",
      "execution_count": null,
      "metadata": {
        "id": "ryS5uR0NB8pE"
      },
      "outputs": [],
      "source": [
        "'''\n",
        "PROVIDE YOUR ANSWER BELOW\n",
        "\n",
        "\n",
        "\n",
        "\n",
        "\n",
        "\n",
        "'''"
      ]
    },
    {
      "cell_type": "markdown",
      "metadata": {
        "id": "FYwI4RmFS2RB"
      },
      "source": [
        "### Saving to HTML\n",
        "Detailed instructions for saving to HTML can be found <a href=\"https://stackoverflow.com/questions/53460051/convert-ipynb-notebook-to-html-in-google-colab/64487858#64487858\">here</a>. Provided below are a summary of the instructions:\n",
        "\n",
        "(1) download your ipynb file by clicking on File->Download.ipynb\n",
        "\n",
        "(2) reupload your file to the temporary Google Colab storage (you can access the temporary storage from the tab to the left)\n",
        "\n",
        "(3) run the following:"
      ]
    },
    {
      "cell_type": "code",
      "execution_count": null,
      "metadata": {
        "colab": {
          "base_uri": "https://localhost:8080/"
        },
        "id": "2TrsqdNgS5ex",
        "outputId": "9e08e659-76b4-4d8f-a5f3-c49a3cbe2096"
      },
      "outputs": [
        {
          "name": "stdout",
          "output_type": "stream",
          "text": [
            "[NbConvertApp] Converting notebook /content/A4.ipynb to html\n",
            "[NbConvertApp] Writing 679783 bytes to /content/A4.html\n"
          ]
        },
        {
          "data": {
            "text/plain": []
          },
          "execution_count": 1,
          "metadata": {},
          "output_type": "execute_result"
        }
      ],
      "source": [
        "#!pip install nbconvert\n",
        "\n",
        "%%shell\n",
        "jupyter nbconvert --to html /content/A4.ipynb\n"
      ]
    },
    {
      "cell_type": "markdown",
      "metadata": {
        "id": "nuXhlFlPTY7F"
      },
      "source": [
        "(4) the html file will be available for download in the temporary Google Colab storage\n",
        "\n",
        "(5) review the html file and make sure all the results are visible before submitting your assignment to Quercus"
      ]
    },
    {
      "cell_type": "markdown",
      "metadata": {
        "id": "Oo8xLbm4mggI"
      },
      "source": [
        "# Assignment Grading Rubric\n",
        "The grading of the assignment will be based on the following categories:\n",
        "\n",
        "(1) **10 Pt - EXPLORATORY QUESTIONS** These are basic questions that in most cases can be answered without requiring a fully working and trained neural network model. For example, data loading, processing and visualization, summary statistics, data exploration, model and training setup, etc.\n",
        "\n",
        "(2) **10 Pt - MODEL** Student has successfully implemented all the required neural network models and has demonstrated successful training of the model without any errors.\n",
        "\n",
        "(3) **10 Pt - RESULT** Students are evaluated based on the results achieved in comparison to the expected results of the assignment.\n",
        "\n",
        "(4) **10 Pt - DISCUSSION QUESTIONS** Student demonstrated understanding beyond the basic exploratory questions, can answer some of the more challenging questions, and provide arguments for their model selection decisions.\n",
        "\n",
        "(5) **10 Pt - COMMUNICATION** Student has provided a quality submission that is easy to read without too many unnecessary output statements that distract the reading of the document. The code has been well commented and all the answers are communicated clearly and concisely.\n",
        "\n",
        "(6) **10 Pt - BONUS** Student has completed the assignment and has taken on the challenging bonus tasks listed in PART C. The student has demonstrated a good understanding of all aspects of the assignment and has exceeded expectations for the assignment.\n",
        "\n",
        "\n",
        "\n",
        "**TOTAL GRADE = _____ of 50 Pts**"
      ]
    }
  ],
  "metadata": {
    "accelerator": "GPU",
    "colab": {
      "provenance": []
    },
    "kernelspec": {
      "display_name": "Python 3",
      "name": "python3"
    },
    "language_info": {
      "name": "python"
    },
    "widgets": {
      "application/vnd.jupyter.widget-state+json": {
        "f521c805bfd247af81f7ce86d0375637": {
          "model_module": "@jupyter-widgets/controls",
          "model_name": "HBoxModel",
          "model_module_version": "1.5.0",
          "state": {
            "_dom_classes": [],
            "_model_module": "@jupyter-widgets/controls",
            "_model_module_version": "1.5.0",
            "_model_name": "HBoxModel",
            "_view_count": null,
            "_view_module": "@jupyter-widgets/controls",
            "_view_module_version": "1.5.0",
            "_view_name": "HBoxView",
            "box_style": "",
            "children": [
              "IPY_MODEL_38f202f10e92492d82e6d74ef0a39b4a",
              "IPY_MODEL_8ccc70bf1144444ebbce483284c28896",
              "IPY_MODEL_6fe3f8dac3994acb839e5f079e4c82c2"
            ],
            "layout": "IPY_MODEL_e6f96b31a0df412fb7b4f838a1d654fb"
          }
        },
        "38f202f10e92492d82e6d74ef0a39b4a": {
          "model_module": "@jupyter-widgets/controls",
          "model_name": "HTMLModel",
          "model_module_version": "1.5.0",
          "state": {
            "_dom_classes": [],
            "_model_module": "@jupyter-widgets/controls",
            "_model_module_version": "1.5.0",
            "_model_name": "HTMLModel",
            "_view_count": null,
            "_view_module": "@jupyter-widgets/controls",
            "_view_module_version": "1.5.0",
            "_view_name": "HTMLView",
            "description": "",
            "description_tooltip": null,
            "layout": "IPY_MODEL_ff8e074a1b6d452897097b4091dadd83",
            "placeholder": "​",
            "style": "IPY_MODEL_9043af105cf04541ac311529098699a7",
            "value": "tokenizer_config.json: 100%"
          }
        },
        "8ccc70bf1144444ebbce483284c28896": {
          "model_module": "@jupyter-widgets/controls",
          "model_name": "FloatProgressModel",
          "model_module_version": "1.5.0",
          "state": {
            "_dom_classes": [],
            "_model_module": "@jupyter-widgets/controls",
            "_model_module_version": "1.5.0",
            "_model_name": "FloatProgressModel",
            "_view_count": null,
            "_view_module": "@jupyter-widgets/controls",
            "_view_module_version": "1.5.0",
            "_view_name": "ProgressView",
            "bar_style": "success",
            "description": "",
            "description_tooltip": null,
            "layout": "IPY_MODEL_f1ec8200b6f24f6cb4cfe505065af619",
            "max": 29,
            "min": 0,
            "orientation": "horizontal",
            "style": "IPY_MODEL_ac66666961924c74939e2bdfce43c9d1",
            "value": 29
          }
        },
        "6fe3f8dac3994acb839e5f079e4c82c2": {
          "model_module": "@jupyter-widgets/controls",
          "model_name": "HTMLModel",
          "model_module_version": "1.5.0",
          "state": {
            "_dom_classes": [],
            "_model_module": "@jupyter-widgets/controls",
            "_model_module_version": "1.5.0",
            "_model_name": "HTMLModel",
            "_view_count": null,
            "_view_module": "@jupyter-widgets/controls",
            "_view_module_version": "1.5.0",
            "_view_name": "HTMLView",
            "description": "",
            "description_tooltip": null,
            "layout": "IPY_MODEL_6c3620ef977041b1861ac2a477348893",
            "placeholder": "​",
            "style": "IPY_MODEL_91140247f3e343089ecac4c73b8072c7",
            "value": " 29.0/29.0 [00:00&lt;00:00, 1.39kB/s]"
          }
        },
        "e6f96b31a0df412fb7b4f838a1d654fb": {
          "model_module": "@jupyter-widgets/base",
          "model_name": "LayoutModel",
          "model_module_version": "1.2.0",
          "state": {
            "_model_module": "@jupyter-widgets/base",
            "_model_module_version": "1.2.0",
            "_model_name": "LayoutModel",
            "_view_count": null,
            "_view_module": "@jupyter-widgets/base",
            "_view_module_version": "1.2.0",
            "_view_name": "LayoutView",
            "align_content": null,
            "align_items": null,
            "align_self": null,
            "border": null,
            "bottom": null,
            "display": null,
            "flex": null,
            "flex_flow": null,
            "grid_area": null,
            "grid_auto_columns": null,
            "grid_auto_flow": null,
            "grid_auto_rows": null,
            "grid_column": null,
            "grid_gap": null,
            "grid_row": null,
            "grid_template_areas": null,
            "grid_template_columns": null,
            "grid_template_rows": null,
            "height": null,
            "justify_content": null,
            "justify_items": null,
            "left": null,
            "margin": null,
            "max_height": null,
            "max_width": null,
            "min_height": null,
            "min_width": null,
            "object_fit": null,
            "object_position": null,
            "order": null,
            "overflow": null,
            "overflow_x": null,
            "overflow_y": null,
            "padding": null,
            "right": null,
            "top": null,
            "visibility": null,
            "width": null
          }
        },
        "ff8e074a1b6d452897097b4091dadd83": {
          "model_module": "@jupyter-widgets/base",
          "model_name": "LayoutModel",
          "model_module_version": "1.2.0",
          "state": {
            "_model_module": "@jupyter-widgets/base",
            "_model_module_version": "1.2.0",
            "_model_name": "LayoutModel",
            "_view_count": null,
            "_view_module": "@jupyter-widgets/base",
            "_view_module_version": "1.2.0",
            "_view_name": "LayoutView",
            "align_content": null,
            "align_items": null,
            "align_self": null,
            "border": null,
            "bottom": null,
            "display": null,
            "flex": null,
            "flex_flow": null,
            "grid_area": null,
            "grid_auto_columns": null,
            "grid_auto_flow": null,
            "grid_auto_rows": null,
            "grid_column": null,
            "grid_gap": null,
            "grid_row": null,
            "grid_template_areas": null,
            "grid_template_columns": null,
            "grid_template_rows": null,
            "height": null,
            "justify_content": null,
            "justify_items": null,
            "left": null,
            "margin": null,
            "max_height": null,
            "max_width": null,
            "min_height": null,
            "min_width": null,
            "object_fit": null,
            "object_position": null,
            "order": null,
            "overflow": null,
            "overflow_x": null,
            "overflow_y": null,
            "padding": null,
            "right": null,
            "top": null,
            "visibility": null,
            "width": null
          }
        },
        "9043af105cf04541ac311529098699a7": {
          "model_module": "@jupyter-widgets/controls",
          "model_name": "DescriptionStyleModel",
          "model_module_version": "1.5.0",
          "state": {
            "_model_module": "@jupyter-widgets/controls",
            "_model_module_version": "1.5.0",
            "_model_name": "DescriptionStyleModel",
            "_view_count": null,
            "_view_module": "@jupyter-widgets/base",
            "_view_module_version": "1.2.0",
            "_view_name": "StyleView",
            "description_width": ""
          }
        },
        "f1ec8200b6f24f6cb4cfe505065af619": {
          "model_module": "@jupyter-widgets/base",
          "model_name": "LayoutModel",
          "model_module_version": "1.2.0",
          "state": {
            "_model_module": "@jupyter-widgets/base",
            "_model_module_version": "1.2.0",
            "_model_name": "LayoutModel",
            "_view_count": null,
            "_view_module": "@jupyter-widgets/base",
            "_view_module_version": "1.2.0",
            "_view_name": "LayoutView",
            "align_content": null,
            "align_items": null,
            "align_self": null,
            "border": null,
            "bottom": null,
            "display": null,
            "flex": null,
            "flex_flow": null,
            "grid_area": null,
            "grid_auto_columns": null,
            "grid_auto_flow": null,
            "grid_auto_rows": null,
            "grid_column": null,
            "grid_gap": null,
            "grid_row": null,
            "grid_template_areas": null,
            "grid_template_columns": null,
            "grid_template_rows": null,
            "height": null,
            "justify_content": null,
            "justify_items": null,
            "left": null,
            "margin": null,
            "max_height": null,
            "max_width": null,
            "min_height": null,
            "min_width": null,
            "object_fit": null,
            "object_position": null,
            "order": null,
            "overflow": null,
            "overflow_x": null,
            "overflow_y": null,
            "padding": null,
            "right": null,
            "top": null,
            "visibility": null,
            "width": null
          }
        },
        "ac66666961924c74939e2bdfce43c9d1": {
          "model_module": "@jupyter-widgets/controls",
          "model_name": "ProgressStyleModel",
          "model_module_version": "1.5.0",
          "state": {
            "_model_module": "@jupyter-widgets/controls",
            "_model_module_version": "1.5.0",
            "_model_name": "ProgressStyleModel",
            "_view_count": null,
            "_view_module": "@jupyter-widgets/base",
            "_view_module_version": "1.2.0",
            "_view_name": "StyleView",
            "bar_color": null,
            "description_width": ""
          }
        },
        "6c3620ef977041b1861ac2a477348893": {
          "model_module": "@jupyter-widgets/base",
          "model_name": "LayoutModel",
          "model_module_version": "1.2.0",
          "state": {
            "_model_module": "@jupyter-widgets/base",
            "_model_module_version": "1.2.0",
            "_model_name": "LayoutModel",
            "_view_count": null,
            "_view_module": "@jupyter-widgets/base",
            "_view_module_version": "1.2.0",
            "_view_name": "LayoutView",
            "align_content": null,
            "align_items": null,
            "align_self": null,
            "border": null,
            "bottom": null,
            "display": null,
            "flex": null,
            "flex_flow": null,
            "grid_area": null,
            "grid_auto_columns": null,
            "grid_auto_flow": null,
            "grid_auto_rows": null,
            "grid_column": null,
            "grid_gap": null,
            "grid_row": null,
            "grid_template_areas": null,
            "grid_template_columns": null,
            "grid_template_rows": null,
            "height": null,
            "justify_content": null,
            "justify_items": null,
            "left": null,
            "margin": null,
            "max_height": null,
            "max_width": null,
            "min_height": null,
            "min_width": null,
            "object_fit": null,
            "object_position": null,
            "order": null,
            "overflow": null,
            "overflow_x": null,
            "overflow_y": null,
            "padding": null,
            "right": null,
            "top": null,
            "visibility": null,
            "width": null
          }
        },
        "91140247f3e343089ecac4c73b8072c7": {
          "model_module": "@jupyter-widgets/controls",
          "model_name": "DescriptionStyleModel",
          "model_module_version": "1.5.0",
          "state": {
            "_model_module": "@jupyter-widgets/controls",
            "_model_module_version": "1.5.0",
            "_model_name": "DescriptionStyleModel",
            "_view_count": null,
            "_view_module": "@jupyter-widgets/base",
            "_view_module_version": "1.2.0",
            "_view_name": "StyleView",
            "description_width": ""
          }
        },
        "91f0eb9de26a46cbbabb6dc8b05f7e93": {
          "model_module": "@jupyter-widgets/controls",
          "model_name": "HBoxModel",
          "model_module_version": "1.5.0",
          "state": {
            "_dom_classes": [],
            "_model_module": "@jupyter-widgets/controls",
            "_model_module_version": "1.5.0",
            "_model_name": "HBoxModel",
            "_view_count": null,
            "_view_module": "@jupyter-widgets/controls",
            "_view_module_version": "1.5.0",
            "_view_name": "HBoxView",
            "box_style": "",
            "children": [
              "IPY_MODEL_3fbd00796ae9478e924e09e87845d7b3",
              "IPY_MODEL_36e6b9e9b2fc4aba92c145cf846af104",
              "IPY_MODEL_c309638612ad448d8d777bafa4afa9ca"
            ],
            "layout": "IPY_MODEL_c61b5d1048ef49be8c9cc6c907460655"
          }
        },
        "3fbd00796ae9478e924e09e87845d7b3": {
          "model_module": "@jupyter-widgets/controls",
          "model_name": "HTMLModel",
          "model_module_version": "1.5.0",
          "state": {
            "_dom_classes": [],
            "_model_module": "@jupyter-widgets/controls",
            "_model_module_version": "1.5.0",
            "_model_name": "HTMLModel",
            "_view_count": null,
            "_view_module": "@jupyter-widgets/controls",
            "_view_module_version": "1.5.0",
            "_view_name": "HTMLView",
            "description": "",
            "description_tooltip": null,
            "layout": "IPY_MODEL_c6285d7c3c7e41f6b741b70df87f1cae",
            "placeholder": "​",
            "style": "IPY_MODEL_27a955b7fab3404abd50162624456afd",
            "value": "vocab.txt: 100%"
          }
        },
        "36e6b9e9b2fc4aba92c145cf846af104": {
          "model_module": "@jupyter-widgets/controls",
          "model_name": "FloatProgressModel",
          "model_module_version": "1.5.0",
          "state": {
            "_dom_classes": [],
            "_model_module": "@jupyter-widgets/controls",
            "_model_module_version": "1.5.0",
            "_model_name": "FloatProgressModel",
            "_view_count": null,
            "_view_module": "@jupyter-widgets/controls",
            "_view_module_version": "1.5.0",
            "_view_name": "ProgressView",
            "bar_style": "success",
            "description": "",
            "description_tooltip": null,
            "layout": "IPY_MODEL_4f4e1c7cd0ce45009b78136b5b922aba",
            "max": 213450,
            "min": 0,
            "orientation": "horizontal",
            "style": "IPY_MODEL_6cd013e689554cd496a6a2fa205c0c6e",
            "value": 213450
          }
        },
        "c309638612ad448d8d777bafa4afa9ca": {
          "model_module": "@jupyter-widgets/controls",
          "model_name": "HTMLModel",
          "model_module_version": "1.5.0",
          "state": {
            "_dom_classes": [],
            "_model_module": "@jupyter-widgets/controls",
            "_model_module_version": "1.5.0",
            "_model_name": "HTMLModel",
            "_view_count": null,
            "_view_module": "@jupyter-widgets/controls",
            "_view_module_version": "1.5.0",
            "_view_name": "HTMLView",
            "description": "",
            "description_tooltip": null,
            "layout": "IPY_MODEL_3065dc76fe65431687d920440160e696",
            "placeholder": "​",
            "style": "IPY_MODEL_845229ff325e45b7b7378650398f6138",
            "value": " 213k/213k [00:00&lt;00:00, 6.77MB/s]"
          }
        },
        "c61b5d1048ef49be8c9cc6c907460655": {
          "model_module": "@jupyter-widgets/base",
          "model_name": "LayoutModel",
          "model_module_version": "1.2.0",
          "state": {
            "_model_module": "@jupyter-widgets/base",
            "_model_module_version": "1.2.0",
            "_model_name": "LayoutModel",
            "_view_count": null,
            "_view_module": "@jupyter-widgets/base",
            "_view_module_version": "1.2.0",
            "_view_name": "LayoutView",
            "align_content": null,
            "align_items": null,
            "align_self": null,
            "border": null,
            "bottom": null,
            "display": null,
            "flex": null,
            "flex_flow": null,
            "grid_area": null,
            "grid_auto_columns": null,
            "grid_auto_flow": null,
            "grid_auto_rows": null,
            "grid_column": null,
            "grid_gap": null,
            "grid_row": null,
            "grid_template_areas": null,
            "grid_template_columns": null,
            "grid_template_rows": null,
            "height": null,
            "justify_content": null,
            "justify_items": null,
            "left": null,
            "margin": null,
            "max_height": null,
            "max_width": null,
            "min_height": null,
            "min_width": null,
            "object_fit": null,
            "object_position": null,
            "order": null,
            "overflow": null,
            "overflow_x": null,
            "overflow_y": null,
            "padding": null,
            "right": null,
            "top": null,
            "visibility": null,
            "width": null
          }
        },
        "c6285d7c3c7e41f6b741b70df87f1cae": {
          "model_module": "@jupyter-widgets/base",
          "model_name": "LayoutModel",
          "model_module_version": "1.2.0",
          "state": {
            "_model_module": "@jupyter-widgets/base",
            "_model_module_version": "1.2.0",
            "_model_name": "LayoutModel",
            "_view_count": null,
            "_view_module": "@jupyter-widgets/base",
            "_view_module_version": "1.2.0",
            "_view_name": "LayoutView",
            "align_content": null,
            "align_items": null,
            "align_self": null,
            "border": null,
            "bottom": null,
            "display": null,
            "flex": null,
            "flex_flow": null,
            "grid_area": null,
            "grid_auto_columns": null,
            "grid_auto_flow": null,
            "grid_auto_rows": null,
            "grid_column": null,
            "grid_gap": null,
            "grid_row": null,
            "grid_template_areas": null,
            "grid_template_columns": null,
            "grid_template_rows": null,
            "height": null,
            "justify_content": null,
            "justify_items": null,
            "left": null,
            "margin": null,
            "max_height": null,
            "max_width": null,
            "min_height": null,
            "min_width": null,
            "object_fit": null,
            "object_position": null,
            "order": null,
            "overflow": null,
            "overflow_x": null,
            "overflow_y": null,
            "padding": null,
            "right": null,
            "top": null,
            "visibility": null,
            "width": null
          }
        },
        "27a955b7fab3404abd50162624456afd": {
          "model_module": "@jupyter-widgets/controls",
          "model_name": "DescriptionStyleModel",
          "model_module_version": "1.5.0",
          "state": {
            "_model_module": "@jupyter-widgets/controls",
            "_model_module_version": "1.5.0",
            "_model_name": "DescriptionStyleModel",
            "_view_count": null,
            "_view_module": "@jupyter-widgets/base",
            "_view_module_version": "1.2.0",
            "_view_name": "StyleView",
            "description_width": ""
          }
        },
        "4f4e1c7cd0ce45009b78136b5b922aba": {
          "model_module": "@jupyter-widgets/base",
          "model_name": "LayoutModel",
          "model_module_version": "1.2.0",
          "state": {
            "_model_module": "@jupyter-widgets/base",
            "_model_module_version": "1.2.0",
            "_model_name": "LayoutModel",
            "_view_count": null,
            "_view_module": "@jupyter-widgets/base",
            "_view_module_version": "1.2.0",
            "_view_name": "LayoutView",
            "align_content": null,
            "align_items": null,
            "align_self": null,
            "border": null,
            "bottom": null,
            "display": null,
            "flex": null,
            "flex_flow": null,
            "grid_area": null,
            "grid_auto_columns": null,
            "grid_auto_flow": null,
            "grid_auto_rows": null,
            "grid_column": null,
            "grid_gap": null,
            "grid_row": null,
            "grid_template_areas": null,
            "grid_template_columns": null,
            "grid_template_rows": null,
            "height": null,
            "justify_content": null,
            "justify_items": null,
            "left": null,
            "margin": null,
            "max_height": null,
            "max_width": null,
            "min_height": null,
            "min_width": null,
            "object_fit": null,
            "object_position": null,
            "order": null,
            "overflow": null,
            "overflow_x": null,
            "overflow_y": null,
            "padding": null,
            "right": null,
            "top": null,
            "visibility": null,
            "width": null
          }
        },
        "6cd013e689554cd496a6a2fa205c0c6e": {
          "model_module": "@jupyter-widgets/controls",
          "model_name": "ProgressStyleModel",
          "model_module_version": "1.5.0",
          "state": {
            "_model_module": "@jupyter-widgets/controls",
            "_model_module_version": "1.5.0",
            "_model_name": "ProgressStyleModel",
            "_view_count": null,
            "_view_module": "@jupyter-widgets/base",
            "_view_module_version": "1.2.0",
            "_view_name": "StyleView",
            "bar_color": null,
            "description_width": ""
          }
        },
        "3065dc76fe65431687d920440160e696": {
          "model_module": "@jupyter-widgets/base",
          "model_name": "LayoutModel",
          "model_module_version": "1.2.0",
          "state": {
            "_model_module": "@jupyter-widgets/base",
            "_model_module_version": "1.2.0",
            "_model_name": "LayoutModel",
            "_view_count": null,
            "_view_module": "@jupyter-widgets/base",
            "_view_module_version": "1.2.0",
            "_view_name": "LayoutView",
            "align_content": null,
            "align_items": null,
            "align_self": null,
            "border": null,
            "bottom": null,
            "display": null,
            "flex": null,
            "flex_flow": null,
            "grid_area": null,
            "grid_auto_columns": null,
            "grid_auto_flow": null,
            "grid_auto_rows": null,
            "grid_column": null,
            "grid_gap": null,
            "grid_row": null,
            "grid_template_areas": null,
            "grid_template_columns": null,
            "grid_template_rows": null,
            "height": null,
            "justify_content": null,
            "justify_items": null,
            "left": null,
            "margin": null,
            "max_height": null,
            "max_width": null,
            "min_height": null,
            "min_width": null,
            "object_fit": null,
            "object_position": null,
            "order": null,
            "overflow": null,
            "overflow_x": null,
            "overflow_y": null,
            "padding": null,
            "right": null,
            "top": null,
            "visibility": null,
            "width": null
          }
        },
        "845229ff325e45b7b7378650398f6138": {
          "model_module": "@jupyter-widgets/controls",
          "model_name": "DescriptionStyleModel",
          "model_module_version": "1.5.0",
          "state": {
            "_model_module": "@jupyter-widgets/controls",
            "_model_module_version": "1.5.0",
            "_model_name": "DescriptionStyleModel",
            "_view_count": null,
            "_view_module": "@jupyter-widgets/base",
            "_view_module_version": "1.2.0",
            "_view_name": "StyleView",
            "description_width": ""
          }
        },
        "4b07d9124bfc42dd85322f66ebf92a61": {
          "model_module": "@jupyter-widgets/controls",
          "model_name": "HBoxModel",
          "model_module_version": "1.5.0",
          "state": {
            "_dom_classes": [],
            "_model_module": "@jupyter-widgets/controls",
            "_model_module_version": "1.5.0",
            "_model_name": "HBoxModel",
            "_view_count": null,
            "_view_module": "@jupyter-widgets/controls",
            "_view_module_version": "1.5.0",
            "_view_name": "HBoxView",
            "box_style": "",
            "children": [
              "IPY_MODEL_14c342e76cfe4a10a8e7bf62c91253d2",
              "IPY_MODEL_2efd53c10bc5426382089d230e8b1c1b",
              "IPY_MODEL_ec58aeed80484988868e8ed4effe16c0"
            ],
            "layout": "IPY_MODEL_da5cc0eb4e1e4d7bab2cdf598c693aa2"
          }
        },
        "14c342e76cfe4a10a8e7bf62c91253d2": {
          "model_module": "@jupyter-widgets/controls",
          "model_name": "HTMLModel",
          "model_module_version": "1.5.0",
          "state": {
            "_dom_classes": [],
            "_model_module": "@jupyter-widgets/controls",
            "_model_module_version": "1.5.0",
            "_model_name": "HTMLModel",
            "_view_count": null,
            "_view_module": "@jupyter-widgets/controls",
            "_view_module_version": "1.5.0",
            "_view_name": "HTMLView",
            "description": "",
            "description_tooltip": null,
            "layout": "IPY_MODEL_f7263878931f42dda81ce833b60f3506",
            "placeholder": "​",
            "style": "IPY_MODEL_f0c8ca338e374335a67496c88e98a1a0",
            "value": "tokenizer.json: 100%"
          }
        },
        "2efd53c10bc5426382089d230e8b1c1b": {
          "model_module": "@jupyter-widgets/controls",
          "model_name": "FloatProgressModel",
          "model_module_version": "1.5.0",
          "state": {
            "_dom_classes": [],
            "_model_module": "@jupyter-widgets/controls",
            "_model_module_version": "1.5.0",
            "_model_name": "FloatProgressModel",
            "_view_count": null,
            "_view_module": "@jupyter-widgets/controls",
            "_view_module_version": "1.5.0",
            "_view_name": "ProgressView",
            "bar_style": "success",
            "description": "",
            "description_tooltip": null,
            "layout": "IPY_MODEL_2885c44041404c96923f181037a1073b",
            "max": 435797,
            "min": 0,
            "orientation": "horizontal",
            "style": "IPY_MODEL_34b1aa3a0d804de2ab2e09e3e61113ce",
            "value": 435797
          }
        },
        "ec58aeed80484988868e8ed4effe16c0": {
          "model_module": "@jupyter-widgets/controls",
          "model_name": "HTMLModel",
          "model_module_version": "1.5.0",
          "state": {
            "_dom_classes": [],
            "_model_module": "@jupyter-widgets/controls",
            "_model_module_version": "1.5.0",
            "_model_name": "HTMLModel",
            "_view_count": null,
            "_view_module": "@jupyter-widgets/controls",
            "_view_module_version": "1.5.0",
            "_view_name": "HTMLView",
            "description": "",
            "description_tooltip": null,
            "layout": "IPY_MODEL_ff302ac3594543b7897497f303fc561f",
            "placeholder": "​",
            "style": "IPY_MODEL_5faf1089d25b4d3abc1cda63ba7b6689",
            "value": " 436k/436k [00:00&lt;00:00, 5.53MB/s]"
          }
        },
        "da5cc0eb4e1e4d7bab2cdf598c693aa2": {
          "model_module": "@jupyter-widgets/base",
          "model_name": "LayoutModel",
          "model_module_version": "1.2.0",
          "state": {
            "_model_module": "@jupyter-widgets/base",
            "_model_module_version": "1.2.0",
            "_model_name": "LayoutModel",
            "_view_count": null,
            "_view_module": "@jupyter-widgets/base",
            "_view_module_version": "1.2.0",
            "_view_name": "LayoutView",
            "align_content": null,
            "align_items": null,
            "align_self": null,
            "border": null,
            "bottom": null,
            "display": null,
            "flex": null,
            "flex_flow": null,
            "grid_area": null,
            "grid_auto_columns": null,
            "grid_auto_flow": null,
            "grid_auto_rows": null,
            "grid_column": null,
            "grid_gap": null,
            "grid_row": null,
            "grid_template_areas": null,
            "grid_template_columns": null,
            "grid_template_rows": null,
            "height": null,
            "justify_content": null,
            "justify_items": null,
            "left": null,
            "margin": null,
            "max_height": null,
            "max_width": null,
            "min_height": null,
            "min_width": null,
            "object_fit": null,
            "object_position": null,
            "order": null,
            "overflow": null,
            "overflow_x": null,
            "overflow_y": null,
            "padding": null,
            "right": null,
            "top": null,
            "visibility": null,
            "width": null
          }
        },
        "f7263878931f42dda81ce833b60f3506": {
          "model_module": "@jupyter-widgets/base",
          "model_name": "LayoutModel",
          "model_module_version": "1.2.0",
          "state": {
            "_model_module": "@jupyter-widgets/base",
            "_model_module_version": "1.2.0",
            "_model_name": "LayoutModel",
            "_view_count": null,
            "_view_module": "@jupyter-widgets/base",
            "_view_module_version": "1.2.0",
            "_view_name": "LayoutView",
            "align_content": null,
            "align_items": null,
            "align_self": null,
            "border": null,
            "bottom": null,
            "display": null,
            "flex": null,
            "flex_flow": null,
            "grid_area": null,
            "grid_auto_columns": null,
            "grid_auto_flow": null,
            "grid_auto_rows": null,
            "grid_column": null,
            "grid_gap": null,
            "grid_row": null,
            "grid_template_areas": null,
            "grid_template_columns": null,
            "grid_template_rows": null,
            "height": null,
            "justify_content": null,
            "justify_items": null,
            "left": null,
            "margin": null,
            "max_height": null,
            "max_width": null,
            "min_height": null,
            "min_width": null,
            "object_fit": null,
            "object_position": null,
            "order": null,
            "overflow": null,
            "overflow_x": null,
            "overflow_y": null,
            "padding": null,
            "right": null,
            "top": null,
            "visibility": null,
            "width": null
          }
        },
        "f0c8ca338e374335a67496c88e98a1a0": {
          "model_module": "@jupyter-widgets/controls",
          "model_name": "DescriptionStyleModel",
          "model_module_version": "1.5.0",
          "state": {
            "_model_module": "@jupyter-widgets/controls",
            "_model_module_version": "1.5.0",
            "_model_name": "DescriptionStyleModel",
            "_view_count": null,
            "_view_module": "@jupyter-widgets/base",
            "_view_module_version": "1.2.0",
            "_view_name": "StyleView",
            "description_width": ""
          }
        },
        "2885c44041404c96923f181037a1073b": {
          "model_module": "@jupyter-widgets/base",
          "model_name": "LayoutModel",
          "model_module_version": "1.2.0",
          "state": {
            "_model_module": "@jupyter-widgets/base",
            "_model_module_version": "1.2.0",
            "_model_name": "LayoutModel",
            "_view_count": null,
            "_view_module": "@jupyter-widgets/base",
            "_view_module_version": "1.2.0",
            "_view_name": "LayoutView",
            "align_content": null,
            "align_items": null,
            "align_self": null,
            "border": null,
            "bottom": null,
            "display": null,
            "flex": null,
            "flex_flow": null,
            "grid_area": null,
            "grid_auto_columns": null,
            "grid_auto_flow": null,
            "grid_auto_rows": null,
            "grid_column": null,
            "grid_gap": null,
            "grid_row": null,
            "grid_template_areas": null,
            "grid_template_columns": null,
            "grid_template_rows": null,
            "height": null,
            "justify_content": null,
            "justify_items": null,
            "left": null,
            "margin": null,
            "max_height": null,
            "max_width": null,
            "min_height": null,
            "min_width": null,
            "object_fit": null,
            "object_position": null,
            "order": null,
            "overflow": null,
            "overflow_x": null,
            "overflow_y": null,
            "padding": null,
            "right": null,
            "top": null,
            "visibility": null,
            "width": null
          }
        },
        "34b1aa3a0d804de2ab2e09e3e61113ce": {
          "model_module": "@jupyter-widgets/controls",
          "model_name": "ProgressStyleModel",
          "model_module_version": "1.5.0",
          "state": {
            "_model_module": "@jupyter-widgets/controls",
            "_model_module_version": "1.5.0",
            "_model_name": "ProgressStyleModel",
            "_view_count": null,
            "_view_module": "@jupyter-widgets/base",
            "_view_module_version": "1.2.0",
            "_view_name": "StyleView",
            "bar_color": null,
            "description_width": ""
          }
        },
        "ff302ac3594543b7897497f303fc561f": {
          "model_module": "@jupyter-widgets/base",
          "model_name": "LayoutModel",
          "model_module_version": "1.2.0",
          "state": {
            "_model_module": "@jupyter-widgets/base",
            "_model_module_version": "1.2.0",
            "_model_name": "LayoutModel",
            "_view_count": null,
            "_view_module": "@jupyter-widgets/base",
            "_view_module_version": "1.2.0",
            "_view_name": "LayoutView",
            "align_content": null,
            "align_items": null,
            "align_self": null,
            "border": null,
            "bottom": null,
            "display": null,
            "flex": null,
            "flex_flow": null,
            "grid_area": null,
            "grid_auto_columns": null,
            "grid_auto_flow": null,
            "grid_auto_rows": null,
            "grid_column": null,
            "grid_gap": null,
            "grid_row": null,
            "grid_template_areas": null,
            "grid_template_columns": null,
            "grid_template_rows": null,
            "height": null,
            "justify_content": null,
            "justify_items": null,
            "left": null,
            "margin": null,
            "max_height": null,
            "max_width": null,
            "min_height": null,
            "min_width": null,
            "object_fit": null,
            "object_position": null,
            "order": null,
            "overflow": null,
            "overflow_x": null,
            "overflow_y": null,
            "padding": null,
            "right": null,
            "top": null,
            "visibility": null,
            "width": null
          }
        },
        "5faf1089d25b4d3abc1cda63ba7b6689": {
          "model_module": "@jupyter-widgets/controls",
          "model_name": "DescriptionStyleModel",
          "model_module_version": "1.5.0",
          "state": {
            "_model_module": "@jupyter-widgets/controls",
            "_model_module_version": "1.5.0",
            "_model_name": "DescriptionStyleModel",
            "_view_count": null,
            "_view_module": "@jupyter-widgets/base",
            "_view_module_version": "1.2.0",
            "_view_name": "StyleView",
            "description_width": ""
          }
        },
        "a5054d3700874824bceb4e05c032dff3": {
          "model_module": "@jupyter-widgets/controls",
          "model_name": "HBoxModel",
          "model_module_version": "1.5.0",
          "state": {
            "_dom_classes": [],
            "_model_module": "@jupyter-widgets/controls",
            "_model_module_version": "1.5.0",
            "_model_name": "HBoxModel",
            "_view_count": null,
            "_view_module": "@jupyter-widgets/controls",
            "_view_module_version": "1.5.0",
            "_view_name": "HBoxView",
            "box_style": "",
            "children": [
              "IPY_MODEL_afb4f7d2b7564e0cb5da192fa06388af",
              "IPY_MODEL_0265078a347d487bbd66d37692f06049",
              "IPY_MODEL_6fe5892d28314134b03dddc6456e276f"
            ],
            "layout": "IPY_MODEL_4956a073c1304373b749acd4a615dcea"
          }
        },
        "afb4f7d2b7564e0cb5da192fa06388af": {
          "model_module": "@jupyter-widgets/controls",
          "model_name": "HTMLModel",
          "model_module_version": "1.5.0",
          "state": {
            "_dom_classes": [],
            "_model_module": "@jupyter-widgets/controls",
            "_model_module_version": "1.5.0",
            "_model_name": "HTMLModel",
            "_view_count": null,
            "_view_module": "@jupyter-widgets/controls",
            "_view_module_version": "1.5.0",
            "_view_name": "HTMLView",
            "description": "",
            "description_tooltip": null,
            "layout": "IPY_MODEL_2c581076d4e449da90e1c4c35e00b66c",
            "placeholder": "​",
            "style": "IPY_MODEL_af894e069bd242509339dd2717afe803",
            "value": "config.json: 100%"
          }
        },
        "0265078a347d487bbd66d37692f06049": {
          "model_module": "@jupyter-widgets/controls",
          "model_name": "FloatProgressModel",
          "model_module_version": "1.5.0",
          "state": {
            "_dom_classes": [],
            "_model_module": "@jupyter-widgets/controls",
            "_model_module_version": "1.5.0",
            "_model_name": "FloatProgressModel",
            "_view_count": null,
            "_view_module": "@jupyter-widgets/controls",
            "_view_module_version": "1.5.0",
            "_view_name": "ProgressView",
            "bar_style": "success",
            "description": "",
            "description_tooltip": null,
            "layout": "IPY_MODEL_5339ac77812141598202f10482dc8d46",
            "max": 570,
            "min": 0,
            "orientation": "horizontal",
            "style": "IPY_MODEL_e47a752da18c4a47a2e3fb0102b44ac8",
            "value": 570
          }
        },
        "6fe5892d28314134b03dddc6456e276f": {
          "model_module": "@jupyter-widgets/controls",
          "model_name": "HTMLModel",
          "model_module_version": "1.5.0",
          "state": {
            "_dom_classes": [],
            "_model_module": "@jupyter-widgets/controls",
            "_model_module_version": "1.5.0",
            "_model_name": "HTMLModel",
            "_view_count": null,
            "_view_module": "@jupyter-widgets/controls",
            "_view_module_version": "1.5.0",
            "_view_name": "HTMLView",
            "description": "",
            "description_tooltip": null,
            "layout": "IPY_MODEL_b40474b6c35e4998be6d1463c303d139",
            "placeholder": "​",
            "style": "IPY_MODEL_6c0d072041344621af9700005392fbb1",
            "value": " 570/570 [00:00&lt;00:00, 43.3kB/s]"
          }
        },
        "4956a073c1304373b749acd4a615dcea": {
          "model_module": "@jupyter-widgets/base",
          "model_name": "LayoutModel",
          "model_module_version": "1.2.0",
          "state": {
            "_model_module": "@jupyter-widgets/base",
            "_model_module_version": "1.2.0",
            "_model_name": "LayoutModel",
            "_view_count": null,
            "_view_module": "@jupyter-widgets/base",
            "_view_module_version": "1.2.0",
            "_view_name": "LayoutView",
            "align_content": null,
            "align_items": null,
            "align_self": null,
            "border": null,
            "bottom": null,
            "display": null,
            "flex": null,
            "flex_flow": null,
            "grid_area": null,
            "grid_auto_columns": null,
            "grid_auto_flow": null,
            "grid_auto_rows": null,
            "grid_column": null,
            "grid_gap": null,
            "grid_row": null,
            "grid_template_areas": null,
            "grid_template_columns": null,
            "grid_template_rows": null,
            "height": null,
            "justify_content": null,
            "justify_items": null,
            "left": null,
            "margin": null,
            "max_height": null,
            "max_width": null,
            "min_height": null,
            "min_width": null,
            "object_fit": null,
            "object_position": null,
            "order": null,
            "overflow": null,
            "overflow_x": null,
            "overflow_y": null,
            "padding": null,
            "right": null,
            "top": null,
            "visibility": null,
            "width": null
          }
        },
        "2c581076d4e449da90e1c4c35e00b66c": {
          "model_module": "@jupyter-widgets/base",
          "model_name": "LayoutModel",
          "model_module_version": "1.2.0",
          "state": {
            "_model_module": "@jupyter-widgets/base",
            "_model_module_version": "1.2.0",
            "_model_name": "LayoutModel",
            "_view_count": null,
            "_view_module": "@jupyter-widgets/base",
            "_view_module_version": "1.2.0",
            "_view_name": "LayoutView",
            "align_content": null,
            "align_items": null,
            "align_self": null,
            "border": null,
            "bottom": null,
            "display": null,
            "flex": null,
            "flex_flow": null,
            "grid_area": null,
            "grid_auto_columns": null,
            "grid_auto_flow": null,
            "grid_auto_rows": null,
            "grid_column": null,
            "grid_gap": null,
            "grid_row": null,
            "grid_template_areas": null,
            "grid_template_columns": null,
            "grid_template_rows": null,
            "height": null,
            "justify_content": null,
            "justify_items": null,
            "left": null,
            "margin": null,
            "max_height": null,
            "max_width": null,
            "min_height": null,
            "min_width": null,
            "object_fit": null,
            "object_position": null,
            "order": null,
            "overflow": null,
            "overflow_x": null,
            "overflow_y": null,
            "padding": null,
            "right": null,
            "top": null,
            "visibility": null,
            "width": null
          }
        },
        "af894e069bd242509339dd2717afe803": {
          "model_module": "@jupyter-widgets/controls",
          "model_name": "DescriptionStyleModel",
          "model_module_version": "1.5.0",
          "state": {
            "_model_module": "@jupyter-widgets/controls",
            "_model_module_version": "1.5.0",
            "_model_name": "DescriptionStyleModel",
            "_view_count": null,
            "_view_module": "@jupyter-widgets/base",
            "_view_module_version": "1.2.0",
            "_view_name": "StyleView",
            "description_width": ""
          }
        },
        "5339ac77812141598202f10482dc8d46": {
          "model_module": "@jupyter-widgets/base",
          "model_name": "LayoutModel",
          "model_module_version": "1.2.0",
          "state": {
            "_model_module": "@jupyter-widgets/base",
            "_model_module_version": "1.2.0",
            "_model_name": "LayoutModel",
            "_view_count": null,
            "_view_module": "@jupyter-widgets/base",
            "_view_module_version": "1.2.0",
            "_view_name": "LayoutView",
            "align_content": null,
            "align_items": null,
            "align_self": null,
            "border": null,
            "bottom": null,
            "display": null,
            "flex": null,
            "flex_flow": null,
            "grid_area": null,
            "grid_auto_columns": null,
            "grid_auto_flow": null,
            "grid_auto_rows": null,
            "grid_column": null,
            "grid_gap": null,
            "grid_row": null,
            "grid_template_areas": null,
            "grid_template_columns": null,
            "grid_template_rows": null,
            "height": null,
            "justify_content": null,
            "justify_items": null,
            "left": null,
            "margin": null,
            "max_height": null,
            "max_width": null,
            "min_height": null,
            "min_width": null,
            "object_fit": null,
            "object_position": null,
            "order": null,
            "overflow": null,
            "overflow_x": null,
            "overflow_y": null,
            "padding": null,
            "right": null,
            "top": null,
            "visibility": null,
            "width": null
          }
        },
        "e47a752da18c4a47a2e3fb0102b44ac8": {
          "model_module": "@jupyter-widgets/controls",
          "model_name": "ProgressStyleModel",
          "model_module_version": "1.5.0",
          "state": {
            "_model_module": "@jupyter-widgets/controls",
            "_model_module_version": "1.5.0",
            "_model_name": "ProgressStyleModel",
            "_view_count": null,
            "_view_module": "@jupyter-widgets/base",
            "_view_module_version": "1.2.0",
            "_view_name": "StyleView",
            "bar_color": null,
            "description_width": ""
          }
        },
        "b40474b6c35e4998be6d1463c303d139": {
          "model_module": "@jupyter-widgets/base",
          "model_name": "LayoutModel",
          "model_module_version": "1.2.0",
          "state": {
            "_model_module": "@jupyter-widgets/base",
            "_model_module_version": "1.2.0",
            "_model_name": "LayoutModel",
            "_view_count": null,
            "_view_module": "@jupyter-widgets/base",
            "_view_module_version": "1.2.0",
            "_view_name": "LayoutView",
            "align_content": null,
            "align_items": null,
            "align_self": null,
            "border": null,
            "bottom": null,
            "display": null,
            "flex": null,
            "flex_flow": null,
            "grid_area": null,
            "grid_auto_columns": null,
            "grid_auto_flow": null,
            "grid_auto_rows": null,
            "grid_column": null,
            "grid_gap": null,
            "grid_row": null,
            "grid_template_areas": null,
            "grid_template_columns": null,
            "grid_template_rows": null,
            "height": null,
            "justify_content": null,
            "justify_items": null,
            "left": null,
            "margin": null,
            "max_height": null,
            "max_width": null,
            "min_height": null,
            "min_width": null,
            "object_fit": null,
            "object_position": null,
            "order": null,
            "overflow": null,
            "overflow_x": null,
            "overflow_y": null,
            "padding": null,
            "right": null,
            "top": null,
            "visibility": null,
            "width": null
          }
        },
        "6c0d072041344621af9700005392fbb1": {
          "model_module": "@jupyter-widgets/controls",
          "model_name": "DescriptionStyleModel",
          "model_module_version": "1.5.0",
          "state": {
            "_model_module": "@jupyter-widgets/controls",
            "_model_module_version": "1.5.0",
            "_model_name": "DescriptionStyleModel",
            "_view_count": null,
            "_view_module": "@jupyter-widgets/base",
            "_view_module_version": "1.2.0",
            "_view_name": "StyleView",
            "description_width": ""
          }
        },
        "db7e3b9ac7f149299bd81854337825c7": {
          "model_module": "@jupyter-widgets/controls",
          "model_name": "HBoxModel",
          "model_module_version": "1.5.0",
          "state": {
            "_dom_classes": [],
            "_model_module": "@jupyter-widgets/controls",
            "_model_module_version": "1.5.0",
            "_model_name": "HBoxModel",
            "_view_count": null,
            "_view_module": "@jupyter-widgets/controls",
            "_view_module_version": "1.5.0",
            "_view_name": "HBoxView",
            "box_style": "",
            "children": [
              "IPY_MODEL_8e224e4f471247fea1cc52a4fd199dae",
              "IPY_MODEL_a29841f14b6e401abdd4f3432fea6152",
              "IPY_MODEL_446e41e4c6d3434a81f28281654272ec"
            ],
            "layout": "IPY_MODEL_e882c9d6c7504b13b63dbe7862df5d7b"
          }
        },
        "8e224e4f471247fea1cc52a4fd199dae": {
          "model_module": "@jupyter-widgets/controls",
          "model_name": "HTMLModel",
          "model_module_version": "1.5.0",
          "state": {
            "_dom_classes": [],
            "_model_module": "@jupyter-widgets/controls",
            "_model_module_version": "1.5.0",
            "_model_name": "HTMLModel",
            "_view_count": null,
            "_view_module": "@jupyter-widgets/controls",
            "_view_module_version": "1.5.0",
            "_view_name": "HTMLView",
            "description": "",
            "description_tooltip": null,
            "layout": "IPY_MODEL_bf706189352c4834975378db82d1443f",
            "placeholder": "​",
            "style": "IPY_MODEL_23b7f63322ef4d2999a8464bdcbc8f11",
            "value": "model.safetensors: 100%"
          }
        },
        "a29841f14b6e401abdd4f3432fea6152": {
          "model_module": "@jupyter-widgets/controls",
          "model_name": "FloatProgressModel",
          "model_module_version": "1.5.0",
          "state": {
            "_dom_classes": [],
            "_model_module": "@jupyter-widgets/controls",
            "_model_module_version": "1.5.0",
            "_model_name": "FloatProgressModel",
            "_view_count": null,
            "_view_module": "@jupyter-widgets/controls",
            "_view_module_version": "1.5.0",
            "_view_name": "ProgressView",
            "bar_style": "success",
            "description": "",
            "description_tooltip": null,
            "layout": "IPY_MODEL_5177cfc669484256b4810ebab4921d0f",
            "max": 435755784,
            "min": 0,
            "orientation": "horizontal",
            "style": "IPY_MODEL_a063f27785a34b34adcf807b3cc012cc",
            "value": 435755784
          }
        },
        "446e41e4c6d3434a81f28281654272ec": {
          "model_module": "@jupyter-widgets/controls",
          "model_name": "HTMLModel",
          "model_module_version": "1.5.0",
          "state": {
            "_dom_classes": [],
            "_model_module": "@jupyter-widgets/controls",
            "_model_module_version": "1.5.0",
            "_model_name": "HTMLModel",
            "_view_count": null,
            "_view_module": "@jupyter-widgets/controls",
            "_view_module_version": "1.5.0",
            "_view_name": "HTMLView",
            "description": "",
            "description_tooltip": null,
            "layout": "IPY_MODEL_1b803ba6d6f8495eb94dee2c1ab548f2",
            "placeholder": "​",
            "style": "IPY_MODEL_b018332ef2b1444a9f4279550aa5ad7b",
            "value": " 436M/436M [00:03&lt;00:00, 160MB/s]"
          }
        },
        "e882c9d6c7504b13b63dbe7862df5d7b": {
          "model_module": "@jupyter-widgets/base",
          "model_name": "LayoutModel",
          "model_module_version": "1.2.0",
          "state": {
            "_model_module": "@jupyter-widgets/base",
            "_model_module_version": "1.2.0",
            "_model_name": "LayoutModel",
            "_view_count": null,
            "_view_module": "@jupyter-widgets/base",
            "_view_module_version": "1.2.0",
            "_view_name": "LayoutView",
            "align_content": null,
            "align_items": null,
            "align_self": null,
            "border": null,
            "bottom": null,
            "display": null,
            "flex": null,
            "flex_flow": null,
            "grid_area": null,
            "grid_auto_columns": null,
            "grid_auto_flow": null,
            "grid_auto_rows": null,
            "grid_column": null,
            "grid_gap": null,
            "grid_row": null,
            "grid_template_areas": null,
            "grid_template_columns": null,
            "grid_template_rows": null,
            "height": null,
            "justify_content": null,
            "justify_items": null,
            "left": null,
            "margin": null,
            "max_height": null,
            "max_width": null,
            "min_height": null,
            "min_width": null,
            "object_fit": null,
            "object_position": null,
            "order": null,
            "overflow": null,
            "overflow_x": null,
            "overflow_y": null,
            "padding": null,
            "right": null,
            "top": null,
            "visibility": null,
            "width": null
          }
        },
        "bf706189352c4834975378db82d1443f": {
          "model_module": "@jupyter-widgets/base",
          "model_name": "LayoutModel",
          "model_module_version": "1.2.0",
          "state": {
            "_model_module": "@jupyter-widgets/base",
            "_model_module_version": "1.2.0",
            "_model_name": "LayoutModel",
            "_view_count": null,
            "_view_module": "@jupyter-widgets/base",
            "_view_module_version": "1.2.0",
            "_view_name": "LayoutView",
            "align_content": null,
            "align_items": null,
            "align_self": null,
            "border": null,
            "bottom": null,
            "display": null,
            "flex": null,
            "flex_flow": null,
            "grid_area": null,
            "grid_auto_columns": null,
            "grid_auto_flow": null,
            "grid_auto_rows": null,
            "grid_column": null,
            "grid_gap": null,
            "grid_row": null,
            "grid_template_areas": null,
            "grid_template_columns": null,
            "grid_template_rows": null,
            "height": null,
            "justify_content": null,
            "justify_items": null,
            "left": null,
            "margin": null,
            "max_height": null,
            "max_width": null,
            "min_height": null,
            "min_width": null,
            "object_fit": null,
            "object_position": null,
            "order": null,
            "overflow": null,
            "overflow_x": null,
            "overflow_y": null,
            "padding": null,
            "right": null,
            "top": null,
            "visibility": null,
            "width": null
          }
        },
        "23b7f63322ef4d2999a8464bdcbc8f11": {
          "model_module": "@jupyter-widgets/controls",
          "model_name": "DescriptionStyleModel",
          "model_module_version": "1.5.0",
          "state": {
            "_model_module": "@jupyter-widgets/controls",
            "_model_module_version": "1.5.0",
            "_model_name": "DescriptionStyleModel",
            "_view_count": null,
            "_view_module": "@jupyter-widgets/base",
            "_view_module_version": "1.2.0",
            "_view_name": "StyleView",
            "description_width": ""
          }
        },
        "5177cfc669484256b4810ebab4921d0f": {
          "model_module": "@jupyter-widgets/base",
          "model_name": "LayoutModel",
          "model_module_version": "1.2.0",
          "state": {
            "_model_module": "@jupyter-widgets/base",
            "_model_module_version": "1.2.0",
            "_model_name": "LayoutModel",
            "_view_count": null,
            "_view_module": "@jupyter-widgets/base",
            "_view_module_version": "1.2.0",
            "_view_name": "LayoutView",
            "align_content": null,
            "align_items": null,
            "align_self": null,
            "border": null,
            "bottom": null,
            "display": null,
            "flex": null,
            "flex_flow": null,
            "grid_area": null,
            "grid_auto_columns": null,
            "grid_auto_flow": null,
            "grid_auto_rows": null,
            "grid_column": null,
            "grid_gap": null,
            "grid_row": null,
            "grid_template_areas": null,
            "grid_template_columns": null,
            "grid_template_rows": null,
            "height": null,
            "justify_content": null,
            "justify_items": null,
            "left": null,
            "margin": null,
            "max_height": null,
            "max_width": null,
            "min_height": null,
            "min_width": null,
            "object_fit": null,
            "object_position": null,
            "order": null,
            "overflow": null,
            "overflow_x": null,
            "overflow_y": null,
            "padding": null,
            "right": null,
            "top": null,
            "visibility": null,
            "width": null
          }
        },
        "a063f27785a34b34adcf807b3cc012cc": {
          "model_module": "@jupyter-widgets/controls",
          "model_name": "ProgressStyleModel",
          "model_module_version": "1.5.0",
          "state": {
            "_model_module": "@jupyter-widgets/controls",
            "_model_module_version": "1.5.0",
            "_model_name": "ProgressStyleModel",
            "_view_count": null,
            "_view_module": "@jupyter-widgets/base",
            "_view_module_version": "1.2.0",
            "_view_name": "StyleView",
            "bar_color": null,
            "description_width": ""
          }
        },
        "1b803ba6d6f8495eb94dee2c1ab548f2": {
          "model_module": "@jupyter-widgets/base",
          "model_name": "LayoutModel",
          "model_module_version": "1.2.0",
          "state": {
            "_model_module": "@jupyter-widgets/base",
            "_model_module_version": "1.2.0",
            "_model_name": "LayoutModel",
            "_view_count": null,
            "_view_module": "@jupyter-widgets/base",
            "_view_module_version": "1.2.0",
            "_view_name": "LayoutView",
            "align_content": null,
            "align_items": null,
            "align_self": null,
            "border": null,
            "bottom": null,
            "display": null,
            "flex": null,
            "flex_flow": null,
            "grid_area": null,
            "grid_auto_columns": null,
            "grid_auto_flow": null,
            "grid_auto_rows": null,
            "grid_column": null,
            "grid_gap": null,
            "grid_row": null,
            "grid_template_areas": null,
            "grid_template_columns": null,
            "grid_template_rows": null,
            "height": null,
            "justify_content": null,
            "justify_items": null,
            "left": null,
            "margin": null,
            "max_height": null,
            "max_width": null,
            "min_height": null,
            "min_width": null,
            "object_fit": null,
            "object_position": null,
            "order": null,
            "overflow": null,
            "overflow_x": null,
            "overflow_y": null,
            "padding": null,
            "right": null,
            "top": null,
            "visibility": null,
            "width": null
          }
        },
        "b018332ef2b1444a9f4279550aa5ad7b": {
          "model_module": "@jupyter-widgets/controls",
          "model_name": "DescriptionStyleModel",
          "model_module_version": "1.5.0",
          "state": {
            "_model_module": "@jupyter-widgets/controls",
            "_model_module_version": "1.5.0",
            "_model_name": "DescriptionStyleModel",
            "_view_count": null,
            "_view_module": "@jupyter-widgets/base",
            "_view_module_version": "1.2.0",
            "_view_name": "StyleView",
            "description_width": ""
          }
        }
      }
    }
  },
  "nbformat": 4,
  "nbformat_minor": 0
}